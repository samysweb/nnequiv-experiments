{
 "cells": [
  {
   "cell_type": "code",
   "execution_count": 1,
   "metadata": {},
   "outputs": [],
   "source": [
    "import parse\n",
    "import analyse\n",
    "import matplotlib.pyplot as plt\n",
    "import numpy as np"
   ]
  },
  {
   "cell_type": "code",
   "execution_count": 2,
   "metadata": {},
   "outputs": [],
   "source": [
    "benchmarks = [\n",
    "\"results/ACASXU_run2a_1_1_batch_2000-retrain-1-0.05\",\n",
    "\"results/ACASXU_run2a_1_1_batch_2000-student-1-0.05\",\n",
    "\"results/ACASXU_run2a_1_2_batch_2000-retrain-1-0.05\",\n",
    "\"results/ACASXU_run2a_1_2_batch_2000-student-1-0.05\",\n",
    "\"results/mnist8x8_100_80_60_40_20_10_eps1-9000.2-15\",\n",
    "\"results/mnist8x8_student_36_10-9000.7-top\",\n",
    "\"results/mnist8x8_student_12_12_12_10-9000.7-top\",\n",
    "\"results/mnist8x8_100_80_60_40_20_10-9200.3-top\",\n",
    "\"results/mnist8x8_100_200_300_200_100_10-9200.2-top\"\n",
    "]\n",
    "variants = [\n",
    "    'REFINE_UNTIL_LAST_OPTIMISTIC1',\n",
    "    'CEGAR_OPTIMAL'\n",
    "]\n",
    "commit = '3ad4254'\n",
    "out_handlers=[parse.CegarOptimal]\n",
    "err_handlers=[parse.RunLim]\n",
    "both_handlers=[parse.NNEquivResultHandler]\n",
    "num_runs=1"
   ]
  },
  {
   "cell_type": "code",
   "execution_count": 3,
   "metadata": {},
   "outputs": [],
   "source": [
    "variant_runs = {}\n",
    "for v in variants:\n",
    "    variant_runs[v]={}\n",
    "    for b in benchmarks:\n",
    "        variant_runs[v][b]=[]\n",
    "        for i in range(1,num_runs+1):\n",
    "            try:\n",
    "                variant_runs[v][b].append(\n",
    "                    parse.BenchmarkRun(\n",
    "                        \"../\"+b+\"-\"+v+\"/\"+str(i)+\"/nnequiv-\"+commit+\"/stdout.log\",\n",
    "                        \"../\"+b+\"-\"+v+\"/\"+str(i)+\"/nnequiv-\"+commit+\"/stderr.log\",\n",
    "                        out_handlers=out_handlers,\n",
    "                        err_handlers=err_handlers,\n",
    "                        both_handlers=both_handlers\n",
    "                    )\n",
    "                )\n",
    "            except FileNotFoundError:\n",
    "                print(f\"Count not find \"+b+\"-\"+v+\"/\"+str(i)+\"/nnequiv-\"+commit+\"/stdout.log\")"
   ]
  },
  {
   "cell_type": "code",
   "execution_count": 11,
   "metadata": {},
   "outputs": [],
   "source": [
    "variants = [\n",
    "    '',\n",
    "]\n",
    "commit = '04f3bfb'\n",
    "out_handlers=[]\n",
    "err_handlers=[parse.RunLim]\n",
    "both_handlers=[parse.BueningResultHandler]\n",
    "num_runs=3"
   ]
  },
  {
   "cell_type": "code",
   "execution_count": 12,
   "metadata": {},
   "outputs": [
    {
     "name": "stdout",
     "output_type": "stream",
     "text": [
      "Did not get all runlim values!\n",
      "Count not find results/ACASXU_run2a_1_2_batch_2000-retrain-1-0.05-/3/buening-04f3bfb/stdout.log\n"
     ]
    }
   ],
   "source": [
    "for v in variants:\n",
    "    variant_runs[v]={}\n",
    "    for b in benchmarks:\n",
    "        variant_runs[v][b]=[]\n",
    "        for i in range(1,num_runs+1):\n",
    "            try:\n",
    "                variant_runs[v][b].append(\n",
    "                    parse.BenchmarkRun(\n",
    "                        \"../\"+b+\"-\"+v+\"/\"+str(i)+\"/buening-\"+commit+\"/stdout.log\",\n",
    "                        \"../\"+b+\"-\"+v+\"/\"+str(i)+\"/buening-\"+commit+\"/stderr.log\",\n",
    "                        out_handlers=out_handlers,\n",
    "                        err_handlers=err_handlers,\n",
    "                        both_handlers=both_handlers\n",
    "                    )\n",
    "                )\n",
    "            except (FileNotFoundError,Exception):\n",
    "                print(f\"Count not find \"+b+\"-\"+v+\"/\"+str(i)+\"/buening-\"+commit+\"/stdout.log\")"
   ]
  },
  {
   "cell_type": "code",
   "execution_count": 13,
   "metadata": {},
   "outputs": [
    {
     "name": "stdout",
     "output_type": "stream",
     "text": [
      "167.45\n",
      "10800.1\n"
     ]
    },
    {
     "ename": "KeyError",
     "evalue": "'noop'",
     "output_type": "error",
     "traceback": [
      "\u001b[0;31m---------------------------------------------------------------------------\u001b[0m",
      "\u001b[0;31mKeyError\u001b[0m                                  Traceback (most recent call last)",
      "\u001b[0;32m<ipython-input-13-b13f61046941>\u001b[0m in \u001b[0;36m<module>\u001b[0;34m\u001b[0m\n\u001b[1;32m     12\u001b[0m \u001b[0mprint\u001b[0m\u001b[0;34m(\u001b[0m\u001b[0mvariants_median\u001b[0m\u001b[0;34m[\u001b[0m\u001b[0;34m\"REFINE_UNTIL_LAST_OPTIMISTIC1\"\u001b[0m\u001b[0;34m]\u001b[0m\u001b[0;34m[\u001b[0m\u001b[0;34m\"results/ACASXU_run2a_1_1_batch_2000-retrain-1-0.05\"\u001b[0m\u001b[0;34m]\u001b[0m\u001b[0;34m.\u001b[0m\u001b[0mget_val\u001b[0m\u001b[0;34m(\u001b[0m\u001b[0;34m[\u001b[0m\u001b[0;34m'runlim'\u001b[0m\u001b[0;34m,\u001b[0m\u001b[0;34m'real'\u001b[0m\u001b[0;34m]\u001b[0m\u001b[0;34m)\u001b[0m\u001b[0;34m)\u001b[0m\u001b[0;34m\u001b[0m\u001b[0;34m\u001b[0m\u001b[0m\n\u001b[1;32m     13\u001b[0m \u001b[0mprint\u001b[0m\u001b[0;34m(\u001b[0m\u001b[0mvariants_median\u001b[0m\u001b[0;34m[\u001b[0m\u001b[0;34m\"\"\u001b[0m\u001b[0;34m]\u001b[0m\u001b[0;34m[\u001b[0m\u001b[0;34m\"results/ACASXU_run2a_1_1_batch_2000-retrain-1-0.05\"\u001b[0m\u001b[0;34m]\u001b[0m\u001b[0;34m.\u001b[0m\u001b[0mget_val\u001b[0m\u001b[0;34m(\u001b[0m\u001b[0;34m[\u001b[0m\u001b[0;34m'runlim'\u001b[0m\u001b[0;34m,\u001b[0m\u001b[0;34m'real'\u001b[0m\u001b[0;34m]\u001b[0m\u001b[0;34m)\u001b[0m\u001b[0;34m)\u001b[0m\u001b[0;34m\u001b[0m\u001b[0;34m\u001b[0m\u001b[0m\n\u001b[0;32m---> 14\u001b[0;31m \u001b[0mprint\u001b[0m\u001b[0;34m(\u001b[0m\u001b[0mvariants_median\u001b[0m\u001b[0;34m[\u001b[0m\u001b[0;34m\"noop\"\u001b[0m\u001b[0;34m]\u001b[0m\u001b[0;34m[\u001b[0m\u001b[0;34m\"results/ACASXU_run2a_1_1_batch_2000-retrain-1-0.05\"\u001b[0m\u001b[0;34m]\u001b[0m\u001b[0;34m.\u001b[0m\u001b[0mget_val\u001b[0m\u001b[0;34m(\u001b[0m\u001b[0;34m[\u001b[0m\u001b[0;34m'runlim'\u001b[0m\u001b[0;34m,\u001b[0m\u001b[0;34m'real'\u001b[0m\u001b[0;34m]\u001b[0m\u001b[0;34m)\u001b[0m\u001b[0;34m)\u001b[0m\u001b[0;34m\u001b[0m\u001b[0;34m\u001b[0m\u001b[0m\n\u001b[0m",
      "\u001b[0;31mKeyError\u001b[0m: 'noop'"
     ]
    }
   ],
   "source": [
    "variants = [\n",
    "    'REFINE_UNTIL_LAST_OPTIMISTIC1',\n",
    "    'CEGAR_OPTIMAL',\n",
    "    ''\n",
    "]\n",
    "variants_median = {}\n",
    "for v in variants:\n",
    "    variants_median[v]={}\n",
    "    for b in benchmarks:\n",
    "        variants_median[v][b]=parse.AggregateRun(variant_runs[v][b])\n",
    "\n",
    "print(variants_median[\"REFINE_UNTIL_LAST_OPTIMISTIC1\"][\"results/ACASXU_run2a_1_1_batch_2000-retrain-1-0.05\"].get_val(['runlim','real']))\n",
    "print(variants_median[\"\"][\"results/ACASXU_run2a_1_1_batch_2000-retrain-1-0.05\"].get_val(['runlim','real']))\n",
    "print(variants_median[\"noop\"][\"results/ACASXU_run2a_1_1_batch_2000-retrain-1-0.05\"].get_val(['runlim','real']))"
   ]
  },
  {
   "cell_type": "code",
   "execution_count": 14,
   "metadata": {},
   "outputs": [
    {
     "data": {
      "text/plain": [
       "dict_keys(['REFINE_UNTIL_LAST_OPTIMISTIC1', 'CEGAR_OPTIMAL', ''])"
      ]
     },
     "execution_count": 14,
     "metadata": {},
     "output_type": "execute_result"
    }
   ],
   "source": [
    "variants_median.keys()"
   ]
  },
  {
   "cell_type": "code",
   "execution_count": 15,
   "metadata": {},
   "outputs": [],
   "source": [
    "import pandas as pd"
   ]
  },
  {
   "cell_type": "code",
   "execution_count": 16,
   "metadata": {},
   "outputs": [
    {
     "name": "stdout",
     "output_type": "stream",
     "text": [
      "['Name', 'NNEquiv', 'NNEquivOpt', 'Kleine Büning']\n"
     ]
    },
    {
     "data": {
      "text/html": [
       "<div>\n",
       "<style scoped>\n",
       "    .dataframe tbody tr th:only-of-type {\n",
       "        vertical-align: middle;\n",
       "    }\n",
       "\n",
       "    .dataframe tbody tr th {\n",
       "        vertical-align: top;\n",
       "    }\n",
       "\n",
       "    .dataframe thead th {\n",
       "        text-align: right;\n",
       "    }\n",
       "</style>\n",
       "<table border=\"1\" class=\"dataframe\">\n",
       "  <thead>\n",
       "    <tr style=\"text-align: right;\">\n",
       "      <th></th>\n",
       "      <th>Name</th>\n",
       "      <th>NNEquiv</th>\n",
       "      <th>NNEquivOpt</th>\n",
       "      <th>Kleine Büning</th>\n",
       "    </tr>\n",
       "  </thead>\n",
       "  <tbody>\n",
       "    <tr>\n",
       "      <th>0</th>\n",
       "      <td>ACAS_1_1-retrain</td>\n",
       "      <td>167.45</td>\n",
       "      <td>51.483027</td>\n",
       "      <td>10800.100</td>\n",
       "    </tr>\n",
       "    <tr>\n",
       "      <th>1</th>\n",
       "      <td>ACAS_1_1-student</td>\n",
       "      <td>74.52</td>\n",
       "      <td>28.728671</td>\n",
       "      <td>10800.120</td>\n",
       "    </tr>\n",
       "    <tr>\n",
       "      <th>2</th>\n",
       "      <td>ACAS_1_2-retrain</td>\n",
       "      <td>315.13</td>\n",
       "      <td>102.306155</td>\n",
       "      <td>10800.115</td>\n",
       "    </tr>\n",
       "    <tr>\n",
       "      <th>3</th>\n",
       "      <td>ACAS_1_2-student</td>\n",
       "      <td>105.18</td>\n",
       "      <td>41.018371</td>\n",
       "      <td>320.070</td>\n",
       "    </tr>\n",
       "    <tr>\n",
       "      <th>4</th>\n",
       "      <td>MNIST_large-epsilon</td>\n",
       "      <td>33.43</td>\n",
       "      <td>14.774420</td>\n",
       "      <td>19.970</td>\n",
       "    </tr>\n",
       "    <tr>\n",
       "      <th>5</th>\n",
       "      <td>MNIST_small-top</td>\n",
       "      <td>14.39</td>\n",
       "      <td>6.223243</td>\n",
       "      <td>3.510</td>\n",
       "    </tr>\n",
       "    <tr>\n",
       "      <th>6</th>\n",
       "      <td>MNIST_medium-top</td>\n",
       "      <td>96.41</td>\n",
       "      <td>50.790681</td>\n",
       "      <td>3.850</td>\n",
       "    </tr>\n",
       "    <tr>\n",
       "      <th>7</th>\n",
       "      <td>MNIST_large-top</td>\n",
       "      <td>11.41</td>\n",
       "      <td>5.348326</td>\n",
       "      <td>25.850</td>\n",
       "    </tr>\n",
       "    <tr>\n",
       "      <th>8</th>\n",
       "      <td>MNIST_larger-top</td>\n",
       "      <td>715.87</td>\n",
       "      <td>334.426940</td>\n",
       "      <td>386.040</td>\n",
       "    </tr>\n",
       "  </tbody>\n",
       "</table>\n",
       "</div>"
      ],
      "text/plain": [
       "                  Name  NNEquiv  NNEquivOpt  Kleine Büning\n",
       "0     ACAS_1_1-retrain   167.45   51.483027      10800.100\n",
       "1     ACAS_1_1-student    74.52   28.728671      10800.120\n",
       "2     ACAS_1_2-retrain   315.13  102.306155      10800.115\n",
       "3     ACAS_1_2-student   105.18   41.018371        320.070\n",
       "4  MNIST_large-epsilon    33.43   14.774420         19.970\n",
       "5      MNIST_small-top    14.39    6.223243          3.510\n",
       "6     MNIST_medium-top    96.41   50.790681          3.850\n",
       "7      MNIST_large-top    11.41    5.348326         25.850\n",
       "8     MNIST_larger-top   715.87  334.426940        386.040"
      ]
     },
     "execution_count": 16,
     "metadata": {},
     "output_type": "execute_result"
    }
   ],
   "source": [
    "benchmarks_labels = {\n",
    "\"results/ACASXU_run2a_1_1_batch_2000-retrain-1-0.05\":\"ACAS_1_1-retrain\",\n",
    "\"results/ACASXU_run2a_1_1_batch_2000-student-1-0.05\":\"ACAS_1_1-student\",\n",
    "\"results/ACASXU_run2a_1_2_batch_2000-retrain-1-0.05\":\"ACAS_1_2-retrain\",\n",
    "\"results/ACASXU_run2a_1_2_batch_2000-student-1-0.05\":\"ACAS_1_2-student\",\n",
    "\"results/mnist8x8_100_80_60_40_20_10_eps1-9000.2-15\":\"MNIST_large-epsilon\",\n",
    "\"results/mnist8x8_student_36_10-9000.7-top\":\"MNIST_small-top\",\n",
    "\"results/mnist8x8_student_12_12_12_10-9000.7-top\":\"MNIST_medium-top\",\n",
    "\"results/mnist8x8_100_80_60_40_20_10-9200.3-top\":\"MNIST_large-top\",\n",
    "\"results/mnist8x8_100_200_300_200_100_10-9200.2-top\":\"MNIST_larger-top\"\n",
    "}\n",
    "\n",
    "#columns = [\"Name\", \"Status\", \"Equiv\", \"NNEquiv\", \"Kleine Büning\"]\n",
    "columns = [\"Name\", \"NNEquiv\", \"NNEquivOpt\", \"Kleine Büning\"]\n",
    "data = []\n",
    "for b in benchmarks:\n",
    "    cur_row = []\n",
    "    cur_row.append(benchmarks_labels[b])\n",
    "    #cur_row.append(\"\")\n",
    "    #cur_row.append(\"\")\n",
    "    #cur_row[1]+=\"/\"+str(variants_median[v][b].get_val(['result','status'],strategy='A')[0])\n",
    "    #cur_row[2]+=\"/\"+str(variants_median[v][b].get_val(['result','is_equiv'],strategy='A')[0])\n",
    "    cur_row.append(variants_median['REFINE_UNTIL_LAST_OPTIMISTIC1'][b].get_val(['runlim','real']))\n",
    "    cur_row.append(variants_median['CEGAR_OPTIMAL'][b].get_val(['cegaropt','opt']))\n",
    "    cur_row.append(variants_median[''][b].get_val(['runlim','real']))\n",
    "    data.append(cur_row)\n",
    "print(columns)\n",
    "table = pd.DataFrame(data, columns=columns)\n",
    "table"
   ]
  },
  {
   "cell_type": "code",
   "execution_count": 17,
   "metadata": {},
   "outputs": [
    {
     "name": "stdout",
     "output_type": "stream",
     "text": [
      "\\begin{tabular}{lrrr}\n",
      "\\toprule\n",
      "                Name &  NNEquiv &  NNEquivOpt &  Kleine Büning \\\\\n",
      "\\midrule\n",
      "    ACAS\\_1\\_1-retrain &   167.45 &   51.483027 &      10800.100 \\\\\n",
      "    ACAS\\_1\\_1-student &    74.52 &   28.728671 &      10800.120 \\\\\n",
      "    ACAS\\_1\\_2-retrain &   315.13 &  102.306155 &      10800.115 \\\\\n",
      "    ACAS\\_1\\_2-student &   105.18 &   41.018371 &        320.070 \\\\\n",
      " MNIST\\_large-epsilon &    33.43 &   14.774420 &         19.970 \\\\\n",
      "     MNIST\\_small-top &    14.39 &    6.223243 &          3.510 \\\\\n",
      "    MNIST\\_medium-top &    96.41 &   50.790681 &          3.850 \\\\\n",
      "     MNIST\\_large-top &    11.41 &    5.348326 &         25.850 \\\\\n",
      "    MNIST\\_larger-top &   715.87 &  334.426940 &        386.040 \\\\\n",
      "\\bottomrule\n",
      "\\end{tabular}\n",
      "\n"
     ]
    }
   ],
   "source": [
    "print(table.to_latex(index=False))"
   ]
  },
  {
   "cell_type": "code",
   "execution_count": null,
   "metadata": {},
   "outputs": [],
   "source": []
  }
 ],
 "metadata": {
  "kernelspec": {
   "display_name": "Python 3",
   "language": "python",
   "name": "python3"
  },
  "language_info": {
   "codemirror_mode": {
    "name": "ipython",
    "version": 3
   },
   "file_extension": ".py",
   "mimetype": "text/x-python",
   "name": "python",
   "nbconvert_exporter": "python",
   "pygments_lexer": "ipython3",
   "version": "3.7.3"
  }
 },
 "nbformat": 4,
 "nbformat_minor": 2
}
