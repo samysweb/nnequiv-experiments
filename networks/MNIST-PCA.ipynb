{
 "cells": [
  {
   "cell_type": "code",
   "execution_count": 1,
   "metadata": {},
   "outputs": [],
   "source": [
    "import tensorflow as tf\n",
    "from tensorflow import keras\n",
    "from tensorflow.keras import layers\n",
    "import numpy as np\n",
    "import sklearn\n",
    "from skimage.transform import resize"
   ]
  },
  {
   "cell_type": "code",
   "execution_count": 2,
   "metadata": {},
   "outputs": [],
   "source": [
    "batch_size = 64\n",
    "(x_train, y_train), (x_test, y_test) = keras.datasets.mnist.load_data()"
   ]
  },
  {
   "cell_type": "code",
   "execution_count": 3,
   "metadata": {},
   "outputs": [],
   "source": [
    "def resize_img(data):\n",
    "    output = np.zeros((data.shape[0],64))\n",
    "    for i, img in enumerate(data):\n",
    "        output[i]=resize(img, (8,8)).flatten()\n",
    "    return output\n",
    "\n",
    "x_train_small = resize_img(x_train)\n",
    "y_train_small = resize_img(y_train)\n",
    "x_test_small = resize_img(x_test)\n",
    "y_test_small = resize_img(y_test)"
   ]
  },
  {
   "cell_type": "code",
   "execution_count": 4,
   "metadata": {},
   "outputs": [],
   "source": [
    "# NORMALIZE!\n",
    "x_train = x_train_small.astype(\"float32\") * 16.0\n",
    "x_train = np.reshape(x_train, (-1, 64))\n",
    "\n",
    "x_test = x_test_small.astype(\"float32\") * 16.0\n",
    "x_test = np.reshape(x_test, (-1, 64))"
   ]
  },
  {
   "cell_type": "code",
   "execution_count": 5,
   "metadata": {},
   "outputs": [
    {
     "data": {
      "text/plain": [
       "15.87451"
      ]
     },
     "execution_count": 5,
     "metadata": {},
     "output_type": "execute_result"
    }
   ],
   "source": [
    "np.max(x_test)"
   ]
  },
  {
   "cell_type": "code",
   "execution_count": 6,
   "metadata": {},
   "outputs": [],
   "source": [
    "from sklearn.decomposition import PCA"
   ]
  },
  {
   "cell_type": "code",
   "execution_count": 7,
   "metadata": {},
   "outputs": [],
   "source": [
    "from tensorflow.python.keras.models import load_model\n",
    "import onnx\n",
    "import keras2onnx"
   ]
  },
  {
   "cell_type": "code",
   "execution_count": 10,
   "metadata": {
    "scrolled": true
   },
   "outputs": [],
   "source": [
    "teacher_model = load_model('mnist8x8_100_80_60_40_20_10_eps1.h5')\n",
    "student_model = load_model('mnist8x8_100_80_60_40_20_10_eps1.h5')"
   ]
  },
  {
   "cell_type": "code",
   "execution_count": 11,
   "metadata": {},
   "outputs": [
    {
     "ename": "FileNotFoundError",
     "evalue": "[Errno 2] No such file or directory: 'to_verify.pickle'",
     "output_type": "error",
     "traceback": [
      "\u001b[0;31m---------------------------------------------------------------------------\u001b[0m",
      "\u001b[0;31mFileNotFoundError\u001b[0m                         Traceback (most recent call last)",
      "\u001b[0;32m<ipython-input-11-218951170ad5>\u001b[0m in \u001b[0;36m<module>\u001b[0;34m\u001b[0m\n\u001b[1;32m      1\u001b[0m \u001b[0;32mimport\u001b[0m \u001b[0mpickle\u001b[0m\u001b[0;34m\u001b[0m\u001b[0;34m\u001b[0m\u001b[0m\n\u001b[0;32m----> 2\u001b[0;31m \u001b[0mproperties\u001b[0m \u001b[0;34m=\u001b[0m \u001b[0mpickle\u001b[0m\u001b[0;34m.\u001b[0m\u001b[0mload\u001b[0m\u001b[0;34m(\u001b[0m\u001b[0mopen\u001b[0m\u001b[0;34m(\u001b[0m\u001b[0;34m\"to_verify.pickle\"\u001b[0m\u001b[0;34m,\u001b[0m\u001b[0;34m\"rb\"\u001b[0m\u001b[0;34m)\u001b[0m\u001b[0;34m)\u001b[0m\u001b[0;34m\u001b[0m\u001b[0;34m\u001b[0m\u001b[0m\n\u001b[0m",
      "\u001b[0;31mFileNotFoundError\u001b[0m: [Errno 2] No such file or directory: 'to_verify.pickle'"
     ]
    }
   ],
   "source": [
    "import pickle\n",
    "properties = pickle.load(open(\"to_verify.pickle\",\"rb\"))"
   ]
  },
  {
   "cell_type": "code",
   "execution_count": 14,
   "metadata": {},
   "outputs": [],
   "source": [
    "import copy\n",
    "from keras.layers import Concatenate,Dense\n",
    "\n",
    "def build_small_input_net(dim, x_train, x_test, y_test, teacher, student):\n",
    "    pca = sklearn.decomposition.PCA(n_components=dim,whiten=True)\n",
    "    pca.fit(x_train)\n",
    "    print(f\"Explained Variance: {np.sum(pca.explained_variance_ratio_)}\")\n",
    "    \n",
    "    def weight_mat_init(shape, dtype=None):\n",
    "        assert len(shape)==2 and (shape[0],shape[1])==pca.components_.shape, f\"{shape},{pca.components_.shape}\"\n",
    "        return pca.components_\n",
    "    \n",
    "    layers = [\n",
    "            keras.Input(shape=(dim,)),\n",
    "            Dense(64, activation='linear', use_bias=False, trainable=False, kernel_initializer=weight_mat_init, name=\"pca\")\n",
    "        ]\n",
    "    x_test_small = pca.transform(x_test)\n",
    "    print(\"Teacher...\")\n",
    "    teacher_layers = copy.copy(layers)\n",
    "    for l in teacher.layers:\n",
    "        teacher_layers.append(l)\n",
    "    pca_teacher_model = keras.Sequential(\n",
    "        teacher_layers,\n",
    "        name=\"pca_teacher\",\n",
    "    )\n",
    "    pca_teacher_model.compile(loss=keras.losses.SparseCategoricalCrossentropy(from_logits=True),\n",
    "    metrics=[keras.metrics.SparseCategoricalAccuracy()])\n",
    "    pca_teacher_model.summary()\n",
    "    pca_teacher_model.evaluate(x_test_small, y_test)\n",
    "    print(\"Student...\")\n",
    "    student_layers = copy.copy(layers)\n",
    "    for l in student.layers:\n",
    "        student_layers.append(l)\n",
    "    pca_student_model = keras.Sequential(student_layers, name=\"pca_student\")\n",
    "    pca_student_model.compile(loss=keras.losses.SparseCategoricalCrossentropy(from_logits=True),\n",
    "    metrics=[keras.metrics.SparseCategoricalAccuracy()])\n",
    "    pca_student_model.summary()\n",
    "    pca_student_model.evaluate(x_test_small, y_test)\n",
    "    return pca_teacher_model, pca_student_model, pca"
   ]
  },
  {
   "cell_type": "code",
   "execution_count": 16,
   "metadata": {},
   "outputs": [
    {
     "name": "stdout",
     "output_type": "stream",
     "text": [
      "Explained Variance: 0.9995889287025757\n",
      "Teacher...\n",
      "Model: \"pca_teacher\"\n",
      "_________________________________________________________________\n",
      "Layer (type)                 Output Shape              Param #   \n",
      "=================================================================\n",
      "pca (Dense)                  (None, 64)                3200      \n",
      "_________________________________________________________________\n",
      "dense (Dense)                (None, 100)               6500      \n",
      "_________________________________________________________________\n",
      "dense_1 (Dense)              (None, 80)                8080      \n",
      "_________________________________________________________________\n",
      "dense_2 (Dense)              (None, 60)                4860      \n",
      "_________________________________________________________________\n",
      "dense_3 (Dense)              (None, 40)                2440      \n",
      "_________________________________________________________________\n",
      "dense_4 (Dense)              (None, 20)                820       \n",
      "_________________________________________________________________\n",
      "dense_5 (Dense)              (None, 10)                210       \n",
      "=================================================================\n",
      "Total params: 26,110\n",
      "Trainable params: 22,910\n",
      "Non-trainable params: 3,200\n",
      "_________________________________________________________________\n",
      "313/313 [==============================] - 0s 1ms/step - loss: 1.8082 - sparse_categorical_accuracy: 0.5352\n",
      "Student...\n",
      "Model: \"pca_student\"\n",
      "_________________________________________________________________\n",
      "Layer (type)                 Output Shape              Param #   \n",
      "=================================================================\n",
      "pca (Dense)                  (None, 64)                3200      \n",
      "_________________________________________________________________\n",
      "dense (Dense)                (None, 100)               6500      \n",
      "_________________________________________________________________\n",
      "dense_1 (Dense)              (None, 80)                8080      \n",
      "_________________________________________________________________\n",
      "dense_2 (Dense)              (None, 60)                4860      \n",
      "_________________________________________________________________\n",
      "dense_3 (Dense)              (None, 40)                2440      \n",
      "_________________________________________________________________\n",
      "dense_4 (Dense)              (None, 20)                820       \n",
      "_________________________________________________________________\n",
      "dense_5 (Dense)              (None, 10)                210       \n",
      "=================================================================\n",
      "Total params: 26,110\n",
      "Trainable params: 22,910\n",
      "Non-trainable params: 3,200\n",
      "_________________________________________________________________\n",
      "313/313 [==============================] - 1s 2ms/step - loss: 1.8082 - sparse_categorical_accuracy: 0.5352\n"
     ]
    }
   ],
   "source": [
    "res=build_small_input_net(50, x_train_small, x_test_small, y_test, teacher_model, student_model)\n",
    "    "
   ]
  },
  {
   "cell_type": "code",
   "execution_count": 18,
   "metadata": {},
   "outputs": [],
   "source": [
    "teacher, student, pca = res"
   ]
  },
  {
   "cell_type": "code",
   "execution_count": 19,
   "metadata": {},
   "outputs": [],
   "source": [
    "class Distiller(keras.Model):\n",
    "    def __init__(self, student, teacher):\n",
    "        super(Distiller, self).__init__()\n",
    "        self.teacher = teacher\n",
    "        self.student = student\n",
    "\n",
    "    def compile(\n",
    "        self,\n",
    "        optimizer,\n",
    "        metrics,\n",
    "        student_loss_fn,\n",
    "        distillation_loss_fn,\n",
    "        alpha=0.1,\n",
    "        temperature=3,\n",
    "    ):\n",
    "        \"\"\" Configure the distiller.\n",
    "        Args:\n",
    "            optimizer: Keras optimizer for the student weights\n",
    "            metrics: Keras metrics for evaluation\n",
    "            student_loss_fn: Loss function of difference between student\n",
    "                predictions and ground-truth\n",
    "            distillation_loss_fn: Loss function of difference between soft\n",
    "                student predictions and soft teacher predictions\n",
    "            alpha: weight to student_loss_fn and 1-alpha to distillation_loss_fn\n",
    "            temperature: Temperature for softening probability distributions.\n",
    "                Larger temperature gives softer distributions.\n",
    "        \"\"\"\n",
    "        super(Distiller, self).compile(optimizer=optimizer, metrics=metrics)\n",
    "        self.student_loss_fn = student_loss_fn\n",
    "        self.distillation_loss_fn = distillation_loss_fn\n",
    "        self.alpha = alpha\n",
    "        self.temperature = temperature\n",
    "\n",
    "    def train_step(self, data):\n",
    "        # Unpack data\n",
    "        x, y = data\n",
    "\n",
    "        # Forward pass of teacher\n",
    "        teacher_predictions = self.teacher(x, training=False)\n",
    "\n",
    "        with tf.GradientTape() as tape:\n",
    "            # Forward pass of student\n",
    "            student_predictions = self.student(x, training=True)\n",
    "\n",
    "            # Compute losses\n",
    "            student_loss = self.student_loss_fn(y, student_predictions)\n",
    "            distillation_loss = self.distillation_loss_fn(\n",
    "                teacher_predictions,\n",
    "                student_predictions,\n",
    "            )\n",
    "            loss = distillation_loss\n",
    "\n",
    "        # Compute gradients\n",
    "        trainable_vars = self.student.trainable_variables\n",
    "        gradients = tape.gradient(loss, trainable_vars)\n",
    "\n",
    "        # Update weights\n",
    "        self.optimizer.apply_gradients(zip(gradients, trainable_vars))\n",
    "\n",
    "        # Update the metrics configured in `compile()`.\n",
    "        self.compiled_metrics.update_state(y, student_predictions)\n",
    "\n",
    "        # Return a dict of performance\n",
    "        results = {m.name: m.result() for m in self.metrics}\n",
    "        results.update(\n",
    "            {\"student_loss\": student_loss, \"distillation_loss\": distillation_loss}\n",
    "        )\n",
    "        return results\n",
    "\n",
    "    def test_step(self, data):\n",
    "        # Unpack the data\n",
    "        x, y = data\n",
    "\n",
    "        # Compute predictions\n",
    "        y_prediction = self.student(x, training=False)\n",
    "\n",
    "        # Calculate the loss\n",
    "        student_loss = self.student_loss_fn(y, y_prediction)\n",
    "\n",
    "        # Update the metrics.\n",
    "        self.compiled_metrics.update_state(y, y_prediction)\n",
    "\n",
    "        # Return a dict of performance\n",
    "        results = {m.name: m.result() for m in self.metrics}\n",
    "        results.update({\"student_loss\": student_loss})\n",
    "        return results"
   ]
  },
  {
   "cell_type": "code",
   "execution_count": 20,
   "metadata": {},
   "outputs": [
    {
     "name": "stdout",
     "output_type": "stream",
     "text": [
      "Epoch 1/10\n",
      "1875/1875 [==============================] - 3s 2ms/step - loss: 0.3799 - sparse_categorical_accuracy: 0.9370\n",
      "Epoch 2/10\n",
      "1875/1875 [==============================] - 3s 2ms/step - loss: 0.1160 - sparse_categorical_accuracy: 0.9704\n",
      "Epoch 3/10\n",
      "1875/1875 [==============================] - 3s 2ms/step - loss: 0.0997 - sparse_categorical_accuracy: 0.9744\n",
      "Epoch 4/10\n",
      "1875/1875 [==============================] - 4s 2ms/step - loss: 0.0952 - sparse_categorical_accuracy: 0.9772\n",
      "Epoch 5/10\n",
      "1875/1875 [==============================] - 4s 2ms/step - loss: 0.0990 - sparse_categorical_accuracy: 0.9774\n",
      "Epoch 6/10\n",
      "1875/1875 [==============================] - 3s 2ms/step - loss: 0.1048 - sparse_categorical_accuracy: 0.9764\n",
      "Epoch 7/10\n",
      "1875/1875 [==============================] - 4s 2ms/step - loss: 0.1076 - sparse_categorical_accuracy: 0.9766\n",
      "Epoch 8/10\n",
      "1875/1875 [==============================] - 4s 2ms/step - loss: 0.1182 - sparse_categorical_accuracy: 0.9754\n",
      "Epoch 9/10\n",
      "1875/1875 [==============================] - 3s 2ms/step - loss: 0.1351 - sparse_categorical_accuracy: 0.9750\n",
      "Epoch 10/10\n",
      "1875/1875 [==============================] - 4s 2ms/step - loss: 0.1351 - sparse_categorical_accuracy: 0.9738\n"
     ]
    },
    {
     "data": {
      "text/plain": [
       "<tensorflow.python.keras.callbacks.History at 0x7fde304e3430>"
      ]
     },
     "execution_count": 20,
     "metadata": {},
     "output_type": "execute_result"
    }
   ],
   "source": [
    "teacher.fit(pca.transform(x_train), y_train, epochs=10)"
   ]
  },
  {
   "cell_type": "code",
   "execution_count": 22,
   "metadata": {},
   "outputs": [
    {
     "name": "stdout",
     "output_type": "stream",
     "text": [
      "Epoch 1/10\n",
      "1875/1875 [==============================] - 4s 2ms/step - sparse_categorical_accuracy: 0.8566 - student_loss: 2.1735 - distillation_loss: 1935.2842 - lr: 0.0010\n",
      "Epoch 2/10\n",
      "1875/1875 [==============================] - 4s 2ms/step - sparse_categorical_accuracy: 0.9082 - student_loss: 0.7776 - distillation_loss: 871.3487 - lr: 0.0010\n",
      "Epoch 3/10\n",
      "1875/1875 [==============================] - 3s 2ms/step - sparse_categorical_accuracy: 0.9242 - student_loss: 0.6258 - distillation_loss: 703.6566 - lr: 0.0010\n",
      "Epoch 4/10\n",
      "1875/1875 [==============================] - 4s 2ms/step - sparse_categorical_accuracy: 0.9293 - student_loss: 0.5722 - distillation_loss: 608.6416 - lr: 0.0010\n",
      "Epoch 5/10\n",
      "1875/1875 [==============================] - 4s 2ms/step - sparse_categorical_accuracy: 0.9343 - student_loss: 0.5211 - distillation_loss: 548.1563 - lr: 0.0010\n",
      "Epoch 6/10\n",
      "1875/1875 [==============================] - 4s 2ms/step - sparse_categorical_accuracy: 0.9364 - student_loss: 0.4989 - distillation_loss: 474.2714 - lr: 9.0484e-04\n",
      "Epoch 7/10\n",
      "1875/1875 [==============================] - 4s 2ms/step - sparse_categorical_accuracy: 0.9414 - student_loss: 0.4578 - distillation_loss: 427.1538 - lr: 8.1873e-04\n",
      "Epoch 8/10\n",
      "1875/1875 [==============================] - 4s 2ms/step - sparse_categorical_accuracy: 0.9429 - student_loss: 0.4423 - distillation_loss: 366.3458 - lr: 7.4082e-04\n",
      "Epoch 9/10\n",
      "1875/1875 [==============================] - 4s 2ms/step - sparse_categorical_accuracy: 0.9449 - student_loss: 0.4062 - distillation_loss: 330.6200 - lr: 6.7032e-04\n",
      "Epoch 10/10\n",
      "1875/1875 [==============================] - 4s 2ms/step - sparse_categorical_accuracy: 0.9449 - student_loss: 0.4055 - distillation_loss: 310.0739 - lr: 6.0653e-04\n"
     ]
    },
    {
     "data": {
      "text/plain": [
       "<tensorflow.python.keras.callbacks.History at 0x7fde3017a3a0>"
      ]
     },
     "execution_count": 22,
     "metadata": {},
     "output_type": "execute_result"
    }
   ],
   "source": [
    "distiller = Distiller(student=student, teacher=teacher)\n",
    "distiller.compile(\n",
    "    optimizer=keras.optimizers.Adam(),\n",
    "    metrics=[keras.metrics.SparseCategoricalAccuracy()],\n",
    "    student_loss_fn=keras.losses.SparseCategoricalCrossentropy(from_logits=True),\n",
    "    distillation_loss_fn=keras.losses.MeanSquaredError(),\n",
    "    alpha=0.1,\n",
    "    temperature=10,\n",
    ")\n",
    "def scheduler(epoch, lr):\n",
    "    if epoch < 5:\n",
    "        return lr\n",
    "    else:\n",
    "        return lr * tf.math.exp(-0.1)\n",
    "callback = keras.callbacks.LearningRateScheduler(scheduler)\n",
    "# Distill teacher to student\n",
    "distiller.fit(pca.transform(x_train), y_train, epochs=10, callbacks=[callback])"
   ]
  },
  {
   "cell_type": "code",
   "execution_count": 23,
   "metadata": {},
   "outputs": [
    {
     "name": "stdout",
     "output_type": "stream",
     "text": [
      "Epoch 1/10\n",
      "1875/1875 [==============================] - 4s 2ms/step - sparse_categorical_accuracy: 0.9459 - student_loss: 0.3940 - distillation_loss: 290.8484\n",
      "Epoch 2/10\n",
      "1875/1875 [==============================] - 4s 2ms/step - sparse_categorical_accuracy: 0.9470 - student_loss: 0.3793 - distillation_loss: 277.8338\n",
      "Epoch 3/10\n",
      "1875/1875 [==============================] - 4s 2ms/step - sparse_categorical_accuracy: 0.9474 - student_loss: 0.3762 - distillation_loss: 274.3162\n",
      "Epoch 4/10\n",
      "1875/1875 [==============================] - 4s 2ms/step - sparse_categorical_accuracy: 0.9485 - student_loss: 0.3648 - distillation_loss: 265.0067\n",
      "Epoch 5/10\n",
      "1875/1875 [==============================] - 4s 2ms/step - sparse_categorical_accuracy: 0.9479 - student_loss: 0.3672 - distillation_loss: 257.3004\n",
      "Epoch 6/10\n",
      "1875/1875 [==============================] - 4s 2ms/step - sparse_categorical_accuracy: 0.9493 - student_loss: 0.3503 - distillation_loss: 250.9722\n",
      "Epoch 7/10\n",
      "1875/1875 [==============================] - 4s 2ms/step - sparse_categorical_accuracy: 0.9491 - student_loss: 0.3523 - distillation_loss: 243.7592\n",
      "Epoch 8/10\n",
      "1875/1875 [==============================] - 4s 2ms/step - sparse_categorical_accuracy: 0.9496 - student_loss: 0.3505 - distillation_loss: 242.7697\n",
      "Epoch 9/10\n",
      "1875/1875 [==============================] - 4s 2ms/step - sparse_categorical_accuracy: 0.9492 - student_loss: 0.3422 - distillation_loss: 238.1463\n",
      "Epoch 10/10\n",
      "1875/1875 [==============================] - 4s 2ms/step - sparse_categorical_accuracy: 0.9493 - student_loss: 0.3501 - distillation_loss: 224.0492\n"
     ]
    },
    {
     "data": {
      "text/plain": [
       "<tensorflow.python.keras.callbacks.History at 0x7fde3008ec40>"
      ]
     },
     "execution_count": 23,
     "metadata": {},
     "output_type": "execute_result"
    }
   ],
   "source": [
    "distiller.fit(pca.transform(x_train), y_train, epochs=10)"
   ]
  },
  {
   "cell_type": "code",
   "execution_count": 24,
   "metadata": {},
   "outputs": [
    {
     "name": "stdout",
     "output_type": "stream",
     "text": [
      "313/313 [==============================] - 0s 1ms/step - sparse_categorical_accuracy: 0.9461 - student_loss: 0.5268\n"
     ]
    },
    {
     "data": {
      "text/plain": [
       "0.9460999965667725"
      ]
     },
     "execution_count": 24,
     "metadata": {},
     "output_type": "execute_result"
    }
   ],
   "source": [
    "distiller.evaluate(pca.transform(x_test), y_test)"
   ]
  },
  {
   "cell_type": "code",
   "execution_count": 25,
   "metadata": {},
   "outputs": [
    {
     "name": "stdout",
     "output_type": "stream",
     "text": [
      "313/313 [==============================] - 0s 1ms/step - loss: 0.3771 - sparse_categorical_accuracy: 0.9629\n"
     ]
    },
    {
     "data": {
      "text/plain": [
       "[0.37712711095809937, 0.9628999829292297]"
      ]
     },
     "execution_count": 25,
     "metadata": {},
     "output_type": "execute_result"
    }
   ],
   "source": [
    "teacher.evaluate(pca.transform(x_test), y_test)"
   ]
  },
  {
   "cell_type": "code",
   "execution_count": 33,
   "metadata": {},
   "outputs": [],
   "source": [
    "teacher.save(\"mnist8x8_100_80_60_40_20_10_eps1_pca.h5\")"
   ]
  },
  {
   "cell_type": "code",
   "execution_count": 34,
   "metadata": {},
   "outputs": [],
   "source": [
    "student.save(\"mnist8x8_100_80_60_40_20_10_eps1_pca-mirror.h5\")"
   ]
  },
  {
   "cell_type": "code",
   "execution_count": 35,
   "metadata": {},
   "outputs": [],
   "source": [
    "from tensorflow.python.keras.models import load_model\n",
    "import onnx\n",
    "import keras2onnx"
   ]
  },
  {
   "cell_type": "code",
   "execution_count": 36,
   "metadata": {},
   "outputs": [
    {
     "name": "stderr",
     "output_type": "stream",
     "text": [
      "tf executing eager_mode: True\n",
      "tf.keras model eager_mode: False\n",
      "The ONNX operator number change on the optimization: 25 -> 19\n",
      "The maximum opset needed by this model is only 9.\n"
     ]
    }
   ],
   "source": [
    "model = teacher#load_model('mnist8x8_100_80_60_40_20_10_eps1_pca.h5')\n",
    "onnx_model = keras2onnx.convert_keras(model, model.name)\n",
    "onnx.save_model(onnx_model, \"mnist8x8_100_80_60_40_20_10_eps1_pca.onnx\")"
   ]
  },
  {
   "cell_type": "code",
   "execution_count": 37,
   "metadata": {
    "scrolled": true
   },
   "outputs": [
    {
     "name": "stderr",
     "output_type": "stream",
     "text": [
      "tf executing eager_mode: True\n",
      "tf.keras model eager_mode: False\n",
      "The ONNX operator number change on the optimization: 25 -> 19\n",
      "The maximum opset needed by this model is only 9.\n"
     ]
    }
   ],
   "source": [
    "model = student#load_model('mnist8x8_100_80_60_40_20_10_eps1_pca-mirror.h5')\n",
    "onnx_model = keras2onnx.convert_keras(model, model.name)\n",
    "onnx.save_model(onnx_model, \"mnist8x8_100_80_60_40_20_10_eps1_pca-mirror.onnx\")"
   ]
  },
  {
   "cell_type": "code",
   "execution_count": 49,
   "metadata": {},
   "outputs": [],
   "source": [
    "PROPERTY= {}\n",
    "PROPERTY[\"8000.1\"]=[pca.transform(np.array([[0.1, 0.1, 3.1, 13.1, 13.1, 3.1, 0.1, 0.1, 0.1, 1.1, 13.1, 11.1, 9.1, 12.1, 1.1, 0.1, 0.1, 5.1, 14.1, 2.1, 0.1, 10.1, 4.1, 0.1, 0.1, 6.1, 11.1, 0.1, 0.1, 6.1, 7.1, 0.1, 0.1, 6.1, 10.1, 0.1, 0.1, 5.1, 8.1, 0.1, 0.1, 3.1, 13.1, 1.1, 0.1, 8.1, 7.1, 0.1, 0.1, 0.1, 12.1, 8.1, 7.1, 14.1, 3.1, 0.1, 0.1, 0.1, 4.1, 13.1, 14.1, 7.1, 0.1, 0.1]])), pca.transform(np.array([[0.0, 0.0, 2.9, 12.9, 12.9, 2.9, 0.0, 0.0, 0.0, 0.9, 12.9, 10.9, 8.9, 11.9, 0.9, 0.0, 0.0, 4.9, 13.9, 1.9, 0.0, 9.9, 3.9, 0.0, 0.0, 5.9, 10.9, 0.0, 0.0, 5.9, 6.9, 0.0, 0.0, 5.9, 9.9, 0.0, 0.0, 4.9, 7.9, 0.0, 0.0, 2.9, 12.9, 0.9, 0.0, 7.9, 6.9, 0.0, 0.0, 0.0, 11.9, 7.9, 6.9, 13.9, 2.9, 0.0, 0.0, 0.0, 3.9, 12.9, 13.9, 6.9, 0.0, 0.0]]))]\n",
    "PROPERTY[\"8100.1\"]=[pca.transform(np.array([[0.1, 0.1, 0.1, 10.1, 9.1, 0.1, 0.1, 0.1, 0.1, 0.1, 5.1, 15.1, 6.1, 0.1, 0.1, 0.1, 0.1, 0.1, 11.1, 11.1, 0.1, 0.1, 0.1, 0.1, 0.1, 1.1, 13.1, 8.1, 3.1, 1.1, 0.1, 0.1, 0.1, 1.1, 15.1, 14.1, 14.1, 12.1, 3.1, 0.1, 0.1, 0.1, 14.1, 10.1, 3.1, 6.1, 12.1, 0.1, 0.1, 0.1, 8.1, 13.1, 3.1, 7.1, 14.1, 1.1, 0.1, 0.1, 0.1, 8.1, 14.1, 14.1, 8.1, 0.1]])), pca.transform(np.array([[0.0, 0.0, 0.0, 9.9, 8.9, 0.0, 0.0, 0.0, 0.0, 0.0, 4.9, 14.9, 5.9, 0.0, 0.0, 0.0, 0.0, 0.0, 10.9, 10.9, 0.0, 0.0, 0.0, 0.0, 0.0, 0.9, 12.9, 7.9, 2.9, 0.9, 0.0, 0.0, 0.0, 0.9, 14.9, 13.9, 13.9, 11.9, 2.9, 0.0, 0.0, 0.0, 13.9, 9.9, 2.9, 5.9, 11.9, 0.0, 0.0, 0.0, 7.9, 12.9, 2.9, 6.9, 13.9, 0.9, 0.0, 0.0, 0.0, 7.9, 13.9, 13.9, 7.9, 0.0]]))]\n",
    "PROPERTY[\"8200.1\"]=[pca.transform(np.array([[0.1, 0.1, 8.1, 14.1, 15.1, 14.1, 7.1, 0.1, 0.1, 0.1, 7.1, 8.1, 9.1, 15.1, 8.1, 0.1, 0.1, 0.1, 0.1, 0.1, 5.1, 14.1, 3.1, 0.1, 0.1, 0.1, 5.1, 9.1, 14.1, 13.1, 4.1, 0.1, 0.1, 1.1, 10.1, 14.1, 15.1, 12.1, 4.1, 0.1, 0.1, 0.1, 2.1, 13.1, 8.1, 2.1, 0.1, 0.1, 0.1, 0.1, 6.1, 15.1, 2.1, 0.1, 0.1, 0.1, 0.1, 0.1, 10.1, 10.1, 0.1, 0.1, 0.1, 0.1]])), pca.transform(np.array([[0.0, 0.0, 7.9, 13.9, 14.9, 13.9, 6.9, 0.0, 0.0, 0.0, 6.9, 7.9, 8.9, 14.9, 7.9, 0.0, 0.0, 0.0, 0.0, 0.0, 4.9, 13.9, 2.9, 0.0, 0.0, 0.0, 4.9, 8.9, 13.9, 12.9, 3.9, 0.0, 0.0, 0.9, 9.9, 13.9, 14.9, 11.9, 3.9, 0.0, 0.0, 0.0, 1.9, 12.9, 7.9, 1.9, 0.0, 0.0, 0.0, 0.0, 5.9, 14.9, 1.9, 0.0, 0.0, 0.0, 0.0, 0.0, 9.9, 9.9, 0.0, 0.0, 0.0, 0.0]]))]\n",
    "PROPERTY[\"8300.1\"]=[pca.transform(np.array([[0.1, 0.1, 5.1, 14.1, 8.1, 0.1, 0.1, 0.1, 0.1, 1.1, 14.1, 12.1, 13.1, 8.1, 0.1, 0.1, 0.1, 4.1, 14.1, 2.1, 4.1, 14.1, 2.1, 0.1, 0.1, 5.1, 12.1, 0.1, 0.1, 9.1, 6.1, 0.1, 0.1, 6.1, 11.1, 0.1, 0.1, 8.1, 7.1, 0.1, 0.1, 4.1, 13.1, 0.1, 0.1, 10.1, 7.1, 0.1, 0.1, 0.1, 14.1, 8.1, 8.1, 14.1, 3.1, 0.1, 0.1, 0.1, 5.1, 14.1, 14.1, 6.1, 0.1, 0.1]])), pca.transform(np.array([[0.0, 0.0, 4.9, 13.9, 7.9, 0.0, 0.0, 0.0, 0.0, 0.9, 13.9, 11.9, 12.9, 7.9, 0.0, 0.0, 0.0, 3.9, 13.9, 1.9, 3.9, 13.9, 1.9, 0.0, 0.0, 4.9, 11.9, 0.0, 0.0, 8.9, 5.9, 0.0, 0.0, 5.9, 10.9, 0.0, 0.0, 7.9, 6.9, 0.0, 0.0, 3.9, 12.9, 0.0, 0.0, 9.9, 6.9, 0.0, 0.0, 0.0, 13.9, 7.9, 7.9, 13.9, 2.9, 0.0, 0.0, 0.0, 4.9, 13.9, 13.9, 5.9, 0.0, 0.0]]))]\n",
    "PROPERTY[\"8400.1\"]=[pca.transform(np.array([[0.1, 0.1, 0.1, 2.1, 13.1, 4.1, 0.1, 0.1, 0.1, 0.1, 0.1, 7.1, 13.1, 2.1, 0.1, 0.1, 0.1, 0.1, 1.1, 13.1, 8.1, 2.1, 1.1, 0.1, 0.1, 0.1, 9.1, 12.1, 2.1, 8.1, 4.1, 0.1, 0.1, 4.1, 14.1, 6.1, 6.1, 14.1, 4.1, 0.1, 0.1, 11.1, 15.1, 13.1, 14.1, 14.1, 2.1, 0.1, 0.1, 5.1, 8.1, 9.1, 15.1, 10.1, 0.1, 0.1, 0.1, 0.1, 0.1, 3.1, 13.1, 5.1, 0.1, 0.1]])), pca.transform(np.array([[0.0, 0.0, 0.0, 1.9, 12.9, 3.9, 0.0, 0.0, 0.0, 0.0, 0.0, 6.9, 12.9, 1.9, 0.0, 0.0, 0.0, 0.0, 0.9, 12.9, 7.9, 1.9, 0.9, 0.0, 0.0, 0.0, 8.9, 11.9, 1.9, 7.9, 3.9, 0.0, 0.0, 3.9, 13.9, 5.9, 5.9, 13.9, 3.9, 0.0, 0.0, 10.9, 14.9, 12.9, 13.9, 13.9, 1.9, 0.0, 0.0, 4.9, 7.9, 8.9, 14.9, 9.9, 0.0, 0.0, 0.0, 0.0, 0.0, 2.9, 12.9, 4.9, 0.0, 0.0]]))]\n",
    "PROPERTY[\"8500.1\"]=[pca.transform(np.array([[0.1, 0.1, 1.1, 12.1, 7.1, 1.1, 0.1, 0.1, 0.1, 0.1, 9.1, 14.1, 4.1, 0.1, 0.1, 0.1, 0.1, 0.1, 14.1, 7.1, 0.1, 0.1, 0.1, 0.1, 0.1, 2.1, 14.1, 3.1, 0.1, 0.1, 0.1, 0.1, 0.1, 4.1, 14.1, 7.1, 8.1, 4.1, 0.1, 0.1, 0.1, 2.1, 15.1, 14.1, 12.1, 14.1, 6.1, 0.1, 0.1, 0.1, 11.1, 13.1, 7.1, 11.1, 11.1, 0.1, 0.1, 0.1, 1.1, 10.1, 14.1, 13.1, 6.1, 0.1]])), pca.transform(np.array([[0.0, 0.0, 0.9, 11.9, 6.9, 0.9, 0.0, 0.0, 0.0, 0.0, 8.9, 13.9, 3.9, 0.0, 0.0, 0.0, 0.0, 0.0, 13.9, 6.9, 0.0, 0.0, 0.0, 0.0, 0.0, 1.9, 13.9, 2.9, 0.0, 0.0, 0.0, 0.0, 0.0, 3.9, 13.9, 6.9, 7.9, 3.9, 0.0, 0.0, 0.0, 1.9, 14.9, 13.9, 11.9, 13.9, 5.9, 0.0, 0.0, 0.0, 10.9, 12.9, 6.9, 10.9, 10.9, 0.0, 0.0, 0.0, 0.9, 9.9, 13.9, 12.9, 5.9, 0.0]]))]\n",
    "PROPERTY[\"8600.1\"]=[pca.transform(np.array([[0.1, 0.1, 0.1, 5.1, 14.1, 7.1, 0.1, 0.1, 0.1, 0.1, 1.1, 12.1, 16.0, 10.1, 0.1, 0.1, 0.1, 2.1, 9.1, 15.1, 15.1, 7.1, 0.1, 0.1, 0.1, 5.1, 13.1, 14.1, 15.1, 6.1, 0.1, 0.1, 0.1, 2.1, 6.1, 10.1, 15.1, 5.1, 0.1, 0.1, 0.1, 0.1, 0.1, 8.1, 15.1, 6.1, 0.1, 0.1, 0.1, 0.1, 0.1, 8.1, 15.1, 9.1, 0.1, 0.1, 0.1, 0.1, 0.1, 5.1, 14.1, 10.1, 1.1, 0.1]])), pca.transform(np.array([[0.0, 0.0, 0.0, 4.9, 13.9, 6.9, 0.0, 0.0, 0.0, 0.0, 0.9, 11.9, 15.9, 9.9, 0.0, 0.0, 0.0, 1.9, 8.9, 14.9, 14.9, 6.9, 0.0, 0.0, 0.0, 4.9, 12.9, 13.9, 14.9, 5.9, 0.0, 0.0, 0.0, 1.9, 5.9, 9.9, 14.9, 4.9, 0.0, 0.0, 0.0, 0.0, 0.0, 7.9, 14.9, 5.9, 0.0, 0.0, 0.0, 0.0, 0.0, 7.9, 14.9, 8.9, 0.0, 0.0, 0.0, 0.0, 0.0, 4.9, 13.9, 9.9, 0.9, 0.0]]))]\n",
    "PROPERTY[\"8700.1\"]=[pca.transform(np.array([[0.1, 0.1, 4.1, 13.1, 4.1, 0.1, 0.1, 0.1, 0.1, 0.1, 12.1, 10.1, 1.1, 0.1, 0.1, 0.1, 0.1, 3.1, 14.1, 2.1, 0.1, 0.1, 0.1, 0.1, 0.1, 4.1, 14.1, 3.1, 4.1, 1.1, 0.1, 0.1, 0.1, 6.1, 14.1, 13.1, 13.1, 13.1, 2.1, 0.1, 0.1, 3.1, 15.1, 8.1, 2.1, 7.1, 11.1, 0.1, 0.1, 0.1, 13.1, 9.1, 2.1, 8.1, 12.1, 0.1, 0.1, 0.1, 4.1, 12.1, 15.1, 13.1, 5.1, 0.1]])), pca.transform(np.array([[0.0, 0.0, 3.9, 12.9, 3.9, 0.0, 0.0, 0.0, 0.0, 0.0, 11.9, 9.9, 0.9, 0.0, 0.0, 0.0, 0.0, 2.9, 13.9, 1.9, 0.0, 0.0, 0.0, 0.0, 0.0, 3.9, 13.9, 2.9, 3.9, 0.9, 0.0, 0.0, 0.0, 5.9, 13.9, 12.9, 12.9, 12.9, 1.9, 0.0, 0.0, 2.9, 14.9, 7.9, 1.9, 6.9, 10.9, 0.0, 0.0, 0.0, 12.9, 8.9, 1.9, 7.9, 11.9, 0.0, 0.0, 0.0, 3.9, 11.9, 14.9, 12.9, 4.9, 0.0]]))]\n",
    "PROPERTY[\"8800.1\"]=[pca.transform(np.array([[0.1, 0.1, 0.1, 7.1, 12.1, 0.1, 0.1, 0.1, 0.1, 0.1, 3.1, 15.1, 6.1, 0.1, 1.1, 0.1, 0.1, 0.1, 11.1, 11.1, 0.1, 3.1, 5.1, 0.1, 0.1, 4.1, 15.1, 3.1, 1.1, 11.1, 8.1, 0.1, 0.1, 9.1, 14.1, 6.1, 10.1, 15.1, 4.1, 0.1, 0.1, 8.1, 13.1, 14.1, 15.1, 11.1, 0.1, 0.1, 0.1, 1.1, 3.1, 7.1, 15.1, 2.1, 0.1, 0.1, 0.1, 0.1, 0.1, 8.1, 11.1, 0.1, 0.1, 0.1]])), pca.transform(np.array([[0.0, 0.0, 0.0, 6.9, 11.9, 0.0, 0.0, 0.0, 0.0, 0.0, 2.9, 14.9, 5.9, 0.0, 0.9, 0.0, 0.0, 0.0, 10.9, 10.9, 0.0, 2.9, 4.9, 0.0, 0.0, 3.9, 14.9, 2.9, 0.9, 10.9, 7.9, 0.0, 0.0, 8.9, 13.9, 5.9, 9.9, 14.9, 3.9, 0.0, 0.0, 7.9, 12.9, 13.9, 14.9, 10.9, 0.0, 0.0, 0.0, 0.9, 2.9, 6.9, 14.9, 1.9, 0.0, 0.0, 0.0, 0.0, 0.0, 7.9, 10.9, 0.0, 0.0, 0.0]]))]\n",
    "PROPERTY[\"8900.1\"]=[pca.transform(np.array([[0.1, 0.1, 4.1, 13.1, 14.1, 14.1, 11.1, 3.1, 0.1, 0.1, 6.1, 9.1, 8.1, 11.1, 14.1, 3.1, 0.1, 0.1, 0.1, 0.1, 0.1, 11.1, 11.1, 0.1, 0.1, 0.1, 0.1, 3.1, 7.1, 15.1, 5.1, 0.1, 0.1, 0.1, 6.1, 12.1, 15.1, 13.1, 4.1, 0.1, 0.1, 1.1, 3.1, 9.1, 14.1, 4.1, 0.1, 0.1, 0.1, 0.1, 1.1, 14.1, 7.1, 0.1, 0.1, 0.1, 0.1, 0.1, 6.1, 13.1, 1.1, 0.1, 0.1, 0.1]])), pca.transform(np.array([[0.0, 0.0, 3.9, 12.9, 13.9, 13.9, 10.9, 2.9, 0.0, 0.0, 5.9, 8.9, 7.9, 10.9, 13.9, 2.9, 0.0, 0.0, 0.0, 0.0, 0.0, 10.9, 10.9, 0.0, 0.0, 0.0, 0.0, 2.9, 6.9, 14.9, 4.9, 0.0, 0.0, 0.0, 5.9, 11.9, 14.9, 12.9, 3.9, 0.0, 0.0, 0.9, 2.9, 8.9, 13.9, 3.9, 0.0, 0.0, 0.0, 0.0, 0.9, 13.9, 6.9, 0.0, 0.0, 0.0, 0.0, 0.0, 5.9, 12.9, 0.9, 0.0, 0.0, 0.0]]))]"
   ]
  },
  {
   "cell_type": "code",
   "execution_count": 54,
   "metadata": {},
   "outputs": [
    {
     "name": "stdout",
     "output_type": "stream",
     "text": [
      "PROPERTY[\"8000.1\"]=[[69.93163175120667, -1.820589825127079, -20.86258628168296, 7.045107707924281, 13.961806364859358, 45.9233117393756, 27.204866984593476, 13.202061237154995, 37.194307742156404, 9.148477585163121, 14.555794574051081, -7.633955478973268, 17.24877574318151, 15.605699824483466, -0.4943379359474224, 4.670024215462356, -31.75146537387204, 3.397307425308147, 53.50271197384673, 33.7215630824975, 3.292792375369547, -1.1483049043454232, -4.558711473595673, 17.371587094278727, -30.01419971494068, -7.17935920099066, 103.45039922368152, 102.09192217280054, -63.16312677897202, 58.95013718040333, 251.4622885104744, -31.270133249306053, -105.8051838374209, -110.84843998123533, -64.46535905881149, -134.99753661929017, 100.63211504580569, 88.36802752011815, 291.44575891957106, 382.23215660985346, -178.44814385493316, 204.15782760057957, 39.66769014431959, -5.904093846288786, 207.0566901443647, 29.36701498433553, -5.654909500750741, 7.783758062419179, -38.997717146895674, 1.6455166331562485],[68.20292856110228, -2.1912860972070143, -20.884555273652932, 6.523738278158794, 13.612102863772591, 45.175065605098396, 26.982245681887328, 12.527501336506614, 36.841214337152245, 9.025478917636779, 13.933343825039021, -8.372686482095528, 16.614079247347807, 15.486848470411564, -0.5521893513420472, 3.8333754977010295, -32.386681846374685, 3.2574768212073626, 52.28402040109748, 33.02493417449707, 2.1131295412206597, -1.9919078604913731, -4.67227950838905, 16.725877466374044, -31.23526806178484, -7.918149523581945, 101.48383810508682, 100.43425791186046, -64.53036333226909, 57.240545842515814, 247.21089564923872, -31.864322371849408, -106.50428425551173, -111.80346916432933, -64.83036595575892, -138.08476184009743, 96.71878381005462, 85.33429584823098, 283.11397770719026, 377.7314930543317, -183.57602586151398, 198.74688711009102, 39.534315038941656, -11.294310895640132, 194.68128357107304, 24.247725926152963, -6.785694207923745, 1.9074654764604149, -48.520974845273265, -2.2767719529398462]]\n",
      "\n",
      "PROPERTY[\"8100.1\"]=[[61.27207170416554, 13.179356297095001, 33.809047689801716, 18.65487795481896, 54.71286407242037, 12.237003758968882, 15.534123282696454, 26.674365909216046, 45.40968807952124, -33.60500550061004, -11.503706033840084, 10.500883033609362, 9.244246013788329, -41.86383864280965, -15.1991946995627, -28.19233599256983, -59.938898046319736, -3.6803457273407076, 69.94280575070177, 10.042887021930127, 6.877832023362677, 18.361349768190912, -63.07547228711564, 23.50923530427438, 50.87610123622238, -22.682528133922027, 57.243029139580166, 47.20130508050344, -39.149132937505286, 162.95832050352683, 105.18100981415634, -95.55930640675065, -74.0848825949674, -126.20267980204744, -174.10398103875355, -8.664326269285974, 237.25160447233242, 104.87339280056912, 510.73380370867204, 104.78595009004022, -114.25125013285543, 123.86001547881875, 79.76789102043585, 47.03189382894246, 91.92812027396678, -66.67708085708814, -57.89018913552902, 35.043679380008996, -41.63358472277533, -46.204032544917396],[59.70572712462876, 12.773117002806584, 33.402635846977525, 17.910923436743882, 53.860114251245854, 11.692337934205275, 15.323957728107063, 25.975038020794067, 45.159720102794594, -33.64874989261622, -12.392907369386721, 9.994829156598259, 8.760858309481355, -41.961515404263366, -15.34685326356059, -28.708451505712713, -60.29949322224445, -3.9189174986051607, 68.82430954080786, 9.079005455672375, 6.087078734175017, 18.103662362737825, -63.201689832435264, 22.810760135400105, 49.44199847284289, -22.745752066449796, 56.17989453433912, 46.03779551110613, -40.17709321565432, 161.5720793618097, 100.90496441367023, -95.7732193851556, -74.16858667794168, -127.56423211081997, -175.1879637848546, -10.100458267746996, 233.27502893542018, 102.32919930244468, 502.30986455142977, 101.37217789175234, -117.37342915046969, 116.83698149879858, 79.14758211300152, 42.692241747377125, 84.50518093566812, -71.57284525981915, -58.66751072643252, 28.316834062985507, -50.994172236283845, -51.17677332062642]]\n",
      "\n",
      "PROPERTY[\"8200.1\"]=[[46.82365634751173, 60.509652608295205, 39.23192684919104, 41.62271862433213, 17.965983552860617, 24.582648943270996, 29.358345626596776, -12.771174191670521, 3.7249291271363014, -34.17336392435358, 24.0971796641282, -33.90689056450041, 68.76350768287858, 0.9330190860933596, -0.9736644430123114, 2.643418904424299, 8.5797576323497, 25.66347974658376, 9.460167196369964, 4.429188258577816, 30.354837658716235, 38.4574586467728, 5.975874053711233, 4.1066543743011374, -29.591006526772073, 8.735445824130382, 100.32972283421223, 101.14466041278025, -96.45527448317087, -62.70259134887862, 143.42626151862729, 9.208674761213318, -28.315377636793038, 74.8190248731664, 0.7010529021002315, -148.3391912919341, 112.0041835800569, 67.36797973230806, 250.1245064717286, 566.5151563098343, 12.183669208704938, 124.16810462215875, -160.62187018600648, -90.34314700411322, 652.4958608500132, 77.61572782162149, 71.57407792960284, -51.31776318869398, -3.455162186688274, -105.94460487532598],[45.25802300079089, 59.725712315078574, 38.88171975515812, 40.86711203062047, 17.510613112914886, 24.23144514836459, 29.092059185047273, -13.330386028769196, 3.606364062446745, -34.32131074970352, 22.978086055538775, -34.25121890983402, 67.81394702755009, 0.7855233231529872, -1.3014231471692757, 2.1583960381704315, 8.131191655403631, 25.561678336646136, 8.813285182663211, 3.8941509772934326, 29.89154962969503, 37.90460454025874, 5.5702405147363905, 4.098831682775037, -30.161737196650407, 8.363931795719896, 98.5545010874373, 99.11987687332054, -98.19361041762309, -62.93957797313268, 139.44830542945394, 8.469102905539003, -28.328095400663713, 73.53643411126319, 0.659074712359629, -150.45591400228864, 109.41123260258587, 63.92576795156605, 243.58473607082678, 561.2656544612269, 7.752531813258898, 117.92473763998134, -163.2174455021998, -93.24645414298422, 640.6890973471648, 72.41133459019848, 71.08959724024753, -56.88936398487482, -13.475580865038683, -109.00101522879224]]\n",
      "\n",
      "PROPERTY[\"8300.1\"]=[[76.94401942383469, -1.3901499422416164, -21.748165004135153, 16.42279168891477, 16.279215137210116, 53.47793698315414, 28.57226681859717, 7.261007056531738, 23.893948178994755, 15.067736981282417, 4.1895677435837975, -24.296335798992114, 12.81014566853985, -3.3636220831243273, 9.83929778899068, -13.891132569000527, -21.724468240924303, -6.059933863774399, 45.816946996365274, 44.954792257663904, -18.524942221106, -1.999243890144541, -21.036355759806558, 5.791346517659647, -25.914953442342572, 0.2010059449769532, 79.47638949580895, 98.13084746968256, -48.254435573837746, 54.95049469722543, 271.4919746327489, -32.57870278229526, -92.47413443136192, -82.58359901382339, -75.06292016871491, -134.78109978725357, 91.08841069846781, 67.69398557857386, 232.5207527749393, 226.24524768574162, -249.68086850242435, 278.5309210412955, 120.48438334878908, -30.611553074135944, 264.1935595174776, 9.850305626615866, -1.4707735061596743, 6.980939182819051, -27.628951455099365, -11.837964472271887],[75.22640491680934, -1.6768075416368227, -21.811105973509225, 15.74783616209103, 15.94805449645607, 52.77841077543277, 28.323676305250498, 6.521898395167147, 23.725132708326733, 14.6645986805368, 3.650451044076209, -24.889691487748035, 12.171311988552711, -3.683888184204436, 9.686227765475385, -14.670044508737794, -22.349110645476816, -6.219262663346274, 44.5713357290923, 44.01489148389993, -19.469363454442387, -2.4894177832474744, -21.07149449984325, 5.275487715959357, -26.882552852518568, -0.28044002340623064, 77.2195564821191, 96.35016460698594, -49.23443596073364, 53.25755787290417, 267.8304912273518, -32.96547934885482, -93.47778319214315, -82.84826664052973, -75.39379413038681, -137.5246418904074, 87.25855949048004, 64.55382284325928, 224.43783817126376, 222.14729881724463, -252.86552903056457, 271.7315412248069, 118.76660470019516, -36.98740627941761, 255.09552033610507, 4.927651081781509, -3.0202732911891736, 1.082952389713592, -37.257336437113736, -16.37792427149388]]\n",
      "\n",
      "PROPERTY[\"8400.1\"]=[[77.01538362241584, 27.095452078586625, 20.57491432499041, 27.370257787224052, 44.85958160172485, -22.233815581458675, -26.199326716188047, -4.299763209036406, -4.530626805566817, 24.142042440342887, 3.037758623428232, -13.047488283904949, -9.267992889879283, 10.839336211639084, -6.201910124800814, 17.581730110985276, 26.526070778381207, -47.682385929907774, 24.6474434470097, -0.6295370021588187, -0.7267500730630955, 36.385218789859486, 0.7998336825097216, -7.940515592475643, 0.17790544498269578, 29.199788779373655, -23.903863189714624, -38.91761590992259, -43.1150211191798, 126.2853835622773, 140.32655248149103, -105.51360819464959, -60.66739506444241, -111.62797690459043, -69.4035744304604, -123.49785340836115, 100.01852717893864, 109.88823981854014, 181.23076037156957, 264.81154444165645, 48.63827076435938, -14.030828346939376, -79.97174996410102, 74.25837894481921, -52.337905722627355, 42.959004831382536, -2.608352215900609, 24.177563328635124, -16.765317937670172, -3.3197987176523993],[75.3086499261407, 26.44920718577642, 20.265087318124117, 26.524471938177765, 44.331203663962555, -22.684913893492222, -26.41771642264433, -5.0624667386189035, -4.7113170323067655, 23.725320693381786, 2.147501122180641, -13.758422258259642, -9.898433072626512, 10.736598880398716, -6.4453778567071005, 16.91623213059462, 25.70741634381746, -47.82033293966745, 23.837485340422667, -1.3648144280797183, -1.5711822253053387, 35.72943787804966, 0.4121362672682683, -8.05616864233222, -0.05043092862038823, 28.62473244547491, -25.475983312999425, -40.03462082600892, -45.04954774171902, 125.07633108048485, 137.2685649365262, -106.34984098289428, -61.116825239247326, -113.17665173556736, -70.38230221192624, -125.52691196381822, 98.21403963357703, 106.1327712259135, 173.14666955639714, 260.1168758899442, 43.906469411028226, -19.338427921855974, -81.63869896725404, 70.44194927111042, -63.07152547044485, 38.091628283867145, -4.261767353822095, 18.283320279184522, -26.72876435346488, -8.304873623129213]]\n",
      "\n",
      "PROPERTY[\"8500.1\"]=[[64.86728595037646, 8.561516043300966, 18.584822162750065, 12.217491984593947, 51.08549580668011, 26.600129069599564, -12.497884110154645, 26.204013071475938, 54.98205161508049, -6.777474396386534, 9.095596989593487, 9.03223629336141, 19.855241699627022, 14.01501449110845, 18.28320989880407, -57.36448208554561, -64.87179902639386, -46.52332311849457, 33.388829691235415, 5.914414782378123, 38.22284193156844, -12.257733691079473, -8.938552677364262, 5.358206394305565, 20.62019690301167, -36.42037710722319, 5.283076896354178, 45.41613254470101, -21.769220075876948, 168.01932882964826, 200.0743032553306, -128.84709702156118, -65.62883844837123, -145.8917101552031, -123.1006519789419, -36.95675794318071, 222.88530648115204, 113.92796666859381, 456.26489704915844, 66.58363036086787, -159.38378284518603, 147.21942505927515, 73.07165035978686, 19.963070092998972, 197.2333087141519, -40.987081167586005, -43.896679404824546, 43.601434933795694, -32.5478208525161, -42.15583400167772],[63.33252431218072, 8.142979930607117, 18.24864167341043, 11.576945055429256, 50.292169404462925, 26.203424754109403, -12.596450846150129, 25.630567162236037, 54.54573806705544, -6.960015574114073, 8.481353274718792, 8.195746992961498, 19.194911125975608, 13.921686704452652, 18.13931077791246, -57.612035106091504, -65.31932281987608, -46.66901278882481, 32.02604165105302, 5.037767371005295, 37.385401425359866, -12.594875626225488, -9.328416230395334, 4.885504619512139, 19.307836624665814, -36.43551161420764, 4.4510085666591666, 43.85651858761712, -22.26047403611785, 166.00566498153384, 195.6424685695035, -129.90238217247648, -65.78486316135636, -146.4593184183148, -123.41440561617871, -40.71080168615736, 218.18861436446824, 110.86958813518721, 447.58776113987125, 62.82610920506519, -163.7595193616546, 141.02932705262344, 71.29262837827358, 16.539726230722813, 185.803411001036, -45.10875721239022, -45.865055687800336, 37.73933564672504, -41.849832858206106, -45.8673754456723]]\n",
      "\n",
      "PROPERTY[\"8600.1\"]=[[51.03858147179633, 20.530370803692925, 30.514301956584085, 80.90049210516223, 60.174499405316084, -2.079911093505572, -10.070233975205939, 15.554431503014795, 25.842152039024153, 36.91399549509438, 11.314956909021001, -22.545259987807494, 25.530304004919465, 39.952647526876575, -47.59805882055761, 0.8348467125969397, 44.7476432724202, -21.110185113877407, 24.340427007039352, 35.08624271934393, 1.7975808963841815, 10.76111594952896, -31.873545984497213, 41.44543822900358, -15.83011693200364, -15.559038331465503, 53.590349383822755, 93.1434645713391, -98.93692986622177, 65.30328948441152, 90.12179414904413, 31.23377691971556, -112.06176324436754, -106.22572437038235, -61.7170910442915, -108.26507001586342, 60.47075798681474, 69.39186834087054, 322.0419478301798, 372.04906153132515, 84.90733031893737, 5.22780952459107, -85.96956482267484, 63.17875619781355, 113.2539590326884, 43.06154741578604, -8.930942606803745, 16.941136392483443, -44.89340054244495, 15.719663939942492],[49.584252768795714, 20.162286568831306, 30.002087451760513, 79.86332608169542, 59.5390703211454, -2.6532300751471767, -10.354154025839984, 14.887676243477053, 25.73069882702226, 36.63913640931183, 10.792615241638961, -23.003962526552552, 24.744208762552606, 39.49605254414213, -47.93573918069238, 0.36834004026311457, 44.150211901501905, -21.383111985282568, 23.504500755953302, 34.54682503401879, 0.5691114226500108, 10.182949079138245, -32.148515383097944, 40.729964060900755, -16.466003230495648, -15.874433396264267, 52.102963646519235, 91.11575001801445, -100.54532669420641, 63.17554369764893, 86.52530751812463, 30.625495190898256, -112.6354381399161, -107.2687546416122, -61.98727990750019, -110.50496706480068, 58.5399384051262, 66.30172813564091, 314.03998796972246, 366.8467459994575, 80.21601229931808, -0.9162451707116478, -88.69806081880435, 59.753305527812586, 103.01623642033331, 38.40415900024879, -10.776674682988505, 10.704971990346582, -53.34124667742689, 11.230078811849925]]\n",
      "\n",
      "PROPERTY[\"8700.1\"]=[[59.244181715507054, 5.2980504538088065, 30.46566724862285, 9.020793169190744, 40.280723002397735, 35.3151167384204, 36.085289625898206, 33.37673161472328, 26.250254310605392, -16.21125429615567, 8.45987424529304, 25.337727535726156, 35.92607142112094, -31.74145384216076, 8.04088586755472, -20.315393976110997, -85.58433172568277, -15.217732912861875, 67.83696327790122, 20.72110369752644, -4.3320899964023125, 11.791301275445058, -45.86054017505889, -3.1006287642292687, 56.054647008749576, -38.73640684753798, 43.202303889196656, 73.84412622774636, 8.21194206928875, 164.23113437476738, 227.4165165648284, -124.38500699925366, -68.99192482738712, -121.23162883856348, -117.55758100294089, -79.92357302920075, 213.0404625293381, 129.93532346587847, 455.04271282610796, -5.109624447288652, -223.15915737185549, 219.1171562976034, 108.50653365016785, -53.38774917130198, 258.63092722361984, -76.690431563705, -48.520371418959726, 17.92371026811378, -45.12379006289209, -45.66040106424279],[57.646208004369306, 4.88409251309957, 30.083699606706144, 8.28248430120763, 39.4684186978088, 34.71453807144503, 35.8769294372881, 32.658638178074604, 26.087086901968615, -16.23513785808927, 7.512066268426177, 24.660112230842262, 35.40332764343787, -31.87486103825987, 7.9193126265281215, -20.94159931112557, -86.09915079632718, -15.570614953251589, 66.58823052025926, 19.70193931862221, -5.322286223826328, 11.504322569514999, -45.88817716945139, -3.729465750660182, 54.66085290136687, -39.05725836893099, 42.191017399699966, 72.82233362683729, 7.094976401436342, 162.08395717837166, 222.8726051974212, -124.80572363597224, -69.63146272388771, -121.29879533340755, -117.97138571066797, -82.97609081422, 208.53405911535003, 126.67050548663339, 446.6491079708382, -8.03361576984946, -225.70862568222583, 211.21509473598846, 107.84047321554813, -57.09501739914611, 250.54360626517516, -80.7758756684944, -50.11210563476458, 11.863084090208527, -53.74536580714702, -49.58846300203694]]\n",
      "\n",
      "PROPERTY[\"8800.1\"]=[[78.14322687271134, 4.727310687446599, 41.46514592232237, 20.302220419008393, 30.309510491527575, 16.033288668411387, -36.74684236391147, -5.579379558274116, 27.808221287406116, -0.7217247526362809, 45.44897036847424, -10.809918978612592, 10.052946043847285, 3.496589266139871, -1.3457761363713001, 25.454488073875574, 6.936771449777728, -48.629281171711426, -4.050227644936008, -53.49962107963668, -11.808159992726825, 39.69414658549271, -41.31170391957128, -16.066869681061487, 18.60636278649561, -22.512841806822163, -6.781666356028831, 81.1612724376422, -58.13102567894611, 103.7039897190499, 152.51652632787463, -88.2147379446668, -37.95618453561705, -59.912973166513694, -35.27622056078982, -57.462583942499194, 79.38982074839134, 78.23444628847525, 120.91575454630906, 300.55162832543436, -96.12095160451719, 89.86542700884205, 29.33897155295924, 93.34266083283568, -20.9925955111195, 45.619640786883906, -7.389789730655916, 32.40112974145333, 7.09030502940185, -12.007142236838336],[76.46224322921499, 4.175088462204881, 41.107471448261684, 19.515660385826475, 29.799356732634063, 15.511754987640037, -37.00616644976379, -6.182798255916126, 27.509966999607002, -0.8735160038558877, 44.22113309023563, -11.663332484966757, 9.509216783382124, 3.3905346790103965, -1.370529562271832, 24.79301219294148, 6.078804163108359, -48.75645374812259, -4.787683878596816, -53.84265919180877, -12.598211073907681, 39.185888148117556, -41.59127946200709, -16.51397279008807, 17.963128503765542, -22.796944223126715, -7.751809999867648, 80.32993737754786, -60.139633929936494, 102.08987199047104, 147.8888683755161, -88.99460606791041, -38.9405697257238, -60.66115525520342, -36.473067550092395, -60.05692416218785, 76.61614312921473, 75.71836037889209, 116.0444196625857, 295.6571714646287, -98.91384894868158, 82.92276264123863, 28.57854696681667, 89.10469020176389, -28.997351216911625, 40.49584722797474, -8.095864423991264, 26.1930845551468, -2.748918427884891, -16.14874584169553]]\n",
      "\n",
      "PROPERTY[\"8900.1\"]=[[45.881171685048656, 46.98585404410826, 39.30138081759823, 33.654374567754985, 12.699561309279073, 31.135865667798946, 2.6877513581690033, -43.298862815999556, 21.190694864775292, -17.922293163450007, 43.633809767862104, -9.490605250692116, 55.91674223474864, -4.25825121181323, 36.03395837902959, 41.84705902774319, 15.555041963403413, 6.130695248948339, 16.800144974376483, -30.89487644826877, 58.3220926762055, 19.502176080926276, 2.2657360124872254, -22.243175051101044, 10.859332356889523, 31.36501949804355, 127.1602131408444, 53.57035982894568, -152.833384415035, -109.81673481979924, 144.05540477433152, 17.791052326110233, -22.836097156725327, 77.75032437343305, -66.64972516509735, -98.78966865158034, 101.9782255117435, 22.410501938441996, 246.18676617429932, 523.8890230524094, 76.73974948048686, 60.19683394215174, -186.0993702414149, -91.34608120113609, 644.4086832237348, 88.12468010371674, -13.801334365437192, -20.97460689738228, -10.473666121275699, 25.420905513085735],[44.37199931838998, 46.152422466858305, 38.983536875030715, 32.99578809607337, 12.206786139033705, 30.70618443379005, 2.394619746245967, -43.5701382202894, 21.04502813002151, -18.073961157610142, 42.3906001573976, -10.059210511822204, 55.2962078442237, -4.3747258846455495, 35.67158829606173, 41.06977505408686, 15.13244235231007, 5.967037523567014, 16.174188696269397, -31.194123559251597, 57.588156346388935, 18.827956394535814, 2.112809937279542, -22.259559533908075, 10.678754969009235, 30.35564189760617, 125.37670963282929, 52.001801249148706, -154.84639303496917, -110.62768564777232, 139.9100174168153, 17.25607341352033, -23.562306372081977, 77.00015992234276, -67.49379512196086, -102.4153088787254, 97.77906127816907, 20.252742295962154, 240.30147935874635, 519.0273247748552, 71.45680894713784, 53.549618329043064, -188.0564031983118, -94.09234000816149, 632.5736698536231, 81.90274177944426, -18.564270345823783, -26.3824194451778, -20.399338212176957, 16.37158987172407]]\n",
      "\n"
     ]
    }
   ],
   "source": [
    "for k in PROPERTY.keys():\n",
    "    low = []\n",
    "    high = []\n",
    "    for i in range(len(PROPERTY[k][0][0])):\n",
    "        low.append(min(PROPERTY[k][0][0][i],PROPERTY[k][1][0][i]))\n",
    "        high.append(max(PROPERTY[k][0][0][i],PROPERTY[k][1][0][i]))\n",
    "    print(f\"PROPERTY[\\\"{k}\\\"]=[{str(high)},{str(low)}]\\n\")"
   ]
  },
  {
   "cell_type": "code",
   "execution_count": null,
   "metadata": {},
   "outputs": [],
   "source": []
  }
 ],
 "metadata": {
  "kernelspec": {
   "display_name": "nnequiv",
   "language": "python",
   "name": "nnequiv"
  },
  "language_info": {
   "codemirror_mode": {
    "name": "ipython",
    "version": 3
   },
   "file_extension": ".py",
   "mimetype": "text/x-python",
   "name": "python",
   "nbconvert_exporter": "python",
   "pygments_lexer": "ipython3",
   "version": "3.8.5"
  }
 },
 "nbformat": 4,
 "nbformat_minor": 2
}
