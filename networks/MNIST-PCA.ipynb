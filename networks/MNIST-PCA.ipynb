{
 "cells": [
  {
   "cell_type": "code",
   "execution_count": 1,
   "metadata": {},
   "outputs": [],
   "source": [
    "import tensorflow as tf\n",
    "from tensorflow import keras\n",
    "from tensorflow.keras import layers\n",
    "import numpy as np\n",
    "import sklearn\n",
    "from skimage.transform import resize"
   ]
  },
  {
   "cell_type": "code",
   "execution_count": 2,
   "metadata": {},
   "outputs": [],
   "source": [
    "batch_size = 64\n",
    "(x_train, y_train), (x_test, y_test) = keras.datasets.mnist.load_data()"
   ]
  },
  {
   "cell_type": "code",
   "execution_count": 3,
   "metadata": {},
   "outputs": [],
   "source": [
    "def resize_img(data):\n",
    "    output = np.zeros((data.shape[0],64))\n",
    "    for i, img in enumerate(data):\n",
    "        output[i]=resize(img, (8,8)).flatten()\n",
    "    return output\n",
    "\n",
    "x_train_small = resize_img(x_train)\n",
    "y_train_small = resize_img(y_train)\n",
    "x_test_small = resize_img(x_test)\n",
    "y_test_small = resize_img(y_test)"
   ]
  },
  {
   "cell_type": "code",
   "execution_count": null,
   "metadata": {},
   "outputs": [],
   "source": [
    "# NORMALIZE!"
   ]
  },
  {
   "cell_type": "code",
   "execution_count": null,
   "metadata": {},
   "outputs": [],
   "source": [
    "from sklearn.decomposition import PCA"
   ]
  },
  {
   "cell_type": "code",
   "execution_count": 8,
   "metadata": {},
   "outputs": [],
   "source": [
    "from tensorflow.python.keras.models import load_model\n",
    "import onnx\n",
    "import keras2onnx"
   ]
  },
  {
   "cell_type": "code",
   "execution_count": 9,
   "metadata": {
    "scrolled": true
   },
   "outputs": [
    {
     "name": "stdout",
     "output_type": "stream",
     "text": [
      "WARNING:tensorflow:No training configuration found in the save file, so the model was *not* compiled. Compile it manually.\n"
     ]
    }
   ],
   "source": [
    "teacher_model = load_model('mnist8x8_100_200_300_200_100_10.h5')\n",
    "student_model = load_model('mnist8x8_100_200_300_200_100_10-mirror.h5')"
   ]
  },
  {
   "cell_type": "code",
   "execution_count": 50,
   "metadata": {},
   "outputs": [
    {
     "ename": "ModuleNotFoundError",
     "evalue": "No module named 'clustering'",
     "output_type": "error",
     "traceback": [
      "\u001b[0;31m---------------------------------------------------------------------------\u001b[0m",
      "\u001b[0;31mModuleNotFoundError\u001b[0m                       Traceback (most recent call last)",
      "\u001b[0;32m<ipython-input-50-218951170ad5>\u001b[0m in \u001b[0;36m<module>\u001b[0;34m\u001b[0m\n\u001b[1;32m      1\u001b[0m \u001b[0;32mimport\u001b[0m \u001b[0mpickle\u001b[0m\u001b[0;34m\u001b[0m\u001b[0;34m\u001b[0m\u001b[0m\n\u001b[0;32m----> 2\u001b[0;31m \u001b[0mproperties\u001b[0m \u001b[0;34m=\u001b[0m \u001b[0mpickle\u001b[0m\u001b[0;34m.\u001b[0m\u001b[0mload\u001b[0m\u001b[0;34m(\u001b[0m\u001b[0mopen\u001b[0m\u001b[0;34m(\u001b[0m\u001b[0;34m\"to_verify.pickle\"\u001b[0m\u001b[0;34m,\u001b[0m\u001b[0;34m\"rb\"\u001b[0m\u001b[0;34m)\u001b[0m\u001b[0;34m)\u001b[0m\u001b[0;34m\u001b[0m\u001b[0;34m\u001b[0m\u001b[0m\n\u001b[0m",
      "\u001b[0;31mModuleNotFoundError\u001b[0m: No module named 'clustering'"
     ]
    }
   ],
   "source": [
    "import pickle\n",
    "properties = pickle.load(open(\"to_verify.pickle\",\"rb\"))"
   ]
  },
  {
   "cell_type": "code",
   "execution_count": null,
   "metadata": {},
   "outputs": [],
   "source": [
    "import copy\n",
    "from keras.layers import Concatenate,Dense\n",
    "\n",
    "def build_small_input_net(dim, x_train, x_test, y_test, teacher, student):\n",
    "    pca = sklearn.decomposition.PCA(n_components=dim,whiten=True)\n",
    "    pca.fit(x_train)\n",
    "    print(f\"Explained Variance: {np.sum(pca.explained_variance_ratio_)}\")\n",
    "    \n",
    "    def weight_mat_init(shape, dtype=None):\n",
    "        assert len(shape)==2 and (shape[0],shape[1])==pca.components_.shape, f\"{shape},{pca.components_.shape}\"\n",
    "        return pca.components_\n",
    "    \n",
    "    layers = [\n",
    "            keras.Input(shape=(dim,)),\n",
    "            Dense(64, activation='linear', use_bias=False, trainable=False, kernel_initializer=weight_mat_init)\n",
    "        ]\n",
    "    x_test_small = pca.transform(x_test)\n",
    "    print(\"Teacher...\")\n",
    "    teacher_layers = copy.copy(layers)\n",
    "    for l in teacher.layers:\n",
    "        teacher_layers.append(l)\n",
    "    pca_teacher_model = keras.Sequential(\n",
    "        teacher_layers,\n",
    "        name=\"pca_teacher\",\n",
    "    )\n",
    "    pca_teacher_model.compile(loss=keras.losses.SparseCategoricalCrossentropy(from_logits=True),\n",
    "    metrics=[keras.metrics.SparseCategoricalAccuracy()])\n",
    "    pca_teacher_model.summary()\n",
    "    pca_teacher_model.evaluate(x_test_small, y_test)\n",
    "    print(\"Student...\")\n",
    "    student_layers = copy.copy(layers)\n",
    "    for l in student.layers:\n",
    "        student_layers.append(l)\n",
    "    pca_student_model = keras.Sequential(student_layers, name=\"pca_student\")\n",
    "    pca_student_model.compile(loss=keras.losses.SparseCategoricalCrossentropy(from_logits=True),\n",
    "    metrics=[keras.metrics.SparseCategoricalAccuracy()])\n",
    "    pca_student_model.summary()\n",
    "    pca_student_model.evaluate(x_test_small, y_test)"
   ]
  },
  {
   "cell_type": "code",
   "execution_count": 48,
   "metadata": {},
   "outputs": [
    {
     "name": "stdout",
     "output_type": "stream",
     "text": [
      "Explained Variance: 0.9861906405603835\n",
      "Teacher...\n",
      "Model: \"pca_teacher\"\n",
      "_________________________________________________________________\n",
      "Layer (type)                 Output Shape              Param #   \n",
      "=================================================================\n",
      "dense_17 (Dense)             (None, 64)                2048      \n",
      "_________________________________________________________________\n",
      "dense_45 (Dense)             (None, 100)               6500      \n",
      "_________________________________________________________________\n",
      "dense_46 (Dense)             (None, 200)               20200     \n",
      "_________________________________________________________________\n",
      "dense_47 (Dense)             (None, 300)               60300     \n",
      "_________________________________________________________________\n",
      "dense_48 (Dense)             (None, 200)               60200     \n",
      "_________________________________________________________________\n",
      "dense_49 (Dense)             (None, 100)               20100     \n",
      "_________________________________________________________________\n",
      "dense_50 (Dense)             (None, 10)                1010      \n",
      "=================================================================\n",
      "Total params: 170,358\n",
      "Trainable params: 168,310\n",
      "Non-trainable params: 2,048\n",
      "_________________________________________________________________\n",
      "313/313 [==============================] - 1s 2ms/step - loss: 9.0265 - sparse_categorical_accuracy: 0.6787\n",
      "Student...\n",
      "Model: \"pca_student\"\n",
      "_________________________________________________________________\n",
      "Layer (type)                 Output Shape              Param #   \n",
      "=================================================================\n",
      "dense_17 (Dense)             (None, 64)                2048      \n",
      "_________________________________________________________________\n",
      "dense_51 (Dense)             (None, 40)                2600      \n",
      "_________________________________________________________________\n",
      "dense_52 (Dense)             (None, 40)                1640      \n",
      "_________________________________________________________________\n",
      "dense_53 (Dense)             (None, 10)                410       \n",
      "=================================================================\n",
      "Total params: 6,698\n",
      "Trainable params: 4,650\n",
      "Non-trainable params: 2,048\n",
      "_________________________________________________________________\n",
      "313/313 [==============================] - 0s 2ms/step - loss: 10.9197 - sparse_categorical_accuracy: 0.5840\n"
     ]
    }
   ],
   "source": [
    "build_small_input_net(32, x_train_small, x_test_small, y_test, teacher_model, student_model)\n",
    "    "
   ]
  },
  {
   "cell_type": "code",
   "execution_count": null,
   "metadata": {},
   "outputs": [],
   "source": []
  }
 ],
 "metadata": {
  "kernelspec": {
   "display_name": "nnequiv",
   "language": "python",
   "name": "nnequiv"
  },
  "language_info": {
   "codemirror_mode": {
    "name": "ipython",
    "version": 3
   },
   "file_extension": ".py",
   "mimetype": "text/x-python",
   "name": "python",
   "nbconvert_exporter": "python",
   "pygments_lexer": "ipython3",
   "version": "3.8.5"
  }
 },
 "nbformat": 4,
 "nbformat_minor": 2
}
