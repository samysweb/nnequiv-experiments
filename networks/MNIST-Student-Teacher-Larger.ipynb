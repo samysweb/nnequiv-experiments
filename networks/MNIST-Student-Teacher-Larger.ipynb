{
 "cells": [
  {
   "cell_type": "markdown",
   "metadata": {},
   "source": [
    "Taken from [this tutorial](https://github.com/keras-team/keras-io/blob/master/examples/vision/knowledge_distillation.py)"
   ]
  },
  {
   "cell_type": "code",
   "execution_count": 1,
   "metadata": {},
   "outputs": [],
   "source": [
    "\"\"\"\n",
    "Title: Knowledge Distillation\n",
    "Author: [Kenneth Borup](https://twitter.com/Kennethborup)\n",
    "Date created: 2020/09/01\n",
    "Last modified: 2020/09/01\n",
    "Description: Implementation of classical Knowledge Distillation.\n",
    "\"\"\"\n",
    "\n",
    "\"\"\"\n",
    "## Introduction to Knowledge Distillation\n",
    "Knowledge Distillation is a procedure for model\n",
    "compression, in which a small (student) model is trained to match a large pre-trained\n",
    "(teacher) model. Knowledge is transferred from the teacher model to the student\n",
    "by minimizing a loss function, aimed at matching softened teacher logits as well as\n",
    "ground-truth labels.\n",
    "The logits are softened by applying a \"temperature\" scaling function in the softmax,\n",
    "effectively smoothing out the probability distribution and revealing\n",
    "inter-class relationships learned by the teacher.\n",
    "**Reference:**\n",
    "- [Hinton et al. (2015)](https://arxiv.org/abs/1503.02531)\n",
    "\"\"\"\n",
    "\n",
    "\"\"\"\n",
    "## Setup\n",
    "\"\"\"\n",
    "\n",
    "import tensorflow as tf\n",
    "from tensorflow import keras\n",
    "from tensorflow.keras import layers\n",
    "import numpy as np"
   ]
  },
  {
   "cell_type": "code",
   "execution_count": 2,
   "metadata": {},
   "outputs": [],
   "source": [
    "\"\"\"\n",
    "## Construct `Distiller()` class\n",
    "The custom `Distiller()` class, overrides the `Model` methods `train_step`, `test_step`,\n",
    "and `compile()`. In order to use the distiller, we need:\n",
    "- A trained teacher model\n",
    "- A student model to train\n",
    "- A student loss function on the difference between student predictions and ground-truth\n",
    "- A distillation loss function, along with a `temperature`, on the difference between the\n",
    "soft student predictions and the soft teacher labels\n",
    "- An `alpha` factor to weight the student and distillation loss\n",
    "- An optimizer for the student and (optional) metrics to evaluate performance\n",
    "In the `train_step` method, we perform a forward pass of both the teacher and student,\n",
    "calculate the loss with weighting of the `student_loss` and `distillation_loss` by `alpha` and\n",
    "`1 - alpha`, respectively, and perform the backward pass. Note: only the student weights are updated,\n",
    "and therefore we only calculate the gradients for the student weights.\n",
    "In the `test_step` method, we evaluate the student model on the provided dataset.\n",
    "\"\"\"\n",
    "\n",
    "\n",
    "class Distiller(keras.Model):\n",
    "    def __init__(self, student, teacher):\n",
    "        super(Distiller, self).__init__()\n",
    "        self.teacher = teacher\n",
    "        self.student = student\n",
    "\n",
    "    def compile(\n",
    "        self,\n",
    "        optimizer,\n",
    "        metrics,\n",
    "        student_loss_fn,\n",
    "        distillation_loss_fn,\n",
    "        alpha=0.1,\n",
    "        temperature=3,\n",
    "    ):\n",
    "        \"\"\" Configure the distiller.\n",
    "        Args:\n",
    "            optimizer: Keras optimizer for the student weights\n",
    "            metrics: Keras metrics for evaluation\n",
    "            student_loss_fn: Loss function of difference between student\n",
    "                predictions and ground-truth\n",
    "            distillation_loss_fn: Loss function of difference between soft\n",
    "                student predictions and soft teacher predictions\n",
    "            alpha: weight to student_loss_fn and 1-alpha to distillation_loss_fn\n",
    "            temperature: Temperature for softening probability distributions.\n",
    "                Larger temperature gives softer distributions.\n",
    "        \"\"\"\n",
    "        super(Distiller, self).compile(optimizer=optimizer, metrics=metrics)\n",
    "        self.student_loss_fn = student_loss_fn\n",
    "        self.distillation_loss_fn = distillation_loss_fn\n",
    "        self.alpha = alpha\n",
    "        self.temperature = temperature\n",
    "\n",
    "    def train_step(self, data):\n",
    "        # Unpack data\n",
    "        x, y = data\n",
    "\n",
    "        # Forward pass of teacher\n",
    "        teacher_predictions = self.teacher(x, training=False)\n",
    "\n",
    "        with tf.GradientTape() as tape:\n",
    "            # Forward pass of student\n",
    "            student_predictions = self.student(x, training=True)\n",
    "\n",
    "            # Compute losses\n",
    "            student_loss = self.student_loss_fn(y, student_predictions)\n",
    "            distillation_loss = self.distillation_loss_fn(\n",
    "                tf.nn.softmax(teacher_predictions / self.temperature, axis=1),\n",
    "                tf.nn.softmax(student_predictions / self.temperature, axis=1),\n",
    "            )\n",
    "            loss = self.alpha * student_loss + (1 - self.alpha) * distillation_loss\n",
    "\n",
    "        # Compute gradients\n",
    "        trainable_vars = self.student.trainable_variables\n",
    "        gradients = tape.gradient(loss, trainable_vars)\n",
    "\n",
    "        # Update weights\n",
    "        self.optimizer.apply_gradients(zip(gradients, trainable_vars))\n",
    "\n",
    "        # Update the metrics configured in `compile()`.\n",
    "        self.compiled_metrics.update_state(y, student_predictions)\n",
    "\n",
    "        # Return a dict of performance\n",
    "        results = {m.name: m.result() for m in self.metrics}\n",
    "        results.update(\n",
    "            {\"student_loss\": student_loss, \"distillation_loss\": distillation_loss}\n",
    "        )\n",
    "        return results\n",
    "\n",
    "    def test_step(self, data):\n",
    "        # Unpack the data\n",
    "        x, y = data\n",
    "\n",
    "        # Compute predictions\n",
    "        y_prediction = self.student(x, training=False)\n",
    "\n",
    "        # Calculate the loss\n",
    "        student_loss = self.student_loss_fn(y, y_prediction)\n",
    "\n",
    "        # Update the metrics.\n",
    "        self.compiled_metrics.update_state(y, y_prediction)\n",
    "\n",
    "        # Return a dict of performance\n",
    "        results = {m.name: m.result() for m in self.metrics}\n",
    "        results.update({\"student_loss\": student_loss})\n",
    "        return results"
   ]
  },
  {
   "cell_type": "code",
   "execution_count": 4,
   "metadata": {},
   "outputs": [],
   "source": [
    "\"\"\"\n",
    "## Prepare the dataset\n",
    "The dataset used for training the teacher and distilling the teacher is\n",
    "[MNIST](https://keras.io/api/datasets/mnist/), and the procedure would be equivalent for any other\n",
    "dataset, e.g. [CIFAR-10](https://keras.io/api/datasets/cifar10/), with a suitable choice\n",
    "of models. Both the student and teacher are trained on the training set and evaluated on\n",
    "the test set.\n",
    "\"\"\"\n",
    "\n",
    "# Prepare the train and test dataset.\n",
    "batch_size = 64\n",
    "(x_train, y_train), (x_test, y_test) = keras.datasets.mnist.load_data()"
   ]
  },
  {
   "cell_type": "code",
   "execution_count": 5,
   "metadata": {},
   "outputs": [],
   "source": [
    "from skimage.transform import resize\n",
    "\n",
    "def resize_img(data):\n",
    "    output = np.zeros((data.shape[0],64))\n",
    "    for i, img in enumerate(data):\n",
    "        output[i]=resize(img, (8,8)).flatten()\n",
    "    return output\n",
    "\n",
    "x_train_small = resize_img(x_train)\n",
    "y_train_small = resize_img(y_train)\n",
    "x_test_small = resize_img(x_test)\n",
    "y_test_small = resize_img(y_test)\n",
    "\n",
    "\n",
    "#bottle_resized = resize(bottle, (140, 54))"
   ]
  },
  {
   "cell_type": "code",
   "execution_count": 6,
   "metadata": {},
   "outputs": [],
   "source": [
    "# Normalize data\n",
    "x_train = x_train_small.astype(\"float32\") / 255.0\n",
    "x_train = np.reshape(x_train_small, (-1, 64))\n",
    "\n",
    "x_test = x_test_small.astype(\"float32\") / 255.0\n",
    "x_test = np.reshape(x_test_small, (-1, 64))"
   ]
  },
  {
   "cell_type": "code",
   "execution_count": 72,
   "metadata": {},
   "outputs": [],
   "source": [
    "\"\"\"\n",
    "## Create student and teacher models\n",
    "Initialy, we create a teacher model and a smaller student model. Both models are\n",
    "convolutional neural networks and created using `Sequential()`,\n",
    "but could be any Keras model.\n",
    "\"\"\"\n",
    "\n",
    "# Create the teacher\n",
    "teacher = keras.Sequential(\n",
    "    [\n",
    "        keras.Input(shape=(64,)),\n",
    "        layers.Dense(100, activation='relu'),\n",
    "        layers.Dense(200, activation='relu'),\n",
    "        layers.Dense(300, activation='relu'),\n",
    "        layers.Dense(200, activation='relu'),\n",
    "        layers.Dense(100, activation='relu'),\n",
    "        layers.Dense(10),\n",
    "    ],\n",
    "    name=\"teacher\",\n",
    ")\n",
    "\n",
    "# Create the student\n",
    "student = keras.Sequential(\n",
    "    [\n",
    "        keras.Input(shape=(64,)),\n",
    "        layers.Dense(40, activation='relu'),\n",
    "        layers.Dense(40, activation='relu'),\n",
    "        layers.Dense(10),\n",
    "    ],\n",
    "    name=\"student\",\n",
    ")\n",
    "\n",
    "# Clone student for later comparison\n",
    "student_scratch = keras.models.clone_model(student)"
   ]
  },
  {
   "cell_type": "code",
   "execution_count": 73,
   "metadata": {},
   "outputs": [
    {
     "name": "stdout",
     "output_type": "stream",
     "text": [
      "Epoch 1/10\n",
      "1875/1875 [==============================] - 6s 3ms/step - loss: 0.3137 - sparse_categorical_accuracy: 0.9025\n",
      "Epoch 2/10\n",
      "1875/1875 [==============================] - 6s 3ms/step - loss: 0.1529 - sparse_categorical_accuracy: 0.9532\n",
      "Epoch 3/10\n",
      "1875/1875 [==============================] - 6s 3ms/step - loss: 0.1258 - sparse_categorical_accuracy: 0.9610\n",
      "Epoch 4/10\n",
      "1875/1875 [==============================] - 6s 3ms/step - loss: 0.1094 - sparse_categorical_accuracy: 0.9658\n",
      "Epoch 5/10\n",
      "1875/1875 [==============================] - 6s 3ms/step - loss: 0.0961 - sparse_categorical_accuracy: 0.9699\n",
      "Epoch 6/10\n",
      "1875/1875 [==============================] - 6s 3ms/step - loss: 0.0847 - sparse_categorical_accuracy: 0.9736\n",
      "Epoch 7/10\n",
      "1875/1875 [==============================] - 6s 3ms/step - loss: 0.0757 - sparse_categorical_accuracy: 0.9757\n",
      "Epoch 8/10\n",
      "1875/1875 [==============================] - 6s 3ms/step - loss: 0.0698 - sparse_categorical_accuracy: 0.9777\n",
      "Epoch 9/10\n",
      "1875/1875 [==============================] - 6s 3ms/step - loss: 0.0623 - sparse_categorical_accuracy: 0.9796\n",
      "Epoch 10/10\n",
      "1875/1875 [==============================] - 6s 3ms/step - loss: 0.0579 - sparse_categorical_accuracy: 0.9814\n"
     ]
    },
    {
     "data": {
      "text/plain": [
       "<tensorflow.python.keras.callbacks.History at 0x7fca0479ab20>"
      ]
     },
     "execution_count": 73,
     "metadata": {},
     "output_type": "execute_result"
    }
   ],
   "source": [
    "\"\"\"\n",
    "## Train the teacher\n",
    "In knowledge distillation we assume that the teacher is trained and fixed. Thus, we start\n",
    "by training the teacher model on the training set in the usual way.\n",
    "\"\"\"\n",
    "\n",
    "# Train teacher as usual\n",
    "teacher.compile(\n",
    "    optimizer=keras.optimizers.Adam(),\n",
    "    loss=keras.losses.SparseCategoricalCrossentropy(from_logits=True),\n",
    "    metrics=[keras.metrics.SparseCategoricalAccuracy()],\n",
    ")\n",
    "\n",
    "# Train and evaluate teacher on data.\n",
    "teacher.fit(x_train, y_train, epochs=10)"
   ]
  },
  {
   "cell_type": "code",
   "execution_count": 74,
   "metadata": {},
   "outputs": [
    {
     "name": "stdout",
     "output_type": "stream",
     "text": [
      "313/313 [==============================] - 1s 2ms/step - loss: 0.1097 - sparse_categorical_accuracy: 0.9731\n"
     ]
    },
    {
     "data": {
      "text/plain": [
       "[0.10968483984470367, 0.9731000065803528]"
      ]
     },
     "execution_count": 74,
     "metadata": {},
     "output_type": "execute_result"
    }
   ],
   "source": [
    "teacher.evaluate(x_test, y_test)"
   ]
  },
  {
   "cell_type": "code",
   "execution_count": 75,
   "metadata": {},
   "outputs": [],
   "source": [
    "teacher.save(\"mnist8x8_100_200_300_200_100_10.h5\")"
   ]
  },
  {
   "cell_type": "code",
   "execution_count": 76,
   "metadata": {},
   "outputs": [
    {
     "name": "stdout",
     "output_type": "stream",
     "text": [
      "Epoch 1/30\n",
      "1875/1875 [==============================] - 4s 2ms/step - sparse_categorical_accuracy: 0.8245 - student_loss: 0.6061 - distillation_loss: 0.1313\n",
      "Epoch 2/30\n",
      "1875/1875 [==============================] - 4s 2ms/step - sparse_categorical_accuracy: 0.9061 - student_loss: 0.3496 - distillation_loss: 0.0613\n",
      "Epoch 3/30\n",
      "1875/1875 [==============================] - 4s 2ms/step - sparse_categorical_accuracy: 0.9204 - student_loss: 0.2951 - distillation_loss: 0.0471\n",
      "Epoch 4/30\n",
      "1875/1875 [==============================] - 4s 2ms/step - sparse_categorical_accuracy: 0.9296 - student_loss: 0.2586 - distillation_loss: 0.0390\n",
      "Epoch 5/30\n",
      "1875/1875 [==============================] - 4s 2ms/step - sparse_categorical_accuracy: 0.9366 - student_loss: 0.2332 - distillation_loss: 0.0338\n",
      "Epoch 6/30\n",
      "1875/1875 [==============================] - 4s 2ms/step - sparse_categorical_accuracy: 0.9414 - student_loss: 0.2154 - distillation_loss: 0.0301\n",
      "Epoch 7/30\n",
      "1875/1875 [==============================] - 4s 2ms/step - sparse_categorical_accuracy: 0.9446 - student_loss: 0.1983 - distillation_loss: 0.0276\n",
      "Epoch 8/30\n",
      "1875/1875 [==============================] - 4s 2ms/step - sparse_categorical_accuracy: 0.9483 - student_loss: 0.1854 - distillation_loss: 0.0257\n",
      "Epoch 9/30\n",
      "1875/1875 [==============================] - 4s 2ms/step - sparse_categorical_accuracy: 0.9501 - student_loss: 0.1736 - distillation_loss: 0.0241\n",
      "Epoch 10/30\n",
      "1875/1875 [==============================] - 4s 2ms/step - sparse_categorical_accuracy: 0.9527 - student_loss: 0.1647 - distillation_loss: 0.0229\n",
      "Epoch 11/30\n",
      "1875/1875 [==============================] - 4s 2ms/step - sparse_categorical_accuracy: 0.9547 - student_loss: 0.1573 - distillation_loss: 0.0220\n",
      "Epoch 12/30\n",
      "1875/1875 [==============================] - 4s 2ms/step - sparse_categorical_accuracy: 0.9568 - student_loss: 0.1501 - distillation_loss: 0.0211\n",
      "Epoch 13/30\n",
      "1875/1875 [==============================] - 4s 2ms/step - sparse_categorical_accuracy: 0.9576 - student_loss: 0.1458 - distillation_loss: 0.0203\n",
      "Epoch 14/30\n",
      "1875/1875 [==============================] - 4s 2ms/step - sparse_categorical_accuracy: 0.9594 - student_loss: 0.1401 - distillation_loss: 0.0197\n",
      "Epoch 15/30\n",
      "1875/1875 [==============================] - 4s 2ms/step - sparse_categorical_accuracy: 0.9599 - student_loss: 0.1369 - distillation_loss: 0.0193\n",
      "Epoch 16/30\n",
      "1875/1875 [==============================] - 4s 2ms/step - sparse_categorical_accuracy: 0.9603 - student_loss: 0.1333 - distillation_loss: 0.0188\n",
      "Epoch 17/30\n",
      "1875/1875 [==============================] - 4s 2ms/step - sparse_categorical_accuracy: 0.9615 - student_loss: 0.1299 - distillation_loss: 0.0183\n",
      "Epoch 18/30\n",
      "1875/1875 [==============================] - 4s 2ms/step - sparse_categorical_accuracy: 0.9617 - student_loss: 0.1274 - distillation_loss: 0.0179\n",
      "Epoch 19/30\n",
      "1875/1875 [==============================] - 4s 2ms/step - sparse_categorical_accuracy: 0.9628 - student_loss: 0.1234 - distillation_loss: 0.0175\n",
      "Epoch 20/30\n",
      "1875/1875 [==============================] - 4s 2ms/step - sparse_categorical_accuracy: 0.9632 - student_loss: 0.1209 - distillation_loss: 0.0172\n",
      "Epoch 21/30\n",
      "1875/1875 [==============================] - 4s 2ms/step - sparse_categorical_accuracy: 0.9639 - student_loss: 0.1196 - distillation_loss: 0.0169\n",
      "Epoch 22/30\n",
      "1875/1875 [==============================] - 4s 2ms/step - sparse_categorical_accuracy: 0.9645 - student_loss: 0.1161 - distillation_loss: 0.0166\n",
      "Epoch 23/30\n",
      "1875/1875 [==============================] - 4s 2ms/step - sparse_categorical_accuracy: 0.9645 - student_loss: 0.1151 - distillation_loss: 0.0163\n",
      "Epoch 24/30\n",
      "1875/1875 [==============================] - 4s 2ms/step - sparse_categorical_accuracy: 0.9656 - student_loss: 0.1118 - distillation_loss: 0.0161\n",
      "Epoch 25/30\n",
      "1875/1875 [==============================] - 4s 2ms/step - sparse_categorical_accuracy: 0.9657 - student_loss: 0.1114 - distillation_loss: 0.0158\n",
      "Epoch 26/30\n",
      "1875/1875 [==============================] - 4s 2ms/step - sparse_categorical_accuracy: 0.9670 - student_loss: 0.1080 - distillation_loss: 0.0156\n",
      "Epoch 27/30\n",
      "1875/1875 [==============================] - 5s 2ms/step - sparse_categorical_accuracy: 0.9672 - student_loss: 0.1077 - distillation_loss: 0.0153\n",
      "Epoch 28/30\n",
      "1875/1875 [==============================] - 5s 2ms/step - sparse_categorical_accuracy: 0.9675 - student_loss: 0.1058 - distillation_loss: 0.0151\n",
      "Epoch 29/30\n",
      "1875/1875 [==============================] - 5s 2ms/step - sparse_categorical_accuracy: 0.9681 - student_loss: 0.1042 - distillation_loss: 0.0149\n",
      "Epoch 30/30\n",
      "1875/1875 [==============================] - 5s 2ms/step - sparse_categorical_accuracy: 0.9683 - student_loss: 0.1032 - distillation_loss: 0.0147\n"
     ]
    },
    {
     "data": {
      "text/plain": [
       "<tensorflow.python.keras.callbacks.History at 0x7fca03e45c40>"
      ]
     },
     "execution_count": 76,
     "metadata": {},
     "output_type": "execute_result"
    }
   ],
   "source": [
    "\"\"\"\n",
    "## Distill teacher to student\n",
    "We have already trained the teacher model, and we only need to initialize a\n",
    "`Distiller(student, teacher)` instance, `compile()` it with the desired losses,\n",
    "hyperparameters and optimizer, and distill the teacher to the student.\n",
    "\"\"\"\n",
    "\n",
    "# Initialize and compile distiller\n",
    "distiller = Distiller(student=student, teacher=teacher)\n",
    "distiller.compile(\n",
    "    optimizer=keras.optimizers.Adam(),\n",
    "    metrics=[keras.metrics.SparseCategoricalAccuracy()],\n",
    "    student_loss_fn=keras.losses.SparseCategoricalCrossentropy(from_logits=True),\n",
    "    distillation_loss_fn=keras.losses.KLDivergence(),\n",
    "    alpha=0.1,\n",
    "    temperature=10,\n",
    ")\n",
    "\n",
    "# Distill teacher to student\n",
    "distiller.fit(x_train, y_train, epochs=30)"
   ]
  },
  {
   "cell_type": "code",
   "execution_count": 77,
   "metadata": {},
   "outputs": [
    {
     "name": "stdout",
     "output_type": "stream",
     "text": [
      "313/313 [==============================] - 0s 1ms/step - sparse_categorical_accuracy: 0.9640 - student_loss: 0.1343\n"
     ]
    },
    {
     "data": {
      "text/plain": [
       "0.9639999866485596"
      ]
     },
     "execution_count": 77,
     "metadata": {},
     "output_type": "execute_result"
    }
   ],
   "source": [
    "# Evaluate student on test dataset\n",
    "distiller.evaluate(x_test, y_test)"
   ]
  },
  {
   "cell_type": "code",
   "execution_count": 78,
   "metadata": {},
   "outputs": [],
   "source": [
    "student.save(\"mnist8x8_100_200_300_200_100_10-mirror.h5\")"
   ]
  },
  {
   "cell_type": "code",
   "execution_count": 79,
   "metadata": {},
   "outputs": [],
   "source": [
    "from tensorflow.python.keras.models import load_model\n",
    "import onnx\n",
    "import keras2onnx"
   ]
  },
  {
   "cell_type": "code",
   "execution_count": 82,
   "metadata": {},
   "outputs": [
    {
     "name": "stderr",
     "output_type": "stream",
     "text": [
      "tf executing eager_mode: True\n",
      "tf.keras model eager_mode: False\n",
      "The ONNX operator number change on the optimization: 22 -> 17\n",
      "The maximum opset needed by this model is only 9.\n"
     ]
    }
   ],
   "source": [
    "model = load_model('mnist8x8_100_200_300_200_100_10.h5')\n",
    "onnx_model = keras2onnx.convert_keras(model, model.name)\n",
    "onnx.save_model(onnx_model, \"mnist8x8_100_200_300_200_100_10.onnx\")"
   ]
  },
  {
   "cell_type": "code",
   "execution_count": 83,
   "metadata": {},
   "outputs": [
    {
     "name": "stdout",
     "output_type": "stream",
     "text": [
      "WARNING:tensorflow:No training configuration found in the save file, so the model was *not* compiled. Compile it manually.\n"
     ]
    },
    {
     "name": "stderr",
     "output_type": "stream",
     "text": [
      "tf executing eager_mode: True\n",
      "tf.keras model eager_mode: False\n",
      "The ONNX operator number change on the optimization: 13 -> 8\n",
      "The maximum opset needed by this model is only 9.\n"
     ]
    }
   ],
   "source": [
    "model = load_model('mnist8x8_100_200_300_200_100_10-mirror.h5')\n",
    "onnx_model = keras2onnx.convert_keras(model, model.name)\n",
    "onnx.save_model(onnx_model, \"mnist8x8_100_200_300_200_100_10-mirror.onnx\")"
   ]
  },
  {
   "cell_type": "markdown",
   "metadata": {},
   "source": [
    "Note: The student network was trained for a total of 18 epochs!\n"
   ]
  },
  {
   "cell_type": "code",
   "execution_count": 71,
   "metadata": {
    "scrolled": true
   },
   "outputs": [
    {
     "name": "stdout",
     "output_type": "stream",
     "text": [
      "WARNING:tensorflow:No training configuration found in the save file, so the model was *not* compiled. Compile it manually.\n",
      "True\n",
      "[[-440.28275   216.44778   248.75108   407.42728  -185.77899    14.428975\n",
      "  -505.653     117.48717    23.33815  -311.39465 ]]\n",
      "[[-146.83609  -150.80287    94.99972   243.09435  -368.1465   -213.94551\n",
      "  -328.0137    -70.71278   -53.830566 -466.51904 ]]\n"
     ]
    }
   ],
   "source": [
    "#point = [0.0, 0.01, 8.005, 14.005, 14.995, 13.995, 7.005, 0.01, 0.0, 0.0, 6.995, 7.995, 8.995, 14.995, 8.005, 0.0, 0.01, 0.0, 0.0, 0.01, 5.005, 13.995, 2.995, 0.0, 0.0, 0.0, 5.005, 9.005, 13.995, 13.005, 4.005, 0.0, 0.0, 1.005, 10.005, 14.005, 14.995, 12.005, 4.005, 0.01, 0.0, 0.0, 2.005, 13.005, 8.005, 1.995, 0.0, 0.01, 0.0, 0.0, 5.995, 14.995, 2.005, 0.01, 0.0, 0.01, 0.01, 0.0, 9.995, 9.995, 0.01, 0.01, 0.01, 0.01]\n",
    "#point = [0.0, 0.01, 8.005, 14.005, 14.995, 13.995, 7.005, 0.01, 0.0, 0.0, 6.995, 7.995, 8.995, 14.995, 8.005, 0.0, 0.01, 0.0, 0.0, 0.01, 5.005, 13.995, 2.995, 0.0, 0.0, 0.0, 5.005, 9.005, 13.995, 13.005, 4.005, 0.0, 0.0, 1.005, 10.005, 14.005, 14.995, 12.005, 4.005, 0.01, 0.0, 0.0, 2.005, 13.005, 8.005, 1.995, 0.0, 0.01, 0.0, 0.0, 5.995, 14.995, 2.005, 0.01, 0.0, 0.01, 0.01, 0.0, 9.995, 9.995, 0.01, 0.01, 0.01, 0.01]\n",
    "#point = [0.0, 0.01, 8.005, 14.005, 14.995, 13.995, 7.005, 0.01, 0.0, 0.0, 6.995, 7.995, 8.995, 14.995, 8.005, 0.0, 0.01, 0.0, 0.0, 0.01, 5.005, 13.995, 2.995, 0.0, 0.0, 0.0, 5.005, 9.005, 13.995, 13.005, 4.005, 0.0, 0.0, 1.005, 10.005, 14.005, 14.995, 12.005, 4.005, 0.01, 0.0, 0.0, 2.005, 13.005, 8.005, 1.995, 0.0, 0.01, 0.0, 0.0, 5.995, 14.995, 2.005, 0.01, 0.0, 0.01, 0.01, 0.0, 9.995, 9.995, 0.01, 0.01, 0.01, 0.01]\n",
    "point = [0.1, 0.1, 7.95, 14.05, 14.95, 14.05, 6.95, 0.1, 0.0, 0.1, 6.95, 8.05, 9.05, 14.95, 8.05, 0.1, 0.1, 0.0, 0.1, 0.1, 5.05, 14.05, 2.95, 0.0, 0.1, 0.0, 4.95, 9.05, 14.05, 12.95, 4.05, 0.0, 0.0, 1.05, 9.95, 14.05, 14.95, 12.05, 4.05, 0.1, 0.1, 0.1, 2.05, 13.05, 8.05, 2.05, 0.0, 0.1, 0.0, 0.0, 6.05, 15.05, 2.05, 0.0, 0.1, 0.1, 0.1, 0.1, 9.95, 10.05, 0.1, 0.1, 0.1, 0.0]\n",
    "teacher1 = load_model('mnist8x8_100_80_60_40_20_10.h5')\n",
    "student1 = load_model('mnist8x8_100_80_60_40_20_10-mirror.h5')\n",
    "p1=teacher1.predict(np.array([point]))\n",
    "p2=student1.predict(np.array([point]))\n",
    "print(np.argmax(p1)==np.argmax(p2))\n",
    "print(p1)\n",
    "print(p2)\n"
   ]
  },
  {
   "cell_type": "markdown",
   "metadata": {},
   "source": [
    "# Equivalence Properties\n",
    "It seems that the `9200.e` properties with `e<5` are top 1 equivalent.\n",
    "`9000*` and `9100*` on the other hand are not top 1 equivalent"
   ]
  },
  {
   "cell_type": "code",
   "execution_count": null,
   "metadata": {},
   "outputs": [],
   "source": []
  }
 ],
 "metadata": {
  "kernelspec": {
   "display_name": "nnequiv",
   "language": "python",
   "name": "nnequiv"
  },
  "language_info": {
   "codemirror_mode": {
    "name": "ipython",
    "version": 3
   },
   "file_extension": ".py",
   "mimetype": "text/x-python",
   "name": "python",
   "nbconvert_exporter": "python",
   "pygments_lexer": "ipython3",
   "version": "3.8.5"
  }
 },
 "nbformat": 4,
 "nbformat_minor": 2
}
