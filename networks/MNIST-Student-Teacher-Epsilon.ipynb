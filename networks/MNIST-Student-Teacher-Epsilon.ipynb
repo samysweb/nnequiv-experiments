{
 "cells": [
  {
   "cell_type": "code",
   "execution_count": 3,
   "metadata": {},
   "outputs": [],
   "source": [
    "\"\"\"\n",
    "Title: Knowledge Distillation\n",
    "Author: [Kenneth Borup](https://twitter.com/Kennethborup)\n",
    "Date created: 2020/09/01\n",
    "Last modified: 2020/09/01\n",
    "Description: Implementation of classical Knowledge Distillation.\n",
    "\"\"\"\n",
    "\n",
    "\"\"\"\n",
    "## Introduction to Knowledge Distillation\n",
    "Knowledge Distillation is a procedure for model\n",
    "compression, in which a small (student) model is trained to match a large pre-trained\n",
    "(teacher) model. Knowledge is transferred from the teacher model to the student\n",
    "by minimizing a loss function, aimed at matching softened teacher logits as well as\n",
    "ground-truth labels.\n",
    "The logits are softened by applying a \"temperature\" scaling function in the softmax,\n",
    "effectively smoothing out the probability distribution and revealing\n",
    "inter-class relationships learned by the teacher.\n",
    "**Reference:**\n",
    "- [Hinton et al. (2015)](https://arxiv.org/abs/1503.02531)\n",
    "\"\"\"\n",
    "\n",
    "\"\"\"\n",
    "## Setup\n",
    "\"\"\"\n",
    "\n",
    "import tensorflow as tf\n",
    "from tensorflow import keras\n",
    "from tensorflow.keras import layers\n",
    "import numpy as np"
   ]
  },
  {
   "cell_type": "code",
   "execution_count": 4,
   "metadata": {},
   "outputs": [],
   "source": [
    "\"\"\"\n",
    "## Prepare the dataset\n",
    "The dataset used for training the teacher and distilling the teacher is\n",
    "[MNIST](https://keras.io/api/datasets/mnist/), and the procedure would be equivalent for any other\n",
    "dataset, e.g. [CIFAR-10](https://keras.io/api/datasets/cifar10/), with a suitable choice\n",
    "of models. Both the student and teacher are trained on the training set and evaluated on\n",
    "the test set.\n",
    "\"\"\"\n",
    "\n",
    "# Prepare the train and test dataset.\n",
    "batch_size = 64\n",
    "(x_train, y_train), (x_test, y_test) = keras.datasets.mnist.load_data()"
   ]
  },
  {
   "cell_type": "code",
   "execution_count": 5,
   "metadata": {},
   "outputs": [],
   "source": [
    "from skimage.transform import resize\n",
    "\n",
    "def resize_img(data):\n",
    "    output = np.zeros((data.shape[0],64))\n",
    "    for i, img in enumerate(data):\n",
    "        output[i]=resize(img, (8,8)).flatten()\n",
    "    return output\n",
    "\n",
    "x_train_small = resize_img(x_train)\n",
    "y_train_small = resize_img(y_train)\n",
    "x_test_small = resize_img(x_test)\n",
    "y_test_small = resize_img(y_test)\n",
    "\n",
    "\n",
    "#bottle_resized = resize(bottle, (140, 54))"
   ]
  },
  {
   "cell_type": "code",
   "execution_count": 6,
   "metadata": {},
   "outputs": [],
   "source": [
    "# Normalize data\n",
    "x_train = x_train_small.astype(\"float32\") * 16.0\n",
    "x_train = np.reshape(x_train, (-1, 64))\n",
    "\n",
    "x_test = x_test_small.astype(\"float32\") * 16.0\n",
    "x_test = np.reshape(x_test, (-1, 64))"
   ]
  },
  {
   "cell_type": "code",
   "execution_count": 7,
   "metadata": {},
   "outputs": [
    {
     "data": {
      "text/plain": [
       "15.87451"
      ]
     },
     "execution_count": 7,
     "metadata": {},
     "output_type": "execute_result"
    }
   ],
   "source": [
    "np.max(x_test)"
   ]
  },
  {
   "cell_type": "markdown",
   "metadata": {},
   "source": [
    "Taken from [this tutorial](https://github.com/keras-team/keras-io/blob/master/examples/vision/knowledge_distillation.py)"
   ]
  },
  {
   "cell_type": "code",
   "execution_count": 8,
   "metadata": {},
   "outputs": [],
   "source": [
    "\"\"\"\n",
    "## Construct `Distiller()` class\n",
    "The custom `Distiller()` class, overrides the `Model` methods `train_step`, `test_step`,\n",
    "and `compile()`. In order to use the distiller, we need:\n",
    "- A trained teacher model\n",
    "- A student model to train\n",
    "- A student loss function on the difference between student predictions and ground-truth\n",
    "- A distillation loss function, along with a `temperature`, on the difference between the\n",
    "soft student predictions and the soft teacher labels\n",
    "- An `alpha` factor to weight the student and distillation loss\n",
    "- An optimizer for the student and (optional) metrics to evaluate performance\n",
    "In the `train_step` method, we perform a forward pass of both the teacher and student,\n",
    "calculate the loss with weighting of the `student_loss` and `distillation_loss` by `alpha` and\n",
    "`1 - alpha`, respectively, and perform the backward pass. Note: only the student weights are updated,\n",
    "and therefore we only calculate the gradients for the student weights.\n",
    "In the `test_step` method, we evaluate the student model on the provided dataset.\n",
    "\"\"\"\n",
    "\n",
    "\n",
    "class Distiller(keras.Model):\n",
    "    def __init__(self, student, teacher):\n",
    "        super(Distiller, self).__init__()\n",
    "        self.teacher = teacher\n",
    "        self.student = student\n",
    "\n",
    "    def compile(\n",
    "        self,\n",
    "        optimizer,\n",
    "        metrics,\n",
    "        student_loss_fn,\n",
    "        distillation_loss_fn,\n",
    "        alpha=0.1,\n",
    "        temperature=3,\n",
    "    ):\n",
    "        \"\"\" Configure the distiller.\n",
    "        Args:\n",
    "            optimizer: Keras optimizer for the student weights\n",
    "            metrics: Keras metrics for evaluation\n",
    "            student_loss_fn: Loss function of difference between student\n",
    "                predictions and ground-truth\n",
    "            distillation_loss_fn: Loss function of difference between soft\n",
    "                student predictions and soft teacher predictions\n",
    "            alpha: weight to student_loss_fn and 1-alpha to distillation_loss_fn\n",
    "            temperature: Temperature for softening probability distributions.\n",
    "                Larger temperature gives softer distributions.\n",
    "        \"\"\"\n",
    "        super(Distiller, self).compile(optimizer=optimizer, metrics=metrics)\n",
    "        self.student_loss_fn = student_loss_fn\n",
    "        self.distillation_loss_fn = distillation_loss_fn\n",
    "        self.alpha = alpha\n",
    "        self.temperature = temperature\n",
    "\n",
    "    def train_step(self, data):\n",
    "        # Unpack data\n",
    "        x, y = data\n",
    "\n",
    "        # Forward pass of teacher\n",
    "        teacher_predictions = self.teacher(x, training=False)\n",
    "\n",
    "        with tf.GradientTape() as tape:\n",
    "            # Forward pass of student\n",
    "            student_predictions = self.student(x, training=True)\n",
    "\n",
    "            # Compute losses\n",
    "            student_loss = self.student_loss_fn(y, student_predictions)\n",
    "            distillation_loss = self.distillation_loss_fn(\n",
    "                teacher_predictions,\n",
    "                student_predictions,\n",
    "            )\n",
    "            loss = distillation_loss\n",
    "\n",
    "        # Compute gradients\n",
    "        trainable_vars = self.student.trainable_variables\n",
    "        gradients = tape.gradient(loss, trainable_vars)\n",
    "\n",
    "        # Update weights\n",
    "        self.optimizer.apply_gradients(zip(gradients, trainable_vars))\n",
    "\n",
    "        # Update the metrics configured in `compile()`.\n",
    "        self.compiled_metrics.update_state(y, student_predictions)\n",
    "\n",
    "        # Return a dict of performance\n",
    "        results = {m.name: m.result() for m in self.metrics}\n",
    "        results.update(\n",
    "            {\"student_loss\": student_loss, \"distillation_loss\": distillation_loss}\n",
    "        )\n",
    "        return results\n",
    "\n",
    "    def test_step(self, data):\n",
    "        # Unpack the data\n",
    "        x, y = data\n",
    "\n",
    "        # Compute predictions\n",
    "        y_prediction = self.student(x, training=False)\n",
    "\n",
    "        # Calculate the loss\n",
    "        student_loss = self.student_loss_fn(y, y_prediction)\n",
    "\n",
    "        # Update the metrics.\n",
    "        self.compiled_metrics.update_state(y, y_prediction)\n",
    "\n",
    "        # Return a dict of performance\n",
    "        results = {m.name: m.result() for m in self.metrics}\n",
    "        results.update({\"student_loss\": student_loss})\n",
    "        return results"
   ]
  },
  {
   "cell_type": "code",
   "execution_count": 9,
   "metadata": {},
   "outputs": [],
   "source": [
    "\"\"\"\n",
    "## Create student and teacher models\n",
    "Initialy, we create a teacher model and a smaller student model. Both models are\n",
    "convolutional neural networks and created using `Sequential()`,\n",
    "but could be any Keras model.\n",
    "\"\"\"\n",
    "\n",
    "# Create the teacher\n",
    "teacher = keras.Sequential(\n",
    "    [\n",
    "        keras.Input(shape=(64,)),\n",
    "        layers.Dense(100, activation='relu'),\n",
    "        layers.Dense(80, activation='relu'),\n",
    "        layers.Dense(60, activation='relu'),\n",
    "        layers.Dense(40, activation='relu'),\n",
    "        layers.Dense(20, activation='relu'),\n",
    "        layers.Dense(10),\n",
    "    ],\n",
    "    name=\"teacher\",\n",
    ")\n",
    "\n",
    "# Create the student\n",
    "student = keras.Sequential(\n",
    "    [\n",
    "        keras.Input(shape=(64,)),\n",
    "        layers.Dense(40, activation='relu'),\n",
    "        layers.Dense(40, activation='relu'),\n",
    "        layers.Dense(10),\n",
    "    ],\n",
    "    name=\"student\",\n",
    ")\n",
    "\n",
    "# Clone student for later comparison\n",
    "student_scratch = keras.models.clone_model(student)"
   ]
  },
  {
   "cell_type": "code",
   "execution_count": 10,
   "metadata": {},
   "outputs": [
    {
     "name": "stdout",
     "output_type": "stream",
     "text": [
      "Epoch 1/10\n",
      "1875/1875 [==============================] - 3s 2ms/step - loss: 0.3033 - sparse_categorical_accuracy: 0.9069\n",
      "Epoch 2/10\n",
      "1875/1875 [==============================] - 4s 2ms/step - loss: 0.1574 - sparse_categorical_accuracy: 0.9511\n",
      "Epoch 3/10\n",
      "1875/1875 [==============================] - 4s 2ms/step - loss: 0.1281 - sparse_categorical_accuracy: 0.9594\n",
      "Epoch 4/10\n",
      "1875/1875 [==============================] - 4s 2ms/step - loss: 0.1129 - sparse_categorical_accuracy: 0.9646\n",
      "Epoch 5/10\n",
      "1875/1875 [==============================] - 4s 2ms/step - loss: 0.1000 - sparse_categorical_accuracy: 0.9683\n",
      "Epoch 6/10\n",
      "1875/1875 [==============================] - 3s 2ms/step - loss: 0.0918 - sparse_categorical_accuracy: 0.9707\n",
      "Epoch 7/10\n",
      "1875/1875 [==============================] - 3s 2ms/step - loss: 0.0867 - sparse_categorical_accuracy: 0.9730\n",
      "Epoch 8/10\n",
      "1875/1875 [==============================] - 3s 2ms/step - loss: 0.0769 - sparse_categorical_accuracy: 0.9753\n",
      "Epoch 9/10\n",
      "1875/1875 [==============================] - 4s 2ms/step - loss: 0.0724 - sparse_categorical_accuracy: 0.9771\n",
      "Epoch 10/10\n",
      "1875/1875 [==============================] - 4s 2ms/step - loss: 0.0676 - sparse_categorical_accuracy: 0.9785\n"
     ]
    },
    {
     "data": {
      "text/plain": [
       "<tensorflow.python.keras.callbacks.History at 0x7f4b52719220>"
      ]
     },
     "execution_count": 10,
     "metadata": {},
     "output_type": "execute_result"
    }
   ],
   "source": [
    "\"\"\"\n",
    "## Train the teacher\n",
    "In knowledge distillation we assume that the teacher is trained and fixed. Thus, we start\n",
    "by training the teacher model on the training set in the usual way.\n",
    "\"\"\"\n",
    "\n",
    "# Train teacher as usual\n",
    "teacher.compile(\n",
    "    optimizer=keras.optimizers.Adam(),\n",
    "    loss=keras.losses.SparseCategoricalCrossentropy(from_logits=True),\n",
    "    metrics=[keras.metrics.SparseCategoricalAccuracy()],\n",
    ")\n",
    "\n",
    "# Train and evaluate teacher on data.\n",
    "teacher.fit(x_train, y_train, epochs=10)"
   ]
  },
  {
   "cell_type": "code",
   "execution_count": 11,
   "metadata": {},
   "outputs": [
    {
     "data": {
      "text/plain": [
       "0.001"
      ]
     },
     "execution_count": 11,
     "metadata": {},
     "output_type": "execute_result"
    }
   ],
   "source": [
    "teacher.optimizer.lr.numpy()"
   ]
  },
  {
   "cell_type": "code",
   "execution_count": 12,
   "metadata": {},
   "outputs": [
    {
     "name": "stdout",
     "output_type": "stream",
     "text": [
      "313/313 [==============================] - 0s 1ms/step - loss: 0.0934 - sparse_categorical_accuracy: 0.9735\n"
     ]
    },
    {
     "data": {
      "text/plain": [
       "[0.09335585683584213, 0.9735000133514404]"
      ]
     },
     "execution_count": 12,
     "metadata": {},
     "output_type": "execute_result"
    }
   ],
   "source": [
    "teacher.evaluate(x_test, y_test)"
   ]
  },
  {
   "cell_type": "code",
   "execution_count": 13,
   "metadata": {
    "scrolled": true
   },
   "outputs": [
    {
     "name": "stdout",
     "output_type": "stream",
     "text": [
      "Epoch 1/20\n",
      "1875/1875 [==============================] - 3s 2ms/step - sparse_categorical_accuracy: 0.8385 - student_loss: 0.5507 - distillation_loss: 6.7254 - lr: 0.0010\n",
      "Epoch 2/20\n",
      "1875/1875 [==============================] - 3s 2ms/step - sparse_categorical_accuracy: 0.9231 - student_loss: 0.2702 - distillation_loss: 2.8071 - lr: 0.0010\n",
      "Epoch 3/20\n",
      "1875/1875 [==============================] - 3s 2ms/step - sparse_categorical_accuracy: 0.9356 - student_loss: 0.2263 - distillation_loss: 2.2211 - lr: 0.0010\n",
      "Epoch 4/20\n",
      "1875/1875 [==============================] - 3s 2ms/step - sparse_categorical_accuracy: 0.9411 - student_loss: 0.2051 - distillation_loss: 1.9631 - lr: 0.0010\n",
      "Epoch 5/20\n",
      "1875/1875 [==============================] - 3s 2ms/step - sparse_categorical_accuracy: 0.9453 - student_loss: 0.1925 - distillation_loss: 1.8073 - lr: 0.0010\n",
      "Epoch 6/20\n",
      "1875/1875 [==============================] - 3s 2ms/step - sparse_categorical_accuracy: 0.9475 - student_loss: 0.1840 - distillation_loss: 1.7100 - lr: 0.0010\n",
      "Epoch 7/20\n",
      "1875/1875 [==============================] - 3s 2ms/step - sparse_categorical_accuracy: 0.9492 - student_loss: 0.1764 - distillation_loss: 1.6451 - lr: 0.0010\n",
      "Epoch 8/20\n",
      "1875/1875 [==============================] - 3s 2ms/step - sparse_categorical_accuracy: 0.9504 - student_loss: 0.1730 - distillation_loss: 1.5891 - lr: 0.0010\n",
      "Epoch 9/20\n",
      "1875/1875 [==============================] - 3s 2ms/step - sparse_categorical_accuracy: 0.9521 - student_loss: 0.1684 - distillation_loss: 1.5425 - lr: 0.0010\n",
      "Epoch 10/20\n",
      "1875/1875 [==============================] - 3s 2ms/step - sparse_categorical_accuracy: 0.9531 - student_loss: 0.1627 - distillation_loss: 1.5004 - lr: 0.0010\n",
      "Epoch 11/20\n",
      "1875/1875 [==============================] - 3s 2ms/step - sparse_categorical_accuracy: 0.9538 - student_loss: 0.1609 - distillation_loss: 1.4561 - lr: 9.0484e-04\n",
      "Epoch 12/20\n",
      "1875/1875 [==============================] - 3s 2ms/step - sparse_categorical_accuracy: 0.9546 - student_loss: 0.1590 - distillation_loss: 1.4245 - lr: 8.1873e-04\n",
      "Epoch 13/20\n",
      "1875/1875 [==============================] - 3s 2ms/step - sparse_categorical_accuracy: 0.9549 - student_loss: 0.1562 - distillation_loss: 1.3938 - lr: 7.4082e-04\n",
      "Epoch 14/20\n",
      "1875/1875 [==============================] - 3s 2ms/step - sparse_categorical_accuracy: 0.9562 - student_loss: 0.1541 - distillation_loss: 1.3722 - lr: 6.7032e-04\n",
      "Epoch 15/20\n",
      "1875/1875 [==============================] - 3s 2ms/step - sparse_categorical_accuracy: 0.9564 - student_loss: 0.1525 - distillation_loss: 1.3544 - lr: 6.0653e-04\n",
      "Epoch 16/20\n",
      "1875/1875 [==============================] - 3s 2ms/step - sparse_categorical_accuracy: 0.9560 - student_loss: 0.1508 - distillation_loss: 1.3378 - lr: 5.4881e-04\n",
      "Epoch 17/20\n",
      "1875/1875 [==============================] - 3s 2ms/step - sparse_categorical_accuracy: 0.9567 - student_loss: 0.1503 - distillation_loss: 1.3232 - lr: 4.9659e-04\n",
      "Epoch 18/20\n",
      "1875/1875 [==============================] - 3s 2ms/step - sparse_categorical_accuracy: 0.9573 - student_loss: 0.1486 - distillation_loss: 1.3114 - lr: 4.4933e-04\n",
      "Epoch 19/20\n",
      "1875/1875 [==============================] - 3s 2ms/step - sparse_categorical_accuracy: 0.9576 - student_loss: 0.1479 - distillation_loss: 1.3024 - lr: 4.0657e-04\n",
      "Epoch 20/20\n",
      "1875/1875 [==============================] - 3s 2ms/step - sparse_categorical_accuracy: 0.9577 - student_loss: 0.1472 - distillation_loss: 1.2927 - lr: 3.6788e-04\n"
     ]
    },
    {
     "data": {
      "text/plain": [
       "<tensorflow.python.keras.callbacks.History at 0x7f4b525b8100>"
      ]
     },
     "execution_count": 13,
     "metadata": {},
     "output_type": "execute_result"
    }
   ],
   "source": [
    "\"\"\"\n",
    "## Distill teacher to student\n",
    "We have already trained the teacher model, and we only need to initialize a\n",
    "`Distiller(student, teacher)` instance, `compile()` it with the desired losses,\n",
    "hyperparameters and optimizer, and distill the teacher to the student.\n",
    "\"\"\"\n",
    "\n",
    "# Initialize and compile distiller\n",
    "distiller = Distiller(student=student, teacher=teacher)\n",
    "distiller.compile(\n",
    "    optimizer=keras.optimizers.Adam(),\n",
    "    metrics=[keras.metrics.SparseCategoricalAccuracy()],\n",
    "    student_loss_fn=keras.losses.SparseCategoricalCrossentropy(from_logits=True),\n",
    "    distillation_loss_fn=keras.losses.MeanSquaredError(),\n",
    "    alpha=0.1,\n",
    "    temperature=10,\n",
    ")\n",
    "def scheduler(epoch, lr):\n",
    "    if epoch < 10:\n",
    "        return lr\n",
    "    else:\n",
    "        return lr * tf.math.exp(-0.1)\n",
    "callback = keras.callbacks.LearningRateScheduler(scheduler)\n",
    "# Distill teacher to student\n",
    "distiller.fit(x_train, y_train, epochs=20, callbacks=[callback])"
   ]
  },
  {
   "cell_type": "code",
   "execution_count": 14,
   "metadata": {},
   "outputs": [
    {
     "name": "stdout",
     "output_type": "stream",
     "text": [
      "Epoch 1/20\n",
      "1875/1875 [==============================] - 3s 2ms/step - sparse_categorical_accuracy: 0.9579 - student_loss: 0.1460 - distillation_loss: 1.2863 - lr: 3.6788e-04\n",
      "Epoch 2/20\n",
      "1875/1875 [==============================] - 3s 2ms/step - sparse_categorical_accuracy: 0.9579 - student_loss: 0.1461 - distillation_loss: 1.2841 - lr: 3.6788e-04\n",
      "Epoch 3/20\n",
      "1875/1875 [==============================] - 3s 2ms/step - sparse_categorical_accuracy: 0.9583 - student_loss: 0.1456 - distillation_loss: 1.2800 - lr: 3.6788e-04\n",
      "Epoch 4/20\n",
      "1875/1875 [==============================] - 3s 2ms/step - sparse_categorical_accuracy: 0.9586 - student_loss: 0.1454 - distillation_loss: 1.2769 - lr: 3.6788e-04\n",
      "Epoch 5/20\n",
      "1875/1875 [==============================] - 3s 2ms/step - sparse_categorical_accuracy: 0.9586 - student_loss: 0.1449 - distillation_loss: 1.2730 - lr: 3.6788e-04\n",
      "Epoch 6/20\n",
      "1875/1875 [==============================] - 3s 2ms/step - sparse_categorical_accuracy: 0.9587 - student_loss: 0.1447 - distillation_loss: 1.2690 - lr: 3.6788e-04\n",
      "Epoch 7/20\n",
      "1875/1875 [==============================] - 3s 2ms/step - sparse_categorical_accuracy: 0.9586 - student_loss: 0.1441 - distillation_loss: 1.2662 - lr: 3.6788e-04\n",
      "Epoch 8/20\n",
      "1875/1875 [==============================] - 3s 2ms/step - sparse_categorical_accuracy: 0.9584 - student_loss: 0.1441 - distillation_loss: 1.2633 - lr: 3.6788e-04\n",
      "Epoch 9/20\n",
      "1875/1875 [==============================] - 3s 2ms/step - sparse_categorical_accuracy: 0.9589 - student_loss: 0.1434 - distillation_loss: 1.2612 - lr: 3.6788e-04\n",
      "Epoch 10/20\n",
      "1875/1875 [==============================] - 3s 2ms/step - sparse_categorical_accuracy: 0.9589 - student_loss: 0.1438 - distillation_loss: 1.2579 - lr: 3.6788e-04\n",
      "Epoch 11/20\n",
      "1875/1875 [==============================] - 3s 2ms/step - sparse_categorical_accuracy: 0.9588 - student_loss: 0.1427 - distillation_loss: 1.2512 - lr: 3.3287e-04\n",
      "Epoch 12/20\n",
      "1875/1875 [==============================] - 3s 2ms/step - sparse_categorical_accuracy: 0.9587 - student_loss: 0.1424 - distillation_loss: 1.2455 - lr: 3.0119e-04\n",
      "Epoch 13/20\n",
      "1875/1875 [==============================] - 3s 2ms/step - sparse_categorical_accuracy: 0.9592 - student_loss: 0.1418 - distillation_loss: 1.2417 - lr: 2.7253e-04\n",
      "Epoch 14/20\n",
      "1875/1875 [==============================] - 3s 2ms/step - sparse_categorical_accuracy: 0.9595 - student_loss: 0.1414 - distillation_loss: 1.2363 - lr: 2.4660e-04\n",
      "Epoch 15/20\n",
      "1875/1875 [==============================] - 3s 2ms/step - sparse_categorical_accuracy: 0.9592 - student_loss: 0.1411 - distillation_loss: 1.2319 - lr: 2.2313e-04\n",
      "Epoch 16/20\n",
      "1875/1875 [==============================] - 3s 2ms/step - sparse_categorical_accuracy: 0.9593 - student_loss: 0.1408 - distillation_loss: 1.2287 - lr: 2.0190e-04\n",
      "Epoch 17/20\n",
      "1875/1875 [==============================] - 3s 2ms/step - sparse_categorical_accuracy: 0.9591 - student_loss: 0.1404 - distillation_loss: 1.2255 - lr: 1.8268e-04\n",
      "Epoch 18/20\n",
      "1875/1875 [==============================] - 3s 2ms/step - sparse_categorical_accuracy: 0.9597 - student_loss: 0.1402 - distillation_loss: 1.2216 - lr: 1.6530e-04\n",
      "Epoch 19/20\n",
      "1875/1875 [==============================] - 3s 2ms/step - sparse_categorical_accuracy: 0.9596 - student_loss: 0.1401 - distillation_loss: 1.2190 - lr: 1.4957e-04\n",
      "Epoch 20/20\n",
      "1875/1875 [==============================] - 3s 2ms/step - sparse_categorical_accuracy: 0.9594 - student_loss: 0.1401 - distillation_loss: 1.2165 - lr: 1.3534e-04\n"
     ]
    },
    {
     "data": {
      "text/plain": [
       "<tensorflow.python.keras.callbacks.History at 0x7f4b48448760>"
      ]
     },
     "execution_count": 14,
     "metadata": {},
     "output_type": "execute_result"
    }
   ],
   "source": [
    "def scheduler(epoch, lr):\n",
    "    if epoch < 10:\n",
    "        return lr\n",
    "    else:\n",
    "        return lr * tf.math.exp(-0.1)\n",
    "callback = keras.callbacks.LearningRateScheduler(scheduler)\n",
    "# Distill teacher to student\n",
    "distiller.fit(x_train, y_train, epochs=20, callbacks=[callback])"
   ]
  },
  {
   "cell_type": "code",
   "execution_count": 15,
   "metadata": {},
   "outputs": [
    {
     "name": "stdout",
     "output_type": "stream",
     "text": [
      "313/313 [==============================] - 0s 1ms/step - sparse_categorical_accuracy: 0.9596 - student_loss: 0.1448\n"
     ]
    },
    {
     "data": {
      "text/plain": [
       "0.9595999717712402"
      ]
     },
     "execution_count": 15,
     "metadata": {},
     "output_type": "execute_result"
    }
   ],
   "source": [
    "# Evaluate student on test dataset\n",
    "distiller.evaluate(x_test, y_test)"
   ]
  },
  {
   "cell_type": "code",
   "execution_count": 16,
   "metadata": {},
   "outputs": [],
   "source": [
    "teacher.save(\"mnist8x8_100_80_60_40_20_10_eps1.h5\")"
   ]
  },
  {
   "cell_type": "code",
   "execution_count": 17,
   "metadata": {},
   "outputs": [],
   "source": [
    "student.save(\"mnist8x8_100_80_60_40_20_10_eps1-mirror.h5\")"
   ]
  },
  {
   "cell_type": "code",
   "execution_count": 18,
   "metadata": {},
   "outputs": [],
   "source": [
    "from tensorflow.python.keras.models import load_model\n",
    "import onnx\n",
    "import keras2onnx"
   ]
  },
  {
   "cell_type": "code",
   "execution_count": 19,
   "metadata": {},
   "outputs": [
    {
     "name": "stderr",
     "output_type": "stream",
     "text": [
      "tf executing eager_mode: True\n",
      "tf.keras model eager_mode: False\n",
      "The ONNX operator number change on the optimization: 22 -> 17\n",
      "The maximum opset needed by this model is only 9.\n"
     ]
    }
   ],
   "source": [
    "model = load_model('mnist8x8_100_80_60_40_20_10_eps1.h5')\n",
    "onnx_model = keras2onnx.convert_keras(model, model.name)\n",
    "onnx.save_model(onnx_model, \"mnist8x8_100_80_60_40_20_10_eps1.onnx\")"
   ]
  },
  {
   "cell_type": "code",
   "execution_count": 20,
   "metadata": {},
   "outputs": [
    {
     "name": "stdout",
     "output_type": "stream",
     "text": [
      "WARNING:tensorflow:No training configuration found in the save file, so the model was *not* compiled. Compile it manually.\n"
     ]
    },
    {
     "name": "stderr",
     "output_type": "stream",
     "text": [
      "tf executing eager_mode: True\n",
      "tf.keras model eager_mode: False\n",
      "The ONNX operator number change on the optimization: 13 -> 8\n",
      "The maximum opset needed by this model is only 9.\n"
     ]
    }
   ],
   "source": [
    "model = load_model('mnist8x8_100_80_60_40_20_10_eps1-mirror.h5')\n",
    "onnx_model = keras2onnx.convert_keras(model, model.name)\n",
    "onnx.save_model(onnx_model, \"mnist8x8_100_80_60_40_20_10_eps1-mirror.onnx\")"
   ]
  },
  {
   "cell_type": "markdown",
   "metadata": {},
   "source": [
    "Note: The student network was trained for a total of 30 epochs!\n"
   ]
  },
  {
   "cell_type": "code",
   "execution_count": 71,
   "metadata": {
    "scrolled": true
   },
   "outputs": [
    {
     "name": "stdout",
     "output_type": "stream",
     "text": [
      "WARNING:tensorflow:No training configuration found in the save file, so the model was *not* compiled. Compile it manually.\n",
      "True\n",
      "[[-440.28275   216.44778   248.75108   407.42728  -185.77899    14.428975\n",
      "  -505.653     117.48717    23.33815  -311.39465 ]]\n",
      "[[-146.83609  -150.80287    94.99972   243.09435  -368.1465   -213.94551\n",
      "  -328.0137    -70.71278   -53.830566 -466.51904 ]]\n"
     ]
    }
   ],
   "source": [
    "#point = [0.0, 0.01, 8.005, 14.005, 14.995, 13.995, 7.005, 0.01, 0.0, 0.0, 6.995, 7.995, 8.995, 14.995, 8.005, 0.0, 0.01, 0.0, 0.0, 0.01, 5.005, 13.995, 2.995, 0.0, 0.0, 0.0, 5.005, 9.005, 13.995, 13.005, 4.005, 0.0, 0.0, 1.005, 10.005, 14.005, 14.995, 12.005, 4.005, 0.01, 0.0, 0.0, 2.005, 13.005, 8.005, 1.995, 0.0, 0.01, 0.0, 0.0, 5.995, 14.995, 2.005, 0.01, 0.0, 0.01, 0.01, 0.0, 9.995, 9.995, 0.01, 0.01, 0.01, 0.01]\n",
    "#point = [0.0, 0.01, 8.005, 14.005, 14.995, 13.995, 7.005, 0.01, 0.0, 0.0, 6.995, 7.995, 8.995, 14.995, 8.005, 0.0, 0.01, 0.0, 0.0, 0.01, 5.005, 13.995, 2.995, 0.0, 0.0, 0.0, 5.005, 9.005, 13.995, 13.005, 4.005, 0.0, 0.0, 1.005, 10.005, 14.005, 14.995, 12.005, 4.005, 0.01, 0.0, 0.0, 2.005, 13.005, 8.005, 1.995, 0.0, 0.01, 0.0, 0.0, 5.995, 14.995, 2.005, 0.01, 0.0, 0.01, 0.01, 0.0, 9.995, 9.995, 0.01, 0.01, 0.01, 0.01]\n",
    "#point = [0.0, 0.01, 8.005, 14.005, 14.995, 13.995, 7.005, 0.01, 0.0, 0.0, 6.995, 7.995, 8.995, 14.995, 8.005, 0.0, 0.01, 0.0, 0.0, 0.01, 5.005, 13.995, 2.995, 0.0, 0.0, 0.0, 5.005, 9.005, 13.995, 13.005, 4.005, 0.0, 0.0, 1.005, 10.005, 14.005, 14.995, 12.005, 4.005, 0.01, 0.0, 0.0, 2.005, 13.005, 8.005, 1.995, 0.0, 0.01, 0.0, 0.0, 5.995, 14.995, 2.005, 0.01, 0.0, 0.01, 0.01, 0.0, 9.995, 9.995, 0.01, 0.01, 0.01, 0.01]\n",
    "point = [0.1, 0.1, 7.95, 14.05, 14.95, 14.05, 6.95, 0.1, 0.0, 0.1, 6.95, 8.05, 9.05, 14.95, 8.05, 0.1, 0.1, 0.0, 0.1, 0.1, 5.05, 14.05, 2.95, 0.0, 0.1, 0.0, 4.95, 9.05, 14.05, 12.95, 4.05, 0.0, 0.0, 1.05, 9.95, 14.05, 14.95, 12.05, 4.05, 0.1, 0.1, 0.1, 2.05, 13.05, 8.05, 2.05, 0.0, 0.1, 0.0, 0.0, 6.05, 15.05, 2.05, 0.0, 0.1, 0.1, 0.1, 0.1, 9.95, 10.05, 0.1, 0.1, 0.1, 0.0]\n",
    "teacher1 = load_model('mnist8x8_100_80_60_40_20_10.h5')\n",
    "student1 = load_model('mnist8x8_100_80_60_40_20_10-mirror.h5')\n",
    "p1=teacher1.predict(np.array([point]))\n",
    "p2=student1.predict(np.array([point]))\n",
    "print(np.argmax(p1)==np.argmax(p2))\n",
    "print(p1)\n",
    "print(p2)\n"
   ]
  },
  {
   "cell_type": "markdown",
   "metadata": {},
   "source": [
    "# Equivalence Properties\n",
    "It seems that the `9200.e` properties with `e<5` are top 1 equivalent.\n",
    "`9000*` and `9100*` on the other hand are not top 1 equivalent"
   ]
  },
  {
   "cell_type": "code",
   "execution_count": null,
   "metadata": {},
   "outputs": [],
   "source": []
  }
 ],
 "metadata": {
  "kernelspec": {
   "display_name": "nnequiv",
   "language": "python",
   "name": "nnequiv"
  },
  "language_info": {
   "codemirror_mode": {
    "name": "ipython",
    "version": 3
   },
   "file_extension": ".py",
   "mimetype": "text/x-python",
   "name": "python",
   "nbconvert_exporter": "python",
   "pygments_lexer": "ipython3",
   "version": "3.8.5"
  }
 },
 "nbformat": 4,
 "nbformat_minor": 2
}
