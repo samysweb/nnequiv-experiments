{
 "cells": [
  {
   "cell_type": "code",
   "execution_count": 1,
   "metadata": {},
   "outputs": [],
   "source": [
    "\"\"\"\n",
    "Title: Knowledge Distillation\n",
    "Author: [Kenneth Borup](https://twitter.com/Kennethborup)\n",
    "Date created: 2020/09/01\n",
    "Last modified: 2020/09/01\n",
    "Description: Implementation of classical Knowledge Distillation.\n",
    "\"\"\"\n",
    "\n",
    "\"\"\"\n",
    "## Introduction to Knowledge Distillation\n",
    "Knowledge Distillation is a procedure for model\n",
    "compression, in which a small (student) model is trained to match a large pre-trained\n",
    "(teacher) model. Knowledge is transferred from the teacher model to the student\n",
    "by minimizing a loss function, aimed at matching softened teacher logits as well as\n",
    "ground-truth labels.\n",
    "The logits are softened by applying a \"temperature\" scaling function in the softmax,\n",
    "effectively smoothing out the probability distribution and revealing\n",
    "inter-class relationships learned by the teacher.\n",
    "**Reference:**\n",
    "- [Hinton et al. (2015)](https://arxiv.org/abs/1503.02531)\n",
    "\"\"\"\n",
    "\n",
    "\"\"\"\n",
    "## Setup\n",
    "\"\"\"\n",
    "\n",
    "import tensorflow as tf\n",
    "from tensorflow import keras\n",
    "from tensorflow.keras import layers\n",
    "import numpy as np"
   ]
  },
  {
   "cell_type": "code",
   "execution_count": 2,
   "metadata": {},
   "outputs": [],
   "source": [
    "\"\"\"\n",
    "## Prepare the dataset\n",
    "The dataset used for training the teacher and distilling the teacher is\n",
    "[MNIST](https://keras.io/api/datasets/mnist/), and the procedure would be equivalent for any other\n",
    "dataset, e.g. [CIFAR-10](https://keras.io/api/datasets/cifar10/), with a suitable choice\n",
    "of models. Both the student and teacher are trained on the training set and evaluated on\n",
    "the test set.\n",
    "\"\"\"\n",
    "\n",
    "# Prepare the train and test dataset.\n",
    "batch_size = 64\n",
    "(x_train, y_train), (x_test, y_test) = keras.datasets.mnist.load_data()"
   ]
  },
  {
   "cell_type": "code",
   "execution_count": 3,
   "metadata": {},
   "outputs": [],
   "source": [
    "from skimage.transform import resize\n",
    "\n",
    "def resize_img(data):\n",
    "    output = np.zeros((data.shape[0],64))\n",
    "    for i, img in enumerate(data):\n",
    "        output[i]=resize(img, (8,8)).flatten()\n",
    "    return output\n",
    "\n",
    "x_train_small = resize_img(x_train)\n",
    "y_train_small = resize_img(y_train)\n",
    "x_test_small = resize_img(x_test)\n",
    "y_test_small = resize_img(y_test)\n",
    "\n",
    "\n",
    "#bottle_resized = resize(bottle, (140, 54))"
   ]
  },
  {
   "cell_type": "code",
   "execution_count": 4,
   "metadata": {},
   "outputs": [],
   "source": [
    "# Normalize data\n",
    "x_train = x_train_small.astype(\"float32\") * 16.0\n",
    "x_train = np.reshape(x_train, (-1, 64))\n",
    "\n",
    "x_test = x_test_small.astype(\"float32\") * 16.0\n",
    "x_test = np.reshape(x_test, (-1, 64))"
   ]
  },
  {
   "cell_type": "code",
   "execution_count": 5,
   "metadata": {},
   "outputs": [
    {
     "data": {
      "text/plain": [
       "15.87451"
      ]
     },
     "execution_count": 5,
     "metadata": {},
     "output_type": "execute_result"
    }
   ],
   "source": [
    "np.max(x_test)"
   ]
  },
  {
   "cell_type": "markdown",
   "metadata": {},
   "source": [
    "Taken from [this tutorial](https://github.com/keras-team/keras-io/blob/master/examples/vision/knowledge_distillation.py)"
   ]
  },
  {
   "cell_type": "code",
   "execution_count": 6,
   "metadata": {},
   "outputs": [],
   "source": [
    "\"\"\"\n",
    "## Construct `Distiller()` class\n",
    "The custom `Distiller()` class, overrides the `Model` methods `train_step`, `test_step`,\n",
    "and `compile()`. In order to use the distiller, we need:\n",
    "- A trained teacher model\n",
    "- A student model to train\n",
    "- A student loss function on the difference between student predictions and ground-truth\n",
    "- A distillation loss function, along with a `temperature`, on the difference between the\n",
    "soft student predictions and the soft teacher labels\n",
    "- An `alpha` factor to weight the student and distillation loss\n",
    "- An optimizer for the student and (optional) metrics to evaluate performance\n",
    "In the `train_step` method, we perform a forward pass of both the teacher and student,\n",
    "calculate the loss with weighting of the `student_loss` and `distillation_loss` by `alpha` and\n",
    "`1 - alpha`, respectively, and perform the backward pass. Note: only the student weights are updated,\n",
    "and therefore we only calculate the gradients for the student weights.\n",
    "In the `test_step` method, we evaluate the student model on the provided dataset.\n",
    "\"\"\"\n",
    "\n",
    "\n",
    "class Distiller(keras.Model):\n",
    "    def __init__(self, student, teacher):\n",
    "        super(Distiller, self).__init__()\n",
    "        self.teacher = teacher\n",
    "        self.student = student\n",
    "\n",
    "    def compile(\n",
    "        self,\n",
    "        optimizer,\n",
    "        metrics,\n",
    "        student_loss_fn,\n",
    "        distillation_loss_fn,\n",
    "        alpha=0.1,\n",
    "        temperature=3,\n",
    "    ):\n",
    "        \"\"\" Configure the distiller.\n",
    "        Args:\n",
    "            optimizer: Keras optimizer for the student weights\n",
    "            metrics: Keras metrics for evaluation\n",
    "            student_loss_fn: Loss function of difference between student\n",
    "                predictions and ground-truth\n",
    "            distillation_loss_fn: Loss function of difference between soft\n",
    "                student predictions and soft teacher predictions\n",
    "            alpha: weight to student_loss_fn and 1-alpha to distillation_loss_fn\n",
    "            temperature: Temperature for softening probability distributions.\n",
    "                Larger temperature gives softer distributions.\n",
    "        \"\"\"\n",
    "        super(Distiller, self).compile(optimizer=optimizer, metrics=metrics)\n",
    "        self.student_loss_fn = student_loss_fn\n",
    "        self.distillation_loss_fn = distillation_loss_fn\n",
    "        self.alpha = alpha\n",
    "        self.temperature = temperature\n",
    "\n",
    "    def train_step(self, data):\n",
    "        # Unpack data\n",
    "        x, y = data\n",
    "\n",
    "        # Forward pass of teacher\n",
    "        teacher_predictions = self.teacher(x, training=False)\n",
    "\n",
    "        with tf.GradientTape() as tape:\n",
    "            # Forward pass of student\n",
    "            student_predictions = self.student(x, training=True)\n",
    "\n",
    "            # Compute losses\n",
    "            student_loss = self.student_loss_fn(y, student_predictions)\n",
    "            distillation_loss = self.distillation_loss_fn(\n",
    "                teacher_predictions,\n",
    "                student_predictions,\n",
    "            )\n",
    "            loss = distillation_loss\n",
    "\n",
    "        # Compute gradients\n",
    "        trainable_vars = self.student.trainable_variables\n",
    "        gradients = tape.gradient(loss, trainable_vars)\n",
    "\n",
    "        # Update weights\n",
    "        self.optimizer.apply_gradients(zip(gradients, trainable_vars))\n",
    "\n",
    "        # Update the metrics configured in `compile()`.\n",
    "        self.compiled_metrics.update_state(y, student_predictions)\n",
    "\n",
    "        # Return a dict of performance\n",
    "        results = {m.name: m.result() for m in self.metrics}\n",
    "        results.update(\n",
    "            {\"student_loss\": student_loss, \"distillation_loss\": distillation_loss}\n",
    "        )\n",
    "        return results\n",
    "\n",
    "    def test_step(self, data):\n",
    "        # Unpack the data\n",
    "        x, y = data\n",
    "\n",
    "        # Compute predictions\n",
    "        y_prediction = self.student(x, training=False)\n",
    "\n",
    "        # Calculate the loss\n",
    "        student_loss = self.student_loss_fn(y, y_prediction)\n",
    "\n",
    "        # Update the metrics.\n",
    "        self.compiled_metrics.update_state(y, y_prediction)\n",
    "\n",
    "        # Return a dict of performance\n",
    "        results = {m.name: m.result() for m in self.metrics}\n",
    "        results.update({\"student_loss\": student_loss})\n",
    "        return results"
   ]
  },
  {
   "cell_type": "code",
   "execution_count": 7,
   "metadata": {},
   "outputs": [],
   "source": [
    "\"\"\"\n",
    "## Create student and teacher models\n",
    "Initialy, we create a teacher model and a smaller student model. Both models are\n",
    "convolutional neural networks and created using `Sequential()`,\n",
    "but could be any Keras model.\n",
    "\"\"\"\n",
    "\n",
    "# Create the teacher\n",
    "teacher = keras.Sequential(\n",
    "    [\n",
    "        keras.Input(shape=(64,)),\n",
    "        layers.Dense(100, activation='relu'),\n",
    "        layers.Dense(80, activation='relu'),\n",
    "        layers.Dense(60, activation='relu'),\n",
    "        layers.Dense(40, activation='relu'),\n",
    "        layers.Dense(20, activation='relu'),\n",
    "        layers.Dense(10),\n",
    "    ],\n",
    "    name=\"teacher\",\n",
    ")\n",
    "\n",
    "# Create the student\n",
    "student = keras.Sequential(\n",
    "    [\n",
    "        keras.Input(shape=(64,)),\n",
    "        layers.Dense(40, activation='relu'),\n",
    "        layers.Dense(40, activation='relu'),\n",
    "        layers.Dense(10),\n",
    "    ],\n",
    "    name=\"student\",\n",
    ")\n",
    "\n",
    "# Clone student for later comparison\n",
    "student_scratch = keras.models.clone_model(student)"
   ]
  },
  {
   "cell_type": "code",
   "execution_count": 8,
   "metadata": {},
   "outputs": [
    {
     "name": "stdout",
     "output_type": "stream",
     "text": [
      "Epoch 1/10\n",
      "1875/1875 [==============================] - 3s 2ms/step - loss: 0.3218 - sparse_categorical_accuracy: 0.9029\n",
      "Epoch 2/10\n",
      "1875/1875 [==============================] - 3s 2ms/step - loss: 0.1587 - sparse_categorical_accuracy: 0.9521\n",
      "Epoch 3/10\n",
      "1875/1875 [==============================] - 3s 2ms/step - loss: 0.1299 - sparse_categorical_accuracy: 0.9608\n",
      "Epoch 4/10\n",
      "1875/1875 [==============================] - 3s 2ms/step - loss: 0.1142 - sparse_categorical_accuracy: 0.9649\n",
      "Epoch 5/10\n",
      "1875/1875 [==============================] - 3s 2ms/step - loss: 0.1004 - sparse_categorical_accuracy: 0.9694\n",
      "Epoch 6/10\n",
      "1875/1875 [==============================] - 3s 2ms/step - loss: 0.0934 - sparse_categorical_accuracy: 0.9710\n",
      "Epoch 7/10\n",
      "1875/1875 [==============================] - 3s 2ms/step - loss: 0.0838 - sparse_categorical_accuracy: 0.9744\n",
      "Epoch 8/10\n",
      "1875/1875 [==============================] - 3s 2ms/step - loss: 0.0769 - sparse_categorical_accuracy: 0.9758\n",
      "Epoch 9/10\n",
      "1875/1875 [==============================] - 3s 2ms/step - loss: 0.0744 - sparse_categorical_accuracy: 0.9765\n",
      "Epoch 10/10\n",
      "1875/1875 [==============================] - 3s 2ms/step - loss: 0.0709 - sparse_categorical_accuracy: 0.9777\n"
     ]
    },
    {
     "data": {
      "text/plain": [
       "<tensorflow.python.keras.callbacks.History at 0x7ff0ce07eb80>"
      ]
     },
     "execution_count": 8,
     "metadata": {},
     "output_type": "execute_result"
    }
   ],
   "source": [
    "\"\"\"\n",
    "## Train the teacher\n",
    "In knowledge distillation we assume that the teacher is trained and fixed. Thus, we start\n",
    "by training the teacher model on the training set in the usual way.\n",
    "\"\"\"\n",
    "\n",
    "# Train teacher as usual\n",
    "teacher.compile(\n",
    "    optimizer=keras.optimizers.Adam(),\n",
    "    loss=keras.losses.SparseCategoricalCrossentropy(from_logits=True),\n",
    "    metrics=[keras.metrics.SparseCategoricalAccuracy()],\n",
    ")\n",
    "\n",
    "# Train and evaluate teacher on data.\n",
    "teacher.fit(x_train, y_train, epochs=10)"
   ]
  },
  {
   "cell_type": "code",
   "execution_count": 9,
   "metadata": {},
   "outputs": [
    {
     "data": {
      "text/plain": [
       "0.001"
      ]
     },
     "execution_count": 9,
     "metadata": {},
     "output_type": "execute_result"
    }
   ],
   "source": [
    "teacher.optimizer.lr.numpy()"
   ]
  },
  {
   "cell_type": "code",
   "execution_count": 10,
   "metadata": {},
   "outputs": [
    {
     "name": "stdout",
     "output_type": "stream",
     "text": [
      "313/313 [==============================] - 0s 1ms/step - loss: 0.1015 - sparse_categorical_accuracy: 0.9695\n"
     ]
    },
    {
     "data": {
      "text/plain": [
       "[0.10153129696846008, 0.9695000052452087]"
      ]
     },
     "execution_count": 10,
     "metadata": {},
     "output_type": "execute_result"
    }
   ],
   "source": [
    "teacher.evaluate(x_test, y_test)"
   ]
  },
  {
   "cell_type": "code",
   "execution_count": 11,
   "metadata": {
    "scrolled": true
   },
   "outputs": [
    {
     "name": "stdout",
     "output_type": "stream",
     "text": [
      "Epoch 1/20\n",
      "1875/1875 [==============================] - 3s 2ms/step - sparse_categorical_accuracy: 0.8481 - student_loss: 0.5095 - distillation_loss: 6.1914 - lr: 0.0010\n",
      "Epoch 2/20\n",
      "1875/1875 [==============================] - 3s 1ms/step - sparse_categorical_accuracy: 0.9215 - student_loss: 0.2712 - distillation_loss: 2.7063 - lr: 0.0010\n",
      "Epoch 3/20\n",
      "1875/1875 [==============================] - 3s 1ms/step - sparse_categorical_accuracy: 0.9324 - student_loss: 0.2313 - distillation_loss: 2.1568 - lr: 0.0010\n",
      "Epoch 4/20\n",
      "1875/1875 [==============================] - 3s 1ms/step - sparse_categorical_accuracy: 0.9384 - student_loss: 0.2093 - distillation_loss: 1.8848 - lr: 0.0010\n",
      "Epoch 5/20\n",
      "1875/1875 [==============================] - 3s 1ms/step - sparse_categorical_accuracy: 0.9420 - student_loss: 0.1970 - distillation_loss: 1.7214 - lr: 0.0010\n",
      "Epoch 6/20\n",
      "1875/1875 [==============================] - 3s 2ms/step - sparse_categorical_accuracy: 0.9452 - student_loss: 0.1864 - distillation_loss: 1.6103 - lr: 0.0010\n",
      "Epoch 7/20\n",
      "1875/1875 [==============================] - 3s 1ms/step - sparse_categorical_accuracy: 0.9475 - student_loss: 0.1780 - distillation_loss: 1.5268 - lr: 0.0010\n",
      "Epoch 8/20\n",
      "1875/1875 [==============================] - 3s 1ms/step - sparse_categorical_accuracy: 0.9491 - student_loss: 0.1736 - distillation_loss: 1.4687 - lr: 0.0010\n",
      "Epoch 9/20\n",
      "1875/1875 [==============================] - 3s 1ms/step - sparse_categorical_accuracy: 0.9510 - student_loss: 0.1679 - distillation_loss: 1.4158 - lr: 0.0010\n",
      "Epoch 10/20\n",
      "1875/1875 [==============================] - 3s 2ms/step - sparse_categorical_accuracy: 0.9519 - student_loss: 0.1635 - distillation_loss: 1.3752 - lr: 0.0010\n",
      "Epoch 11/20\n",
      "1875/1875 [==============================] - 3s 2ms/step - sparse_categorical_accuracy: 0.9532 - student_loss: 0.1600 - distillation_loss: 1.3311 - lr: 9.0484e-04\n",
      "Epoch 12/20\n",
      "1875/1875 [==============================] - 3s 1ms/step - sparse_categorical_accuracy: 0.9538 - student_loss: 0.1573 - distillation_loss: 1.2954 - lr: 8.1873e-04\n",
      "Epoch 13/20\n",
      "1875/1875 [==============================] - 3s 1ms/step - sparse_categorical_accuracy: 0.9536 - student_loss: 0.1548 - distillation_loss: 1.2650 - lr: 7.4082e-04\n",
      "Epoch 14/20\n",
      "1875/1875 [==============================] - 3s 1ms/step - sparse_categorical_accuracy: 0.9556 - student_loss: 0.1520 - distillation_loss: 1.2417 - lr: 6.7032e-04\n",
      "Epoch 15/20\n",
      "1875/1875 [==============================] - 3s 1ms/step - sparse_categorical_accuracy: 0.9554 - student_loss: 0.1504 - distillation_loss: 1.2195 - lr: 6.0653e-04\n",
      "Epoch 16/20\n",
      "1875/1875 [==============================] - 3s 1ms/step - sparse_categorical_accuracy: 0.9561 - student_loss: 0.1489 - distillation_loss: 1.2013 - lr: 5.4881e-04\n",
      "Epoch 17/20\n",
      "1875/1875 [==============================] - 3s 2ms/step - sparse_categorical_accuracy: 0.9564 - student_loss: 0.1476 - distillation_loss: 1.1865 - lr: 4.9659e-04\n",
      "Epoch 18/20\n",
      "1875/1875 [==============================] - 3s 1ms/step - sparse_categorical_accuracy: 0.9563 - student_loss: 0.1463 - distillation_loss: 1.1726 - lr: 4.4933e-04\n",
      "Epoch 19/20\n",
      "1875/1875 [==============================] - 3s 1ms/step - sparse_categorical_accuracy: 0.9563 - student_loss: 0.1456 - distillation_loss: 1.1609 - lr: 4.0657e-04\n",
      "Epoch 20/20\n",
      "1875/1875 [==============================] - 3s 1ms/step - sparse_categorical_accuracy: 0.9570 - student_loss: 0.1445 - distillation_loss: 1.1510 - lr: 3.6788e-04\n"
     ]
    },
    {
     "data": {
      "text/plain": [
       "<tensorflow.python.keras.callbacks.History at 0x7ff0cdef55e0>"
      ]
     },
     "execution_count": 11,
     "metadata": {},
     "output_type": "execute_result"
    }
   ],
   "source": [
    "\"\"\"\n",
    "## Distill teacher to student\n",
    "We have already trained the teacher model, and we only need to initialize a\n",
    "`Distiller(student, teacher)` instance, `compile()` it with the desired losses,\n",
    "hyperparameters and optimizer, and distill the teacher to the student.\n",
    "\"\"\"\n",
    "\n",
    "# Initialize and compile distiller\n",
    "distiller = Distiller(student=student, teacher=teacher)\n",
    "distiller.compile(\n",
    "    optimizer=keras.optimizers.Adam(),\n",
    "    metrics=[keras.metrics.SparseCategoricalAccuracy()],\n",
    "    student_loss_fn=keras.losses.SparseCategoricalCrossentropy(from_logits=True),\n",
    "    distillation_loss_fn=keras.losses.MeanSquaredError(),\n",
    "    alpha=0.1,\n",
    "    temperature=10,\n",
    ")\n",
    "def scheduler(epoch, lr):\n",
    "    if epoch < 10:\n",
    "        return lr\n",
    "    else:\n",
    "        return lr * tf.math.exp(-0.1)\n",
    "callback = keras.callbacks.LearningRateScheduler(scheduler)\n",
    "# Distill teacher to student\n",
    "distiller.fit(x_train, y_train, epochs=20, callbacks=[callback])"
   ]
  },
  {
   "cell_type": "code",
   "execution_count": 12,
   "metadata": {},
   "outputs": [
    {
     "name": "stdout",
     "output_type": "stream",
     "text": [
      "Epoch 1/20\n",
      "1875/1875 [==============================] - 3s 2ms/step - sparse_categorical_accuracy: 0.9568 - student_loss: 0.1440 - distillation_loss: 1.1445 - lr: 3.6788e-04\n",
      "Epoch 2/20\n",
      "1875/1875 [==============================] - 3s 1ms/step - sparse_categorical_accuracy: 0.9571 - student_loss: 0.1427 - distillation_loss: 1.1378 - lr: 3.6788e-04\n",
      "Epoch 3/20\n",
      "1875/1875 [==============================] - 3s 1ms/step - sparse_categorical_accuracy: 0.9568 - student_loss: 0.1431 - distillation_loss: 1.1336 - lr: 3.6788e-04\n",
      "Epoch 4/20\n",
      "1875/1875 [==============================] - 3s 1ms/step - sparse_categorical_accuracy: 0.9568 - student_loss: 0.1430 - distillation_loss: 1.1305 - lr: 3.6788e-04\n",
      "Epoch 5/20\n",
      "1875/1875 [==============================] - 3s 1ms/step - sparse_categorical_accuracy: 0.9572 - student_loss: 0.1418 - distillation_loss: 1.1236 - lr: 3.6788e-04\n",
      "Epoch 6/20\n",
      "1875/1875 [==============================] - 3s 2ms/step - sparse_categorical_accuracy: 0.9571 - student_loss: 0.1417 - distillation_loss: 1.1206 - lr: 3.6788e-04\n",
      "Epoch 7/20\n",
      "1875/1875 [==============================] - 3s 2ms/step - sparse_categorical_accuracy: 0.9573 - student_loss: 0.1408 - distillation_loss: 1.1154 - lr: 3.6788e-04\n",
      "Epoch 8/20\n",
      "1875/1875 [==============================] - 3s 2ms/step - sparse_categorical_accuracy: 0.9574 - student_loss: 0.1408 - distillation_loss: 1.1113 - lr: 3.6788e-04\n",
      "Epoch 9/20\n",
      "1875/1875 [==============================] - 3s 2ms/step - sparse_categorical_accuracy: 0.9575 - student_loss: 0.1406 - distillation_loss: 1.1079 - lr: 3.6788e-04\n",
      "Epoch 10/20\n",
      "1875/1875 [==============================] - 3s 2ms/step - sparse_categorical_accuracy: 0.9575 - student_loss: 0.1397 - distillation_loss: 1.1041 - lr: 3.6788e-04\n",
      "Epoch 11/20\n",
      "1875/1875 [==============================] - 3s 2ms/step - sparse_categorical_accuracy: 0.9582 - student_loss: 0.1394 - distillation_loss: 1.0969 - lr: 3.3287e-04\n",
      "Epoch 12/20\n",
      "1875/1875 [==============================] - 3s 2ms/step - sparse_categorical_accuracy: 0.9577 - student_loss: 0.1390 - distillation_loss: 1.0916 - lr: 3.0119e-04\n",
      "Epoch 13/20\n",
      "1875/1875 [==============================] - 3s 2ms/step - sparse_categorical_accuracy: 0.9581 - student_loss: 0.1387 - distillation_loss: 1.0857 - lr: 2.7253e-04\n",
      "Epoch 14/20\n",
      "1875/1875 [==============================] - 3s 2ms/step - sparse_categorical_accuracy: 0.9578 - student_loss: 0.1384 - distillation_loss: 1.0810 - lr: 2.4660e-04\n",
      "Epoch 15/20\n",
      "1875/1875 [==============================] - 3s 2ms/step - sparse_categorical_accuracy: 0.9577 - student_loss: 0.1379 - distillation_loss: 1.0758 - lr: 2.2313e-04\n",
      "Epoch 16/20\n",
      "1875/1875 [==============================] - 3s 2ms/step - sparse_categorical_accuracy: 0.9582 - student_loss: 0.1375 - distillation_loss: 1.0724 - lr: 2.0190e-04\n",
      "Epoch 17/20\n",
      "1875/1875 [==============================] - 3s 2ms/step - sparse_categorical_accuracy: 0.9579 - student_loss: 0.1372 - distillation_loss: 1.0686 - lr: 1.8268e-04\n",
      "Epoch 18/20\n",
      "1875/1875 [==============================] - 3s 2ms/step - sparse_categorical_accuracy: 0.9584 - student_loss: 0.1372 - distillation_loss: 1.0656 - lr: 1.6530e-04\n",
      "Epoch 19/20\n",
      "1875/1875 [==============================] - 3s 2ms/step - sparse_categorical_accuracy: 0.9583 - student_loss: 0.1373 - distillation_loss: 1.0634 - lr: 1.4957e-04\n",
      "Epoch 20/20\n",
      "1875/1875 [==============================] - 3s 2ms/step - sparse_categorical_accuracy: 0.9581 - student_loss: 0.1370 - distillation_loss: 1.0602 - lr: 1.3534e-04\n"
     ]
    },
    {
     "data": {
      "text/plain": [
       "<tensorflow.python.keras.callbacks.History at 0x7ff094736df0>"
      ]
     },
     "execution_count": 12,
     "metadata": {},
     "output_type": "execute_result"
    }
   ],
   "source": [
    "def scheduler(epoch, lr):\n",
    "    if epoch < 10:\n",
    "        return lr\n",
    "    else:\n",
    "        return lr * tf.math.exp(-0.1)\n",
    "callback = keras.callbacks.LearningRateScheduler(scheduler)\n",
    "# Distill teacher to student\n",
    "distiller.fit(x_train, y_train, epochs=20, callbacks=[callback])"
   ]
  },
  {
   "cell_type": "code",
   "execution_count": 13,
   "metadata": {},
   "outputs": [
    {
     "name": "stdout",
     "output_type": "stream",
     "text": [
      "313/313 [==============================] - 0s 1ms/step - sparse_categorical_accuracy: 0.9583 - student_loss: 0.1508\n"
     ]
    },
    {
     "data": {
      "text/plain": [
       "0.958299994468689"
      ]
     },
     "execution_count": 13,
     "metadata": {},
     "output_type": "execute_result"
    }
   ],
   "source": [
    "# Evaluate student on test dataset\n",
    "distiller.evaluate(x_test, y_test)"
   ]
  },
  {
   "cell_type": "code",
   "execution_count": 14,
   "metadata": {},
   "outputs": [],
   "source": [
    "teacher.save(\"mnist8x8_100_80_60_40_20_10_eps1.h5\")"
   ]
  },
  {
   "cell_type": "code",
   "execution_count": 15,
   "metadata": {},
   "outputs": [],
   "source": [
    "student.save(\"mnist8x8_100_80_60_40_20_10_eps1-mirror.h5\")"
   ]
  },
  {
   "cell_type": "code",
   "execution_count": 16,
   "metadata": {},
   "outputs": [],
   "source": [
    "from tensorflow.python.keras.models import load_model\n",
    "import onnx\n",
    "import keras2onnx"
   ]
  },
  {
   "cell_type": "code",
   "execution_count": 17,
   "metadata": {},
   "outputs": [
    {
     "name": "stderr",
     "output_type": "stream",
     "text": [
      "tf executing eager_mode: True\n",
      "tf.keras model eager_mode: False\n",
      "The ONNX operator number change on the optimization: 22 -> 17\n",
      "The maximum opset needed by this model is only 9.\n"
     ]
    }
   ],
   "source": [
    "model = load_model('mnist8x8_100_80_60_40_20_10_eps1.h5')\n",
    "onnx_model = keras2onnx.convert_keras(model, model.name)\n",
    "onnx.save_model(onnx_model, \"mnist8x8_100_80_60_40_20_10_eps1.onnx\")"
   ]
  },
  {
   "cell_type": "code",
   "execution_count": 18,
   "metadata": {},
   "outputs": [
    {
     "name": "stdout",
     "output_type": "stream",
     "text": [
      "WARNING:tensorflow:No training configuration found in the save file, so the model was *not* compiled. Compile it manually.\n"
     ]
    },
    {
     "name": "stderr",
     "output_type": "stream",
     "text": [
      "tf executing eager_mode: True\n",
      "tf.keras model eager_mode: False\n",
      "The ONNX operator number change on the optimization: 13 -> 8\n",
      "The maximum opset needed by this model is only 9.\n"
     ]
    }
   ],
   "source": [
    "model = load_model('mnist8x8_100_80_60_40_20_10_eps1-mirror.h5')\n",
    "onnx_model = keras2onnx.convert_keras(model, model.name)\n",
    "onnx.save_model(onnx_model, \"mnist8x8_100_80_60_40_20_10_eps1-mirror.onnx\")"
   ]
  },
  {
   "cell_type": "markdown",
   "metadata": {},
   "source": [
    "Note: The student network was trained for a total of 30 epochs!\n"
   ]
  },
  {
   "cell_type": "code",
   "execution_count": 19,
   "metadata": {
    "scrolled": true
   },
   "outputs": [
    {
     "ename": "OSError",
     "evalue": "SavedModel file does not exist at: mnist8x8_100_80_60_40_20_10.h5/{saved_model.pbtxt|saved_model.pb}",
     "output_type": "error",
     "traceback": [
      "\u001b[0;31m---------------------------------------------------------------------------\u001b[0m",
      "\u001b[0;31mOSError\u001b[0m                                   Traceback (most recent call last)",
      "\u001b[0;32m<ipython-input-19-3706e88c19ff>\u001b[0m in \u001b[0;36m<module>\u001b[0;34m\u001b[0m\n\u001b[1;32m      3\u001b[0m \u001b[0;31m#point = [0.0, 0.01, 8.005, 14.005, 14.995, 13.995, 7.005, 0.01, 0.0, 0.0, 6.995, 7.995, 8.995, 14.995, 8.005, 0.0, 0.01, 0.0, 0.0, 0.01, 5.005, 13.995, 2.995, 0.0, 0.0, 0.0, 5.005, 9.005, 13.995, 13.005, 4.005, 0.0, 0.0, 1.005, 10.005, 14.005, 14.995, 12.005, 4.005, 0.01, 0.0, 0.0, 2.005, 13.005, 8.005, 1.995, 0.0, 0.01, 0.0, 0.0, 5.995, 14.995, 2.005, 0.01, 0.0, 0.01, 0.01, 0.0, 9.995, 9.995, 0.01, 0.01, 0.01, 0.01]\u001b[0m\u001b[0;34m\u001b[0m\u001b[0;34m\u001b[0m\u001b[0;34m\u001b[0m\u001b[0m\n\u001b[1;32m      4\u001b[0m \u001b[0mpoint\u001b[0m \u001b[0;34m=\u001b[0m \u001b[0;34m[\u001b[0m\u001b[0;36m0.1\u001b[0m\u001b[0;34m,\u001b[0m \u001b[0;36m0.1\u001b[0m\u001b[0;34m,\u001b[0m \u001b[0;36m7.95\u001b[0m\u001b[0;34m,\u001b[0m \u001b[0;36m14.05\u001b[0m\u001b[0;34m,\u001b[0m \u001b[0;36m14.95\u001b[0m\u001b[0;34m,\u001b[0m \u001b[0;36m14.05\u001b[0m\u001b[0;34m,\u001b[0m \u001b[0;36m6.95\u001b[0m\u001b[0;34m,\u001b[0m \u001b[0;36m0.1\u001b[0m\u001b[0;34m,\u001b[0m \u001b[0;36m0.0\u001b[0m\u001b[0;34m,\u001b[0m \u001b[0;36m0.1\u001b[0m\u001b[0;34m,\u001b[0m \u001b[0;36m6.95\u001b[0m\u001b[0;34m,\u001b[0m \u001b[0;36m8.05\u001b[0m\u001b[0;34m,\u001b[0m \u001b[0;36m9.05\u001b[0m\u001b[0;34m,\u001b[0m \u001b[0;36m14.95\u001b[0m\u001b[0;34m,\u001b[0m \u001b[0;36m8.05\u001b[0m\u001b[0;34m,\u001b[0m \u001b[0;36m0.1\u001b[0m\u001b[0;34m,\u001b[0m \u001b[0;36m0.1\u001b[0m\u001b[0;34m,\u001b[0m \u001b[0;36m0.0\u001b[0m\u001b[0;34m,\u001b[0m \u001b[0;36m0.1\u001b[0m\u001b[0;34m,\u001b[0m \u001b[0;36m0.1\u001b[0m\u001b[0;34m,\u001b[0m \u001b[0;36m5.05\u001b[0m\u001b[0;34m,\u001b[0m \u001b[0;36m14.05\u001b[0m\u001b[0;34m,\u001b[0m \u001b[0;36m2.95\u001b[0m\u001b[0;34m,\u001b[0m \u001b[0;36m0.0\u001b[0m\u001b[0;34m,\u001b[0m \u001b[0;36m0.1\u001b[0m\u001b[0;34m,\u001b[0m \u001b[0;36m0.0\u001b[0m\u001b[0;34m,\u001b[0m \u001b[0;36m4.95\u001b[0m\u001b[0;34m,\u001b[0m \u001b[0;36m9.05\u001b[0m\u001b[0;34m,\u001b[0m \u001b[0;36m14.05\u001b[0m\u001b[0;34m,\u001b[0m \u001b[0;36m12.95\u001b[0m\u001b[0;34m,\u001b[0m \u001b[0;36m4.05\u001b[0m\u001b[0;34m,\u001b[0m \u001b[0;36m0.0\u001b[0m\u001b[0;34m,\u001b[0m \u001b[0;36m0.0\u001b[0m\u001b[0;34m,\u001b[0m \u001b[0;36m1.05\u001b[0m\u001b[0;34m,\u001b[0m \u001b[0;36m9.95\u001b[0m\u001b[0;34m,\u001b[0m \u001b[0;36m14.05\u001b[0m\u001b[0;34m,\u001b[0m \u001b[0;36m14.95\u001b[0m\u001b[0;34m,\u001b[0m \u001b[0;36m12.05\u001b[0m\u001b[0;34m,\u001b[0m \u001b[0;36m4.05\u001b[0m\u001b[0;34m,\u001b[0m \u001b[0;36m0.1\u001b[0m\u001b[0;34m,\u001b[0m \u001b[0;36m0.1\u001b[0m\u001b[0;34m,\u001b[0m \u001b[0;36m0.1\u001b[0m\u001b[0;34m,\u001b[0m \u001b[0;36m2.05\u001b[0m\u001b[0;34m,\u001b[0m \u001b[0;36m13.05\u001b[0m\u001b[0;34m,\u001b[0m \u001b[0;36m8.05\u001b[0m\u001b[0;34m,\u001b[0m \u001b[0;36m2.05\u001b[0m\u001b[0;34m,\u001b[0m \u001b[0;36m0.0\u001b[0m\u001b[0;34m,\u001b[0m \u001b[0;36m0.1\u001b[0m\u001b[0;34m,\u001b[0m \u001b[0;36m0.0\u001b[0m\u001b[0;34m,\u001b[0m \u001b[0;36m0.0\u001b[0m\u001b[0;34m,\u001b[0m \u001b[0;36m6.05\u001b[0m\u001b[0;34m,\u001b[0m \u001b[0;36m15.05\u001b[0m\u001b[0;34m,\u001b[0m \u001b[0;36m2.05\u001b[0m\u001b[0;34m,\u001b[0m \u001b[0;36m0.0\u001b[0m\u001b[0;34m,\u001b[0m \u001b[0;36m0.1\u001b[0m\u001b[0;34m,\u001b[0m \u001b[0;36m0.1\u001b[0m\u001b[0;34m,\u001b[0m \u001b[0;36m0.1\u001b[0m\u001b[0;34m,\u001b[0m \u001b[0;36m0.1\u001b[0m\u001b[0;34m,\u001b[0m \u001b[0;36m9.95\u001b[0m\u001b[0;34m,\u001b[0m \u001b[0;36m10.05\u001b[0m\u001b[0;34m,\u001b[0m \u001b[0;36m0.1\u001b[0m\u001b[0;34m,\u001b[0m \u001b[0;36m0.1\u001b[0m\u001b[0;34m,\u001b[0m \u001b[0;36m0.1\u001b[0m\u001b[0;34m,\u001b[0m \u001b[0;36m0.0\u001b[0m\u001b[0;34m]\u001b[0m\u001b[0;34m\u001b[0m\u001b[0;34m\u001b[0m\u001b[0m\n\u001b[0;32m----> 5\u001b[0;31m \u001b[0mteacher1\u001b[0m \u001b[0;34m=\u001b[0m \u001b[0mload_model\u001b[0m\u001b[0;34m(\u001b[0m\u001b[0;34m'mnist8x8_100_80_60_40_20_10.h5'\u001b[0m\u001b[0;34m)\u001b[0m\u001b[0;34m\u001b[0m\u001b[0;34m\u001b[0m\u001b[0m\n\u001b[0m\u001b[1;32m      6\u001b[0m \u001b[0mstudent1\u001b[0m \u001b[0;34m=\u001b[0m \u001b[0mload_model\u001b[0m\u001b[0;34m(\u001b[0m\u001b[0;34m'mnist8x8_100_80_60_40_20_10-mirror.h5'\u001b[0m\u001b[0;34m)\u001b[0m\u001b[0;34m\u001b[0m\u001b[0;34m\u001b[0m\u001b[0m\n\u001b[1;32m      7\u001b[0m \u001b[0mp1\u001b[0m\u001b[0;34m=\u001b[0m\u001b[0mteacher1\u001b[0m\u001b[0;34m.\u001b[0m\u001b[0mpredict\u001b[0m\u001b[0;34m(\u001b[0m\u001b[0mnp\u001b[0m\u001b[0;34m.\u001b[0m\u001b[0marray\u001b[0m\u001b[0;34m(\u001b[0m\u001b[0;34m[\u001b[0m\u001b[0mpoint\u001b[0m\u001b[0;34m]\u001b[0m\u001b[0;34m)\u001b[0m\u001b[0;34m)\u001b[0m\u001b[0;34m\u001b[0m\u001b[0;34m\u001b[0m\u001b[0m\n",
      "\u001b[0;32m~/anaconda3/envs/nnequiv/lib/python3.8/site-packages/tensorflow/python/keras/saving/save.py\u001b[0m in \u001b[0;36mload_model\u001b[0;34m(filepath, custom_objects, compile)\u001b[0m\n\u001b[1;32m    187\u001b[0m       \u001b[0mfilepath\u001b[0m \u001b[0;34m=\u001b[0m \u001b[0mstr\u001b[0m\u001b[0;34m(\u001b[0m\u001b[0mfilepath\u001b[0m\u001b[0;34m)\u001b[0m\u001b[0;34m\u001b[0m\u001b[0;34m\u001b[0m\u001b[0m\n\u001b[1;32m    188\u001b[0m     \u001b[0;32mif\u001b[0m \u001b[0misinstance\u001b[0m\u001b[0;34m(\u001b[0m\u001b[0mfilepath\u001b[0m\u001b[0;34m,\u001b[0m \u001b[0msix\u001b[0m\u001b[0;34m.\u001b[0m\u001b[0mstring_types\u001b[0m\u001b[0;34m)\u001b[0m\u001b[0;34m:\u001b[0m\u001b[0;34m\u001b[0m\u001b[0;34m\u001b[0m\u001b[0m\n\u001b[0;32m--> 189\u001b[0;31m       \u001b[0mloader_impl\u001b[0m\u001b[0;34m.\u001b[0m\u001b[0mparse_saved_model\u001b[0m\u001b[0;34m(\u001b[0m\u001b[0mfilepath\u001b[0m\u001b[0;34m)\u001b[0m\u001b[0;34m\u001b[0m\u001b[0;34m\u001b[0m\u001b[0m\n\u001b[0m\u001b[1;32m    190\u001b[0m       \u001b[0;32mreturn\u001b[0m \u001b[0msaved_model_load\u001b[0m\u001b[0;34m.\u001b[0m\u001b[0mload\u001b[0m\u001b[0;34m(\u001b[0m\u001b[0mfilepath\u001b[0m\u001b[0;34m,\u001b[0m \u001b[0mcompile\u001b[0m\u001b[0;34m)\u001b[0m\u001b[0;34m\u001b[0m\u001b[0;34m\u001b[0m\u001b[0m\n\u001b[1;32m    191\u001b[0m \u001b[0;34m\u001b[0m\u001b[0m\n",
      "\u001b[0;32m~/anaconda3/envs/nnequiv/lib/python3.8/site-packages/tensorflow/python/saved_model/loader_impl.py\u001b[0m in \u001b[0;36mparse_saved_model\u001b[0;34m(export_dir)\u001b[0m\n\u001b[1;32m    108\u001b[0m       \u001b[0;32mraise\u001b[0m \u001b[0mIOError\u001b[0m\u001b[0;34m(\u001b[0m\u001b[0;34m\"Cannot parse file %s: %s.\"\u001b[0m \u001b[0;34m%\u001b[0m \u001b[0;34m(\u001b[0m\u001b[0mpath_to_pbtxt\u001b[0m\u001b[0;34m,\u001b[0m \u001b[0mstr\u001b[0m\u001b[0;34m(\u001b[0m\u001b[0me\u001b[0m\u001b[0;34m)\u001b[0m\u001b[0;34m)\u001b[0m\u001b[0;34m)\u001b[0m\u001b[0;34m\u001b[0m\u001b[0;34m\u001b[0m\u001b[0m\n\u001b[1;32m    109\u001b[0m   \u001b[0;32melse\u001b[0m\u001b[0;34m:\u001b[0m\u001b[0;34m\u001b[0m\u001b[0;34m\u001b[0m\u001b[0m\n\u001b[0;32m--> 110\u001b[0;31m     raise IOError(\"SavedModel file does not exist at: %s/{%s|%s}\" %\n\u001b[0m\u001b[1;32m    111\u001b[0m                   (export_dir,\n\u001b[1;32m    112\u001b[0m                    \u001b[0mconstants\u001b[0m\u001b[0;34m.\u001b[0m\u001b[0mSAVED_MODEL_FILENAME_PBTXT\u001b[0m\u001b[0;34m,\u001b[0m\u001b[0;34m\u001b[0m\u001b[0;34m\u001b[0m\u001b[0m\n",
      "\u001b[0;31mOSError\u001b[0m: SavedModel file does not exist at: mnist8x8_100_80_60_40_20_10.h5/{saved_model.pbtxt|saved_model.pb}"
     ]
    }
   ],
   "source": [
    "#point = [0.0, 0.01, 8.005, 14.005, 14.995, 13.995, 7.005, 0.01, 0.0, 0.0, 6.995, 7.995, 8.995, 14.995, 8.005, 0.0, 0.01, 0.0, 0.0, 0.01, 5.005, 13.995, 2.995, 0.0, 0.0, 0.0, 5.005, 9.005, 13.995, 13.005, 4.005, 0.0, 0.0, 1.005, 10.005, 14.005, 14.995, 12.005, 4.005, 0.01, 0.0, 0.0, 2.005, 13.005, 8.005, 1.995, 0.0, 0.01, 0.0, 0.0, 5.995, 14.995, 2.005, 0.01, 0.0, 0.01, 0.01, 0.0, 9.995, 9.995, 0.01, 0.01, 0.01, 0.01]\n",
    "#point = [0.0, 0.01, 8.005, 14.005, 14.995, 13.995, 7.005, 0.01, 0.0, 0.0, 6.995, 7.995, 8.995, 14.995, 8.005, 0.0, 0.01, 0.0, 0.0, 0.01, 5.005, 13.995, 2.995, 0.0, 0.0, 0.0, 5.005, 9.005, 13.995, 13.005, 4.005, 0.0, 0.0, 1.005, 10.005, 14.005, 14.995, 12.005, 4.005, 0.01, 0.0, 0.0, 2.005, 13.005, 8.005, 1.995, 0.0, 0.01, 0.0, 0.0, 5.995, 14.995, 2.005, 0.01, 0.0, 0.01, 0.01, 0.0, 9.995, 9.995, 0.01, 0.01, 0.01, 0.01]\n",
    "#point = [0.0, 0.01, 8.005, 14.005, 14.995, 13.995, 7.005, 0.01, 0.0, 0.0, 6.995, 7.995, 8.995, 14.995, 8.005, 0.0, 0.01, 0.0, 0.0, 0.01, 5.005, 13.995, 2.995, 0.0, 0.0, 0.0, 5.005, 9.005, 13.995, 13.005, 4.005, 0.0, 0.0, 1.005, 10.005, 14.005, 14.995, 12.005, 4.005, 0.01, 0.0, 0.0, 2.005, 13.005, 8.005, 1.995, 0.0, 0.01, 0.0, 0.0, 5.995, 14.995, 2.005, 0.01, 0.0, 0.01, 0.01, 0.0, 9.995, 9.995, 0.01, 0.01, 0.01, 0.01]\n",
    "point = [0.1, 0.1, 7.95, 14.05, 14.95, 14.05, 6.95, 0.1, 0.0, 0.1, 6.95, 8.05, 9.05, 14.95, 8.05, 0.1, 0.1, 0.0, 0.1, 0.1, 5.05, 14.05, 2.95, 0.0, 0.1, 0.0, 4.95, 9.05, 14.05, 12.95, 4.05, 0.0, 0.0, 1.05, 9.95, 14.05, 14.95, 12.05, 4.05, 0.1, 0.1, 0.1, 2.05, 13.05, 8.05, 2.05, 0.0, 0.1, 0.0, 0.0, 6.05, 15.05, 2.05, 0.0, 0.1, 0.1, 0.1, 0.1, 9.95, 10.05, 0.1, 0.1, 0.1, 0.0]\n",
    "teacher1 = load_model('mnist8x8_100_80_60_40_20_10.h5')\n",
    "student1 = load_model('mnist8x8_100_80_60_40_20_10-mirror.h5')\n",
    "p1=teacher1.predict(np.array([point]))\n",
    "p2=student1.predict(np.array([point]))\n",
    "print(np.argmax(p1)==np.argmax(p2))\n",
    "print(p1)\n",
    "print(p2)\n"
   ]
  },
  {
   "cell_type": "markdown",
   "metadata": {},
   "source": [
    "# Equivalence Properties\n",
    "It seems that the `9200.e` properties with `e<5` are top 1 equivalent.\n",
    "`9000*` and `9100*` on the other hand are not top 1 equivalent"
   ]
  },
  {
   "cell_type": "code",
   "execution_count": null,
   "metadata": {},
   "outputs": [],
   "source": []
  }
 ],
 "metadata": {
  "kernelspec": {
   "display_name": "nnequiv",
   "language": "python",
   "name": "nnequiv"
  },
  "language_info": {
   "codemirror_mode": {
    "name": "ipython",
    "version": 3
   },
   "file_extension": ".py",
   "mimetype": "text/x-python",
   "name": "python",
   "nbconvert_exporter": "python",
   "pygments_lexer": "ipython3",
   "version": "3.8.5"
  }
 },
 "nbformat": 4,
 "nbformat_minor": 2
}
